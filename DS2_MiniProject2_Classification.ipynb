{
 "cells": [
  {
   "cell_type": "markdown",
   "id": "bccb7fed",
   "metadata": {},
   "source": [
    "##### Importing Important Libraries"
   ]
  },
  {
   "cell_type": "code",
   "execution_count": 1,
   "id": "7637309d",
   "metadata": {},
   "outputs": [],
   "source": [
    "import numpy as np\n",
    "import pandas as pd\n",
    "import matplotlib.pyplot as plt\n",
    "import seaborn as sb"
   ]
  },
  {
   "cell_type": "code",
   "execution_count": 92,
   "id": "ba7cc733",
   "metadata": {},
   "outputs": [],
   "source": [
    "import warnings\n",
    "warnings.filterwarnings('ignore')"
   ]
  },
  {
   "cell_type": "code",
   "execution_count": 69,
   "id": "733d2b28",
   "metadata": {},
   "outputs": [],
   "source": [
    "from sklearn import preprocessing\n",
    "from sklearn.preprocessing import LabelEncoder\n",
    "from sklearn.preprocessing import MinMaxScaler"
   ]
  },
  {
   "cell_type": "code",
   "execution_count": 82,
   "id": "400f77ee",
   "metadata": {},
   "outputs": [],
   "source": [
    "from sklearn.model_selection import train_test_split"
   ]
  },
  {
   "cell_type": "code",
   "execution_count": 139,
   "id": "6f682f3b",
   "metadata": {},
   "outputs": [],
   "source": [
    "from sklearn.linear_model import LogisticRegression\n",
    "from sklearn.metrics import confusion_matrix\n",
    "from sklearn.metrics import recall_score\n",
    "from sklearn.metrics import f1_score\n",
    "from sklearn.metrics import accuracy_score\n",
    "from sklearn.metrics import precision_score\n",
    "from sklearn.metrics import classification_report\n",
    "from sklearn.metrics import roc_curve\n",
    "from sklearn.metrics import roc_auc_score"
   ]
  },
  {
   "cell_type": "code",
   "execution_count": 119,
   "id": "2a52ab43",
   "metadata": {},
   "outputs": [],
   "source": [
    "from sklearn.naive_bayes import GaussianNB"
   ]
  },
  {
   "cell_type": "code",
   "execution_count": 145,
   "id": "d1b5b1b6",
   "metadata": {},
   "outputs": [],
   "source": [
    "from sklearn.tree import DecisionTreeClassifier"
   ]
  },
  {
   "cell_type": "code",
   "execution_count": 164,
   "id": "9b2e86e2",
   "metadata": {},
   "outputs": [],
   "source": [
    "from sklearn.ensemble import RandomForestClassifier"
   ]
  },
  {
   "cell_type": "code",
   "execution_count": 200,
   "id": "302bae73",
   "metadata": {},
   "outputs": [],
   "source": [
    "from sklearn.neighbors import KNeighborsClassifier"
   ]
  },
  {
   "cell_type": "markdown",
   "id": "18d3dced",
   "metadata": {},
   "source": [
    "### Reading Data"
   ]
  },
  {
   "cell_type": "code",
   "execution_count": 2,
   "id": "167dd6ed",
   "metadata": {},
   "outputs": [],
   "source": [
    "df=pd.read_csv('DS3_C6_S2_Classification_BankChurn_Data_Project.csv')"
   ]
  },
  {
   "cell_type": "code",
   "execution_count": 3,
   "id": "0e23225d",
   "metadata": {},
   "outputs": [
    {
     "data": {
      "text/html": [
       "<div>\n",
       "<style scoped>\n",
       "    .dataframe tbody tr th:only-of-type {\n",
       "        vertical-align: middle;\n",
       "    }\n",
       "\n",
       "    .dataframe tbody tr th {\n",
       "        vertical-align: top;\n",
       "    }\n",
       "\n",
       "    .dataframe thead th {\n",
       "        text-align: right;\n",
       "    }\n",
       "</style>\n",
       "<table border=\"1\" class=\"dataframe\">\n",
       "  <thead>\n",
       "    <tr style=\"text-align: right;\">\n",
       "      <th></th>\n",
       "      <th>CustomerId</th>\n",
       "      <th>Surname</th>\n",
       "      <th>CreditScore</th>\n",
       "      <th>Geography</th>\n",
       "      <th>Gender</th>\n",
       "      <th>Age</th>\n",
       "      <th>Tenure</th>\n",
       "      <th>Balance</th>\n",
       "      <th>NumOfProducts</th>\n",
       "      <th>HasCrCard</th>\n",
       "      <th>IsActiveMember</th>\n",
       "      <th>EstimatedSalary</th>\n",
       "      <th>Exited</th>\n",
       "    </tr>\n",
       "  </thead>\n",
       "  <tbody>\n",
       "    <tr>\n",
       "      <th>0</th>\n",
       "      <td>15634602</td>\n",
       "      <td>Hargrave</td>\n",
       "      <td>619</td>\n",
       "      <td>France</td>\n",
       "      <td>Female</td>\n",
       "      <td>42</td>\n",
       "      <td>2</td>\n",
       "      <td>0.00</td>\n",
       "      <td>1</td>\n",
       "      <td>1</td>\n",
       "      <td>1</td>\n",
       "      <td>101348.88</td>\n",
       "      <td>1</td>\n",
       "    </tr>\n",
       "    <tr>\n",
       "      <th>1</th>\n",
       "      <td>15647311</td>\n",
       "      <td>Hill</td>\n",
       "      <td>608</td>\n",
       "      <td>Spain</td>\n",
       "      <td>Female</td>\n",
       "      <td>41</td>\n",
       "      <td>1</td>\n",
       "      <td>83807.86</td>\n",
       "      <td>1</td>\n",
       "      <td>0</td>\n",
       "      <td>1</td>\n",
       "      <td>112542.58</td>\n",
       "      <td>0</td>\n",
       "    </tr>\n",
       "    <tr>\n",
       "      <th>2</th>\n",
       "      <td>15619304</td>\n",
       "      <td>Onio</td>\n",
       "      <td>502</td>\n",
       "      <td>France</td>\n",
       "      <td>Female</td>\n",
       "      <td>42</td>\n",
       "      <td>8</td>\n",
       "      <td>159660.80</td>\n",
       "      <td>3</td>\n",
       "      <td>1</td>\n",
       "      <td>0</td>\n",
       "      <td>113931.57</td>\n",
       "      <td>1</td>\n",
       "    </tr>\n",
       "    <tr>\n",
       "      <th>3</th>\n",
       "      <td>15701354</td>\n",
       "      <td>Boni</td>\n",
       "      <td>699</td>\n",
       "      <td>France</td>\n",
       "      <td>Female</td>\n",
       "      <td>39</td>\n",
       "      <td>1</td>\n",
       "      <td>0.00</td>\n",
       "      <td>2</td>\n",
       "      <td>0</td>\n",
       "      <td>0</td>\n",
       "      <td>93826.63</td>\n",
       "      <td>0</td>\n",
       "    </tr>\n",
       "    <tr>\n",
       "      <th>4</th>\n",
       "      <td>15737888</td>\n",
       "      <td>Mitchell</td>\n",
       "      <td>850</td>\n",
       "      <td>Spain</td>\n",
       "      <td>Female</td>\n",
       "      <td>43</td>\n",
       "      <td>2</td>\n",
       "      <td>125510.82</td>\n",
       "      <td>1</td>\n",
       "      <td>1</td>\n",
       "      <td>1</td>\n",
       "      <td>79084.10</td>\n",
       "      <td>0</td>\n",
       "    </tr>\n",
       "  </tbody>\n",
       "</table>\n",
       "</div>"
      ],
      "text/plain": [
       "   CustomerId   Surname  CreditScore Geography  Gender  Age  Tenure  \\\n",
       "0    15634602  Hargrave          619    France  Female   42       2   \n",
       "1    15647311      Hill          608     Spain  Female   41       1   \n",
       "2    15619304      Onio          502    France  Female   42       8   \n",
       "3    15701354      Boni          699    France  Female   39       1   \n",
       "4    15737888  Mitchell          850     Spain  Female   43       2   \n",
       "\n",
       "     Balance  NumOfProducts  HasCrCard  IsActiveMember  EstimatedSalary  \\\n",
       "0       0.00              1          1               1        101348.88   \n",
       "1   83807.86              1          0               1        112542.58   \n",
       "2  159660.80              3          1               0        113931.57   \n",
       "3       0.00              2          0               0         93826.63   \n",
       "4  125510.82              1          1               1         79084.10   \n",
       "\n",
       "   Exited  \n",
       "0       1  \n",
       "1       0  \n",
       "2       1  \n",
       "3       0  \n",
       "4       0  "
      ]
     },
     "execution_count": 3,
     "metadata": {},
     "output_type": "execute_result"
    }
   ],
   "source": [
    "df.head()"
   ]
  },
  {
   "cell_type": "code",
   "execution_count": 4,
   "id": "e7b61236",
   "metadata": {},
   "outputs": [],
   "source": [
    "# Since we do not need certain columns like Customerid, Surname we shall drop these columns"
   ]
  },
  {
   "cell_type": "code",
   "execution_count": 5,
   "id": "532f895b",
   "metadata": {},
   "outputs": [],
   "source": [
    "df.drop(['CustomerId','Surname'],axis=1,inplace=True)"
   ]
  },
  {
   "cell_type": "code",
   "execution_count": 7,
   "id": "6e1f1dc7",
   "metadata": {},
   "outputs": [
    {
     "data": {
      "text/html": [
       "<div>\n",
       "<style scoped>\n",
       "    .dataframe tbody tr th:only-of-type {\n",
       "        vertical-align: middle;\n",
       "    }\n",
       "\n",
       "    .dataframe tbody tr th {\n",
       "        vertical-align: top;\n",
       "    }\n",
       "\n",
       "    .dataframe thead th {\n",
       "        text-align: right;\n",
       "    }\n",
       "</style>\n",
       "<table border=\"1\" class=\"dataframe\">\n",
       "  <thead>\n",
       "    <tr style=\"text-align: right;\">\n",
       "      <th></th>\n",
       "      <th>CreditScore</th>\n",
       "      <th>Geography</th>\n",
       "      <th>Gender</th>\n",
       "      <th>Age</th>\n",
       "      <th>Tenure</th>\n",
       "      <th>Balance</th>\n",
       "      <th>NumOfProducts</th>\n",
       "      <th>HasCrCard</th>\n",
       "      <th>IsActiveMember</th>\n",
       "      <th>EstimatedSalary</th>\n",
       "      <th>Exited</th>\n",
       "    </tr>\n",
       "  </thead>\n",
       "  <tbody>\n",
       "    <tr>\n",
       "      <th>0</th>\n",
       "      <td>619</td>\n",
       "      <td>France</td>\n",
       "      <td>Female</td>\n",
       "      <td>42</td>\n",
       "      <td>2</td>\n",
       "      <td>0.00</td>\n",
       "      <td>1</td>\n",
       "      <td>1</td>\n",
       "      <td>1</td>\n",
       "      <td>101348.88</td>\n",
       "      <td>1</td>\n",
       "    </tr>\n",
       "    <tr>\n",
       "      <th>1</th>\n",
       "      <td>608</td>\n",
       "      <td>Spain</td>\n",
       "      <td>Female</td>\n",
       "      <td>41</td>\n",
       "      <td>1</td>\n",
       "      <td>83807.86</td>\n",
       "      <td>1</td>\n",
       "      <td>0</td>\n",
       "      <td>1</td>\n",
       "      <td>112542.58</td>\n",
       "      <td>0</td>\n",
       "    </tr>\n",
       "    <tr>\n",
       "      <th>2</th>\n",
       "      <td>502</td>\n",
       "      <td>France</td>\n",
       "      <td>Female</td>\n",
       "      <td>42</td>\n",
       "      <td>8</td>\n",
       "      <td>159660.80</td>\n",
       "      <td>3</td>\n",
       "      <td>1</td>\n",
       "      <td>0</td>\n",
       "      <td>113931.57</td>\n",
       "      <td>1</td>\n",
       "    </tr>\n",
       "    <tr>\n",
       "      <th>3</th>\n",
       "      <td>699</td>\n",
       "      <td>France</td>\n",
       "      <td>Female</td>\n",
       "      <td>39</td>\n",
       "      <td>1</td>\n",
       "      <td>0.00</td>\n",
       "      <td>2</td>\n",
       "      <td>0</td>\n",
       "      <td>0</td>\n",
       "      <td>93826.63</td>\n",
       "      <td>0</td>\n",
       "    </tr>\n",
       "    <tr>\n",
       "      <th>4</th>\n",
       "      <td>850</td>\n",
       "      <td>Spain</td>\n",
       "      <td>Female</td>\n",
       "      <td>43</td>\n",
       "      <td>2</td>\n",
       "      <td>125510.82</td>\n",
       "      <td>1</td>\n",
       "      <td>1</td>\n",
       "      <td>1</td>\n",
       "      <td>79084.10</td>\n",
       "      <td>0</td>\n",
       "    </tr>\n",
       "  </tbody>\n",
       "</table>\n",
       "</div>"
      ],
      "text/plain": [
       "   CreditScore Geography  Gender  Age  Tenure    Balance  NumOfProducts  \\\n",
       "0          619    France  Female   42       2       0.00              1   \n",
       "1          608     Spain  Female   41       1   83807.86              1   \n",
       "2          502    France  Female   42       8  159660.80              3   \n",
       "3          699    France  Female   39       1       0.00              2   \n",
       "4          850     Spain  Female   43       2  125510.82              1   \n",
       "\n",
       "   HasCrCard  IsActiveMember  EstimatedSalary  Exited  \n",
       "0          1               1        101348.88       1  \n",
       "1          0               1        112542.58       0  \n",
       "2          1               0        113931.57       1  \n",
       "3          0               0         93826.63       0  \n",
       "4          1               1         79084.10       0  "
      ]
     },
     "execution_count": 7,
     "metadata": {},
     "output_type": "execute_result"
    }
   ],
   "source": [
    "df.head()"
   ]
  },
  {
   "cell_type": "code",
   "execution_count": 8,
   "id": "82ff0bf8",
   "metadata": {},
   "outputs": [
    {
     "data": {
      "text/plain": [
       "(10000, 11)"
      ]
     },
     "execution_count": 8,
     "metadata": {},
     "output_type": "execute_result"
    }
   ],
   "source": [
    "df.shape"
   ]
  },
  {
   "cell_type": "code",
   "execution_count": 9,
   "id": "fba53cbc",
   "metadata": {},
   "outputs": [
    {
     "name": "stdout",
     "output_type": "stream",
     "text": [
      "<class 'pandas.core.frame.DataFrame'>\n",
      "RangeIndex: 10000 entries, 0 to 9999\n",
      "Data columns (total 11 columns):\n",
      " #   Column           Non-Null Count  Dtype  \n",
      "---  ------           --------------  -----  \n",
      " 0   CreditScore      10000 non-null  int64  \n",
      " 1   Geography        10000 non-null  object \n",
      " 2   Gender           10000 non-null  object \n",
      " 3   Age              10000 non-null  int64  \n",
      " 4   Tenure           10000 non-null  int64  \n",
      " 5   Balance          10000 non-null  float64\n",
      " 6   NumOfProducts    10000 non-null  int64  \n",
      " 7   HasCrCard        10000 non-null  int64  \n",
      " 8   IsActiveMember   10000 non-null  int64  \n",
      " 9   EstimatedSalary  10000 non-null  float64\n",
      " 10  Exited           10000 non-null  int64  \n",
      "dtypes: float64(2), int64(7), object(2)\n",
      "memory usage: 859.5+ KB\n"
     ]
    }
   ],
   "source": [
    "df.info()"
   ]
  },
  {
   "cell_type": "code",
   "execution_count": 10,
   "id": "ad16d976",
   "metadata": {},
   "outputs": [
    {
     "data": {
      "text/html": [
       "<div>\n",
       "<style scoped>\n",
       "    .dataframe tbody tr th:only-of-type {\n",
       "        vertical-align: middle;\n",
       "    }\n",
       "\n",
       "    .dataframe tbody tr th {\n",
       "        vertical-align: top;\n",
       "    }\n",
       "\n",
       "    .dataframe thead th {\n",
       "        text-align: right;\n",
       "    }\n",
       "</style>\n",
       "<table border=\"1\" class=\"dataframe\">\n",
       "  <thead>\n",
       "    <tr style=\"text-align: right;\">\n",
       "      <th></th>\n",
       "      <th>CreditScore</th>\n",
       "      <th>Age</th>\n",
       "      <th>Tenure</th>\n",
       "      <th>Balance</th>\n",
       "      <th>NumOfProducts</th>\n",
       "      <th>HasCrCard</th>\n",
       "      <th>IsActiveMember</th>\n",
       "      <th>EstimatedSalary</th>\n",
       "      <th>Exited</th>\n",
       "    </tr>\n",
       "  </thead>\n",
       "  <tbody>\n",
       "    <tr>\n",
       "      <th>count</th>\n",
       "      <td>10000.000000</td>\n",
       "      <td>10000.000000</td>\n",
       "      <td>10000.000000</td>\n",
       "      <td>10000.000000</td>\n",
       "      <td>10000.000000</td>\n",
       "      <td>10000.00000</td>\n",
       "      <td>10000.000000</td>\n",
       "      <td>10000.000000</td>\n",
       "      <td>10000.000000</td>\n",
       "    </tr>\n",
       "    <tr>\n",
       "      <th>mean</th>\n",
       "      <td>650.528800</td>\n",
       "      <td>38.921800</td>\n",
       "      <td>5.012800</td>\n",
       "      <td>76485.889288</td>\n",
       "      <td>1.530200</td>\n",
       "      <td>0.70550</td>\n",
       "      <td>0.515100</td>\n",
       "      <td>100090.239881</td>\n",
       "      <td>0.203700</td>\n",
       "    </tr>\n",
       "    <tr>\n",
       "      <th>std</th>\n",
       "      <td>96.653299</td>\n",
       "      <td>10.487806</td>\n",
       "      <td>2.892174</td>\n",
       "      <td>62397.405202</td>\n",
       "      <td>0.581654</td>\n",
       "      <td>0.45584</td>\n",
       "      <td>0.499797</td>\n",
       "      <td>57510.492818</td>\n",
       "      <td>0.402769</td>\n",
       "    </tr>\n",
       "    <tr>\n",
       "      <th>min</th>\n",
       "      <td>350.000000</td>\n",
       "      <td>18.000000</td>\n",
       "      <td>0.000000</td>\n",
       "      <td>0.000000</td>\n",
       "      <td>1.000000</td>\n",
       "      <td>0.00000</td>\n",
       "      <td>0.000000</td>\n",
       "      <td>11.580000</td>\n",
       "      <td>0.000000</td>\n",
       "    </tr>\n",
       "    <tr>\n",
       "      <th>25%</th>\n",
       "      <td>584.000000</td>\n",
       "      <td>32.000000</td>\n",
       "      <td>3.000000</td>\n",
       "      <td>0.000000</td>\n",
       "      <td>1.000000</td>\n",
       "      <td>0.00000</td>\n",
       "      <td>0.000000</td>\n",
       "      <td>51002.110000</td>\n",
       "      <td>0.000000</td>\n",
       "    </tr>\n",
       "    <tr>\n",
       "      <th>50%</th>\n",
       "      <td>652.000000</td>\n",
       "      <td>37.000000</td>\n",
       "      <td>5.000000</td>\n",
       "      <td>97198.540000</td>\n",
       "      <td>1.000000</td>\n",
       "      <td>1.00000</td>\n",
       "      <td>1.000000</td>\n",
       "      <td>100193.915000</td>\n",
       "      <td>0.000000</td>\n",
       "    </tr>\n",
       "    <tr>\n",
       "      <th>75%</th>\n",
       "      <td>718.000000</td>\n",
       "      <td>44.000000</td>\n",
       "      <td>7.000000</td>\n",
       "      <td>127644.240000</td>\n",
       "      <td>2.000000</td>\n",
       "      <td>1.00000</td>\n",
       "      <td>1.000000</td>\n",
       "      <td>149388.247500</td>\n",
       "      <td>0.000000</td>\n",
       "    </tr>\n",
       "    <tr>\n",
       "      <th>max</th>\n",
       "      <td>850.000000</td>\n",
       "      <td>92.000000</td>\n",
       "      <td>10.000000</td>\n",
       "      <td>250898.090000</td>\n",
       "      <td>4.000000</td>\n",
       "      <td>1.00000</td>\n",
       "      <td>1.000000</td>\n",
       "      <td>199992.480000</td>\n",
       "      <td>1.000000</td>\n",
       "    </tr>\n",
       "  </tbody>\n",
       "</table>\n",
       "</div>"
      ],
      "text/plain": [
       "        CreditScore           Age        Tenure        Balance  NumOfProducts  \\\n",
       "count  10000.000000  10000.000000  10000.000000   10000.000000   10000.000000   \n",
       "mean     650.528800     38.921800      5.012800   76485.889288       1.530200   \n",
       "std       96.653299     10.487806      2.892174   62397.405202       0.581654   \n",
       "min      350.000000     18.000000      0.000000       0.000000       1.000000   \n",
       "25%      584.000000     32.000000      3.000000       0.000000       1.000000   \n",
       "50%      652.000000     37.000000      5.000000   97198.540000       1.000000   \n",
       "75%      718.000000     44.000000      7.000000  127644.240000       2.000000   \n",
       "max      850.000000     92.000000     10.000000  250898.090000       4.000000   \n",
       "\n",
       "         HasCrCard  IsActiveMember  EstimatedSalary        Exited  \n",
       "count  10000.00000    10000.000000     10000.000000  10000.000000  \n",
       "mean       0.70550        0.515100    100090.239881      0.203700  \n",
       "std        0.45584        0.499797     57510.492818      0.402769  \n",
       "min        0.00000        0.000000        11.580000      0.000000  \n",
       "25%        0.00000        0.000000     51002.110000      0.000000  \n",
       "50%        1.00000        1.000000    100193.915000      0.000000  \n",
       "75%        1.00000        1.000000    149388.247500      0.000000  \n",
       "max        1.00000        1.000000    199992.480000      1.000000  "
      ]
     },
     "execution_count": 10,
     "metadata": {},
     "output_type": "execute_result"
    }
   ],
   "source": [
    "df.describe()"
   ]
  },
  {
   "cell_type": "markdown",
   "id": "dff95731",
   "metadata": {},
   "source": [
    "##### Checking for null or noise values in data"
   ]
  },
  {
   "cell_type": "code",
   "execution_count": 11,
   "id": "89ded068",
   "metadata": {},
   "outputs": [
    {
     "data": {
      "text/plain": [
       "CreditScore        0\n",
       "Geography          0\n",
       "Gender             0\n",
       "Age                0\n",
       "Tenure             0\n",
       "Balance            0\n",
       "NumOfProducts      0\n",
       "HasCrCard          0\n",
       "IsActiveMember     0\n",
       "EstimatedSalary    0\n",
       "Exited             0\n",
       "dtype: int64"
      ]
     },
     "execution_count": 11,
     "metadata": {},
     "output_type": "execute_result"
    }
   ],
   "source": [
    "df.isnull().sum()"
   ]
  },
  {
   "cell_type": "markdown",
   "id": "7f4ac411",
   "metadata": {},
   "source": [
    "##### Checking for noise in data"
   ]
  },
  {
   "cell_type": "code",
   "execution_count": 12,
   "id": "2e069261",
   "metadata": {},
   "outputs": [],
   "source": [
    "# Seperating numerical and categorical Data\n",
    "num_data=df.select_dtypes(include=[np.number])\n",
    "cat_data=df.select_dtypes(exclude=[np.number])"
   ]
  },
  {
   "cell_type": "code",
   "execution_count": 13,
   "id": "aae6cd8c",
   "metadata": {},
   "outputs": [
    {
     "name": "stdout",
     "output_type": "stream",
     "text": [
      "France     5001\n",
      "Germany    2502\n",
      "Spain      2469\n",
      "france        7\n",
      "espanio       6\n",
      "fra           6\n",
      "ger           4\n",
      "spain         2\n",
      "germany       1\n",
      "gernamy       1\n",
      "GERMANY       1\n",
      "Name: Geography, dtype: int64\n",
      "**********************\n",
      "Male      5457\n",
      "Female    4543\n",
      "Name: Gender, dtype: int64\n",
      "**********************\n"
     ]
    }
   ],
   "source": [
    "for col1 in list(cat_data.columns):\n",
    "    print(round(df[col1].value_counts()))\n",
    "    print('**********************')"
   ]
  },
  {
   "cell_type": "markdown",
   "id": "07b544dc",
   "metadata": {},
   "source": [
    "##### Since there are only three countries but they have been assigned different names, we must seperate the countries properly"
   ]
  },
  {
   "cell_type": "code",
   "execution_count": 14,
   "id": "51edfbe4",
   "metadata": {
    "collapsed": true
   },
   "outputs": [
    {
     "data": {
      "text/plain": [
       "['France',\n",
       " 'Spain',\n",
       " 'France',\n",
       " 'France',\n",
       " 'Spain',\n",
       " 'Spain',\n",
       " 'France',\n",
       " 'Germany',\n",
       " 'France',\n",
       " 'France',\n",
       " 'France',\n",
       " 'Spain',\n",
       " 'France',\n",
       " 'France',\n",
       " 'Spain',\n",
       " 'Germany',\n",
       " 'Germany',\n",
       " 'Spain',\n",
       " 'Spain',\n",
       " 'France',\n",
       " 'France',\n",
       " 'Spain',\n",
       " 'Spain',\n",
       " 'France',\n",
       " 'France',\n",
       " 'France',\n",
       " 'Germany',\n",
       " 'France',\n",
       " 'Germany',\n",
       " 'France',\n",
       " 'Spain',\n",
       " 'France',\n",
       " 'Germany',\n",
       " 'Spain',\n",
       " 'Spain',\n",
       " 'France',\n",
       " 'Spain',\n",
       " 'Spain',\n",
       " 'France',\n",
       " 'Germany',\n",
       " 'Spain',\n",
       " 'France',\n",
       " 'France',\n",
       " 'France',\n",
       " 'Spain',\n",
       " 'Germany',\n",
       " 'Germany',\n",
       " 'Germany',\n",
       " 'Germany',\n",
       " 'Germany',\n",
       " 'Germany',\n",
       " 'Germany',\n",
       " 'France',\n",
       " 'Germany',\n",
       " 'Germany',\n",
       " 'France',\n",
       " 'France',\n",
       " 'Germany',\n",
       " 'Spain',\n",
       " 'France',\n",
       " 'Germany',\n",
       " 'Germany',\n",
       " 'Spain',\n",
       " 'Spain',\n",
       " 'Germany',\n",
       " 'Germany',\n",
       " 'Germany',\n",
       " 'Germany',\n",
       " 'Germany',\n",
       " 'France',\n",
       " 'Germany',\n",
       " 'France',\n",
       " 'Spain',\n",
       " 'Germany',\n",
       " 'France',\n",
       " 'France',\n",
       " 'France',\n",
       " 'France',\n",
       " 'Spain',\n",
       " 'Germany',\n",
       " 'France',\n",
       " 'France',\n",
       " 'France',\n",
       " 'France',\n",
       " 'France',\n",
       " 'Spain',\n",
       " 'Spain',\n",
       " 'France',\n",
       " 'France',\n",
       " 'Germany',\n",
       " 'Spain',\n",
       " 'France',\n",
       " 'France',\n",
       " 'France',\n",
       " 'Spain',\n",
       " 'Spain',\n",
       " 'Spain',\n",
       " 'Germany',\n",
       " 'Spain',\n",
       " 'France',\n",
       " 'France',\n",
       " 'France',\n",
       " 'France',\n",
       " 'Spain',\n",
       " 'Spain',\n",
       " 'Spain',\n",
       " 'Germany',\n",
       " 'Germany',\n",
       " 'Spain',\n",
       " 'Germany',\n",
       " 'Germany',\n",
       " 'Germany',\n",
       " 'France',\n",
       " 'Spain',\n",
       " 'Germany',\n",
       " 'Germany',\n",
       " 'Germany',\n",
       " 'France',\n",
       " 'Germany',\n",
       " 'Germany',\n",
       " 'France',\n",
       " 'Spain',\n",
       " 'France',\n",
       " 'Germany',\n",
       " 'France',\n",
       " 'France',\n",
       " 'France',\n",
       " 'Germany',\n",
       " 'France',\n",
       " 'France',\n",
       " 'France',\n",
       " 'Germany',\n",
       " 'France',\n",
       " 'France',\n",
       " 'Germany',\n",
       " 'Germany',\n",
       " 'Germany',\n",
       " 'France',\n",
       " 'Spain',\n",
       " 'Spain',\n",
       " 'Germany',\n",
       " 'France',\n",
       " 'France',\n",
       " 'Spain',\n",
       " 'France',\n",
       " 'Spain',\n",
       " 'Spain',\n",
       " 'France',\n",
       " 'France',\n",
       " 'France',\n",
       " 'Spain',\n",
       " 'France',\n",
       " 'Spain',\n",
       " 'France',\n",
       " 'France',\n",
       " 'Spain',\n",
       " 'France',\n",
       " 'Spain',\n",
       " 'France',\n",
       " 'Germany',\n",
       " 'Spain',\n",
       " 'France',\n",
       " 'France',\n",
       " 'Spain',\n",
       " 'Spain',\n",
       " 'Germany',\n",
       " 'Germany',\n",
       " 'Spain',\n",
       " 'Spain',\n",
       " 'Germany',\n",
       " 'France',\n",
       " 'Germany',\n",
       " 'Germany',\n",
       " 'France',\n",
       " 'France',\n",
       " 'Spain',\n",
       " 'France',\n",
       " 'Germany',\n",
       " 'Spain',\n",
       " 'Germany',\n",
       " 'Spain',\n",
       " 'France',\n",
       " 'Germany',\n",
       " 'France',\n",
       " 'France',\n",
       " 'France',\n",
       " 'France',\n",
       " 'Spain',\n",
       " 'Spain',\n",
       " 'Germany',\n",
       " 'France',\n",
       " 'France',\n",
       " 'France',\n",
       " 'France',\n",
       " 'Spain',\n",
       " 'France',\n",
       " 'Spain',\n",
       " 'Germany',\n",
       " 'France',\n",
       " 'France',\n",
       " 'Spain',\n",
       " 'France',\n",
       " 'Spain',\n",
       " 'France',\n",
       " 'Spain',\n",
       " 'France',\n",
       " 'Spain',\n",
       " 'France',\n",
       " 'France',\n",
       " 'France',\n",
       " 'Germany',\n",
       " 'France',\n",
       " 'France',\n",
       " 'France',\n",
       " 'Germany',\n",
       " 'Germany',\n",
       " 'France',\n",
       " 'Spain',\n",
       " 'France',\n",
       " 'France',\n",
       " 'France',\n",
       " 'Spain',\n",
       " 'France',\n",
       " 'France',\n",
       " 'Germany',\n",
       " 'France',\n",
       " 'France',\n",
       " 'Germany',\n",
       " 'Germany',\n",
       " 'Germany',\n",
       " 'France',\n",
       " 'France',\n",
       " 'France',\n",
       " 'Germany',\n",
       " 'France',\n",
       " 'Germany',\n",
       " 'France',\n",
       " 'Germany',\n",
       " 'France',\n",
       " 'France',\n",
       " 'Spain',\n",
       " 'Germany',\n",
       " 'France',\n",
       " 'Germany',\n",
       " 'Spain',\n",
       " 'France',\n",
       " 'Germany',\n",
       " 'France',\n",
       " 'Germany',\n",
       " 'Germany',\n",
       " 'Germany',\n",
       " 'Spain',\n",
       " 'France',\n",
       " 'Germany',\n",
       " 'Spain',\n",
       " 'Spain',\n",
       " 'France',\n",
       " 'Germany',\n",
       " 'France',\n",
       " 'Germany',\n",
       " 'Germany',\n",
       " 'Spain',\n",
       " 'France',\n",
       " 'France',\n",
       " 'Spain',\n",
       " 'Spain',\n",
       " 'France',\n",
       " 'France',\n",
       " 'Spain',\n",
       " 'Germany',\n",
       " 'Spain',\n",
       " 'Germany',\n",
       " 'Germany',\n",
       " 'France',\n",
       " 'Germany',\n",
       " 'Spain',\n",
       " 'France',\n",
       " 'France',\n",
       " 'France',\n",
       " 'France',\n",
       " 'France',\n",
       " 'Spain',\n",
       " 'Germany',\n",
       " 'France',\n",
       " 'France',\n",
       " 'France',\n",
       " 'Spain',\n",
       " 'France',\n",
       " 'Spain',\n",
       " 'Spain',\n",
       " 'Germany',\n",
       " 'Spain',\n",
       " 'France',\n",
       " 'Spain',\n",
       " 'France',\n",
       " 'France',\n",
       " 'France',\n",
       " 'Spain',\n",
       " 'France',\n",
       " 'France',\n",
       " 'France',\n",
       " 'Spain',\n",
       " 'France',\n",
       " 'France',\n",
       " 'France',\n",
       " 'France',\n",
       " 'France',\n",
       " 'Germany',\n",
       " 'France',\n",
       " 'Germany',\n",
       " 'France',\n",
       " 'Germany',\n",
       " 'France',\n",
       " 'Germany',\n",
       " 'Spain',\n",
       " 'Spain',\n",
       " 'France',\n",
       " 'Spain',\n",
       " 'Spain',\n",
       " 'France',\n",
       " 'Spain',\n",
       " 'France',\n",
       " 'France',\n",
       " 'France',\n",
       " 'France',\n",
       " 'France',\n",
       " 'France',\n",
       " 'France',\n",
       " 'Germany',\n",
       " 'Germany',\n",
       " 'France',\n",
       " 'Spain',\n",
       " 'Germany',\n",
       " 'Germany',\n",
       " 'Spain',\n",
       " 'France',\n",
       " 'Germany',\n",
       " 'France',\n",
       " 'Spain',\n",
       " 'Germany',\n",
       " 'Germany',\n",
       " 'France',\n",
       " 'Spain',\n",
       " 'France',\n",
       " 'France',\n",
       " 'France',\n",
       " 'Germany',\n",
       " 'Germany',\n",
       " 'Germany',\n",
       " 'France',\n",
       " 'Spain',\n",
       " 'Spain',\n",
       " 'Spain',\n",
       " 'Spain',\n",
       " 'France',\n",
       " 'France',\n",
       " 'Spain',\n",
       " 'Spain',\n",
       " 'France',\n",
       " 'France',\n",
       " 'Spain',\n",
       " 'Germany',\n",
       " 'France',\n",
       " 'Germany',\n",
       " 'France',\n",
       " 'Spain',\n",
       " 'Germany',\n",
       " 'Germany',\n",
       " 'Germany',\n",
       " 'France',\n",
       " 'Spain',\n",
       " 'Germany',\n",
       " 'Germany',\n",
       " 'Germany',\n",
       " 'Germany',\n",
       " 'France',\n",
       " 'Germany',\n",
       " 'Spain',\n",
       " 'Spain',\n",
       " 'Spain',\n",
       " 'France',\n",
       " 'France',\n",
       " 'Germany',\n",
       " 'Germany',\n",
       " 'Germany',\n",
       " 'France',\n",
       " 'Spain',\n",
       " 'Spain',\n",
       " 'Spain',\n",
       " 'France',\n",
       " 'Germany',\n",
       " 'Germany',\n",
       " 'Spain',\n",
       " 'Spain',\n",
       " 'Spain',\n",
       " 'Germany',\n",
       " 'France',\n",
       " 'Germany',\n",
       " 'France',\n",
       " 'France',\n",
       " 'France',\n",
       " 'Germany',\n",
       " 'Spain',\n",
       " 'Spain',\n",
       " 'France',\n",
       " 'France',\n",
       " 'Spain',\n",
       " 'Spain',\n",
       " 'Germany',\n",
       " 'Germany',\n",
       " 'Spain',\n",
       " 'France',\n",
       " 'Spain',\n",
       " 'Germany',\n",
       " 'Spain',\n",
       " 'Spain',\n",
       " 'Germany',\n",
       " 'France',\n",
       " 'France',\n",
       " 'France',\n",
       " 'Germany',\n",
       " 'France',\n",
       " 'Germany',\n",
       " 'France',\n",
       " 'France',\n",
       " 'France',\n",
       " 'Germany',\n",
       " 'France',\n",
       " 'Germany',\n",
       " 'Germany',\n",
       " 'Germany',\n",
       " 'Germany',\n",
       " 'Germany',\n",
       " 'Germany',\n",
       " 'France',\n",
       " 'France',\n",
       " 'Germany',\n",
       " 'France',\n",
       " 'France',\n",
       " 'Germany',\n",
       " 'France',\n",
       " 'France',\n",
       " 'France',\n",
       " 'France',\n",
       " 'Spain',\n",
       " 'France',\n",
       " 'France',\n",
       " 'France',\n",
       " 'France',\n",
       " 'Spain',\n",
       " 'Germany',\n",
       " 'France',\n",
       " 'Spain',\n",
       " 'Spain',\n",
       " 'France',\n",
       " 'France',\n",
       " 'France',\n",
       " 'France',\n",
       " 'Germany',\n",
       " 'Spain',\n",
       " 'Germany',\n",
       " 'France',\n",
       " 'Spain',\n",
       " 'France',\n",
       " 'Spain',\n",
       " 'France',\n",
       " 'Spain',\n",
       " 'Germany',\n",
       " 'France',\n",
       " 'France',\n",
       " 'Spain',\n",
       " 'France',\n",
       " 'France',\n",
       " 'France',\n",
       " 'France',\n",
       " 'Germany',\n",
       " 'Germany',\n",
       " 'France',\n",
       " 'France',\n",
       " 'France',\n",
       " 'Spain',\n",
       " 'France',\n",
       " 'France',\n",
       " 'Germany',\n",
       " 'Spain',\n",
       " 'France',\n",
       " 'France',\n",
       " 'France',\n",
       " 'France',\n",
       " 'Germany',\n",
       " 'Spain',\n",
       " 'France',\n",
       " 'France',\n",
       " 'France',\n",
       " 'France',\n",
       " 'Germany',\n",
       " 'France',\n",
       " 'France',\n",
       " 'Germany',\n",
       " 'France',\n",
       " 'Spain',\n",
       " 'France',\n",
       " 'France',\n",
       " 'Spain',\n",
       " 'Spain',\n",
       " 'France',\n",
       " 'Germany',\n",
       " 'Germany',\n",
       " 'France',\n",
       " 'Spain',\n",
       " 'Germany',\n",
       " 'Germany',\n",
       " 'Spain',\n",
       " 'France',\n",
       " 'France',\n",
       " 'Spain',\n",
       " 'France',\n",
       " 'Germany',\n",
       " 'France',\n",
       " 'France',\n",
       " 'France',\n",
       " 'France',\n",
       " 'Spain',\n",
       " 'Germany',\n",
       " 'France',\n",
       " 'France',\n",
       " 'France',\n",
       " 'France',\n",
       " 'Germany',\n",
       " 'France',\n",
       " 'Spain',\n",
       " 'Spain',\n",
       " 'France',\n",
       " 'Spain',\n",
       " 'France',\n",
       " 'France',\n",
       " 'Germany',\n",
       " 'Spain',\n",
       " 'Germany',\n",
       " 'Germany',\n",
       " 'France',\n",
       " 'France',\n",
       " 'France',\n",
       " 'Spain',\n",
       " 'France',\n",
       " 'Spain',\n",
       " 'France',\n",
       " 'Germany',\n",
       " 'France',\n",
       " 'France',\n",
       " 'Germany',\n",
       " 'Germany',\n",
       " 'Spain',\n",
       " 'France',\n",
       " 'Germany',\n",
       " 'Spain',\n",
       " 'Germany',\n",
       " 'Germany',\n",
       " 'Spain',\n",
       " 'Spain',\n",
       " 'Germany',\n",
       " 'Spain',\n",
       " 'Spain',\n",
       " 'France',\n",
       " 'Spain',\n",
       " 'France',\n",
       " 'Spain',\n",
       " 'Spain',\n",
       " 'Germany',\n",
       " 'France',\n",
       " 'France',\n",
       " 'France',\n",
       " 'France',\n",
       " 'Spain',\n",
       " 'Spain',\n",
       " 'France',\n",
       " 'Spain',\n",
       " 'France',\n",
       " 'France',\n",
       " 'France',\n",
       " 'Spain',\n",
       " 'Spain',\n",
       " 'Spain',\n",
       " 'Germany',\n",
       " 'Germany',\n",
       " 'France',\n",
       " 'Spain',\n",
       " 'France',\n",
       " 'France',\n",
       " 'Spain',\n",
       " 'Germany',\n",
       " 'France',\n",
       " 'France',\n",
       " 'Spain',\n",
       " 'Spain',\n",
       " 'Germany',\n",
       " 'Spain',\n",
       " 'Germany',\n",
       " 'Germany',\n",
       " 'Germany',\n",
       " 'France',\n",
       " 'Spain',\n",
       " 'France',\n",
       " 'France',\n",
       " 'France',\n",
       " 'France',\n",
       " 'France',\n",
       " 'France',\n",
       " 'France',\n",
       " 'Germany',\n",
       " 'France',\n",
       " 'France',\n",
       " 'France',\n",
       " 'Spain',\n",
       " 'Germany',\n",
       " 'Spain',\n",
       " 'Spain',\n",
       " 'Germany',\n",
       " 'Spain',\n",
       " 'Spain',\n",
       " 'France',\n",
       " 'Spain',\n",
       " 'Germany',\n",
       " 'Germany',\n",
       " 'Spain',\n",
       " 'Spain',\n",
       " 'France',\n",
       " 'France',\n",
       " 'France',\n",
       " 'Spain',\n",
       " 'France',\n",
       " 'Germany',\n",
       " 'Spain',\n",
       " 'Germany',\n",
       " 'France',\n",
       " 'Spain',\n",
       " 'Spain',\n",
       " 'France',\n",
       " 'France',\n",
       " 'France',\n",
       " 'Spain',\n",
       " 'France',\n",
       " 'France',\n",
       " 'Germany',\n",
       " 'France',\n",
       " 'France',\n",
       " 'France',\n",
       " 'France',\n",
       " 'France',\n",
       " 'France',\n",
       " 'France',\n",
       " 'France',\n",
       " 'France',\n",
       " 'Germany',\n",
       " 'Spain',\n",
       " 'Germany',\n",
       " 'Spain',\n",
       " 'Germany',\n",
       " 'France',\n",
       " 'France',\n",
       " 'Germany',\n",
       " 'Spain',\n",
       " 'France',\n",
       " 'France',\n",
       " 'France',\n",
       " 'France',\n",
       " 'France',\n",
       " 'France',\n",
       " 'Spain',\n",
       " 'France',\n",
       " 'Germany',\n",
       " 'France',\n",
       " 'France',\n",
       " 'Spain',\n",
       " 'Spain',\n",
       " 'France',\n",
       " 'Spain',\n",
       " 'Germany',\n",
       " 'Spain',\n",
       " 'Spain',\n",
       " 'France',\n",
       " 'Spain',\n",
       " 'Germany',\n",
       " 'Germany',\n",
       " 'France',\n",
       " 'Spain',\n",
       " 'France',\n",
       " 'Germany',\n",
       " 'France',\n",
       " 'France',\n",
       " 'Germany',\n",
       " 'France',\n",
       " 'Germany',\n",
       " 'France',\n",
       " 'France',\n",
       " 'France',\n",
       " 'Spain',\n",
       " 'Germany',\n",
       " 'Spain',\n",
       " 'Germany',\n",
       " 'France',\n",
       " 'France',\n",
       " 'Spain',\n",
       " 'Spain',\n",
       " 'Germany',\n",
       " 'Germany',\n",
       " 'Germany',\n",
       " 'France',\n",
       " 'France',\n",
       " 'France',\n",
       " 'France',\n",
       " 'Germany',\n",
       " 'Spain',\n",
       " 'France',\n",
       " 'Spain',\n",
       " 'France',\n",
       " 'Germany',\n",
       " 'Spain',\n",
       " 'France',\n",
       " 'France',\n",
       " 'Spain',\n",
       " 'Spain',\n",
       " 'France',\n",
       " 'France',\n",
       " 'France',\n",
       " 'France',\n",
       " 'France',\n",
       " 'France',\n",
       " 'France',\n",
       " 'France',\n",
       " 'France',\n",
       " 'France',\n",
       " 'Spain',\n",
       " 'Germany',\n",
       " 'Germany',\n",
       " 'France',\n",
       " 'Spain',\n",
       " 'France',\n",
       " 'France',\n",
       " 'France',\n",
       " 'France',\n",
       " 'France',\n",
       " 'France',\n",
       " 'France',\n",
       " 'France',\n",
       " 'France',\n",
       " 'France',\n",
       " 'Spain',\n",
       " 'Spain',\n",
       " 'Germany',\n",
       " 'France',\n",
       " 'Germany',\n",
       " 'France',\n",
       " 'Germany',\n",
       " 'Spain',\n",
       " 'France',\n",
       " 'Germany',\n",
       " 'Spain',\n",
       " 'France',\n",
       " 'France',\n",
       " 'France',\n",
       " 'France',\n",
       " 'Germany',\n",
       " 'Germany',\n",
       " 'Germany',\n",
       " 'Spain',\n",
       " 'France',\n",
       " 'Germany',\n",
       " 'Spain',\n",
       " 'France',\n",
       " 'Germany',\n",
       " 'France',\n",
       " 'France',\n",
       " 'France',\n",
       " 'Germany',\n",
       " 'France',\n",
       " 'Germany',\n",
       " 'Spain',\n",
       " 'France',\n",
       " 'Spain',\n",
       " 'France',\n",
       " 'France',\n",
       " 'France',\n",
       " 'France',\n",
       " 'Germany',\n",
       " 'Spain',\n",
       " 'France',\n",
       " 'Germany',\n",
       " 'Spain',\n",
       " 'Spain',\n",
       " 'France',\n",
       " 'France',\n",
       " 'Germany',\n",
       " 'Germany',\n",
       " 'France',\n",
       " 'Germany',\n",
       " 'France',\n",
       " 'Germany',\n",
       " 'France',\n",
       " 'Germany',\n",
       " 'France',\n",
       " 'Germany',\n",
       " 'Germany',\n",
       " 'Spain',\n",
       " 'France',\n",
       " 'Spain',\n",
       " 'France',\n",
       " 'France',\n",
       " 'Germany',\n",
       " 'France',\n",
       " 'France',\n",
       " 'Spain',\n",
       " 'Spain',\n",
       " 'Germany',\n",
       " 'France',\n",
       " 'France',\n",
       " 'France',\n",
       " 'Germany',\n",
       " 'Spain',\n",
       " 'France',\n",
       " 'Germany',\n",
       " 'France',\n",
       " 'Spain',\n",
       " 'Spain',\n",
       " 'Spain',\n",
       " 'Germany',\n",
       " 'France',\n",
       " 'Spain',\n",
       " 'Germany',\n",
       " 'France',\n",
       " 'France',\n",
       " 'Spain',\n",
       " 'Germany',\n",
       " 'Germany',\n",
       " 'France',\n",
       " 'France',\n",
       " 'Spain',\n",
       " 'Germany',\n",
       " 'Spain',\n",
       " 'France',\n",
       " 'Germany',\n",
       " 'France',\n",
       " 'Germany',\n",
       " 'Spain',\n",
       " 'France',\n",
       " 'France',\n",
       " 'Germany',\n",
       " 'France',\n",
       " 'Spain',\n",
       " 'France',\n",
       " 'Germany',\n",
       " 'Germany',\n",
       " 'Germany',\n",
       " 'France',\n",
       " 'France',\n",
       " 'Spain',\n",
       " 'Germany',\n",
       " 'Spain',\n",
       " 'Spain',\n",
       " 'France',\n",
       " 'France',\n",
       " 'France',\n",
       " 'France',\n",
       " 'France',\n",
       " 'France',\n",
       " 'Germany',\n",
       " 'France',\n",
       " 'France',\n",
       " 'Germany',\n",
       " 'France',\n",
       " 'France',\n",
       " 'Germany',\n",
       " 'France',\n",
       " 'France',\n",
       " 'France',\n",
       " 'France',\n",
       " 'Germany',\n",
       " 'Spain',\n",
       " 'France',\n",
       " 'France',\n",
       " 'France',\n",
       " 'France',\n",
       " 'France',\n",
       " 'France',\n",
       " 'France',\n",
       " 'France',\n",
       " 'Spain',\n",
       " 'France',\n",
       " 'Germany',\n",
       " 'France',\n",
       " 'Spain',\n",
       " 'Germany',\n",
       " 'France',\n",
       " 'France',\n",
       " 'Germany',\n",
       " 'Germany',\n",
       " 'France',\n",
       " 'France',\n",
       " 'France',\n",
       " 'Germany',\n",
       " 'Germany',\n",
       " 'France',\n",
       " 'France',\n",
       " 'France',\n",
       " 'France',\n",
       " 'France',\n",
       " 'France',\n",
       " 'France',\n",
       " 'Spain',\n",
       " 'Spain',\n",
       " 'France',\n",
       " 'Spain',\n",
       " 'Spain',\n",
       " 'Germany',\n",
       " 'France',\n",
       " 'France',\n",
       " 'France',\n",
       " 'France',\n",
       " 'Spain',\n",
       " 'Spain',\n",
       " 'France',\n",
       " 'Spain',\n",
       " 'France',\n",
       " 'Germany',\n",
       " 'France',\n",
       " 'Germany',\n",
       " 'Spain',\n",
       " 'Germany',\n",
       " 'Germany',\n",
       " 'France',\n",
       " 'Spain',\n",
       " 'Germany',\n",
       " 'Germany',\n",
       " 'Spain',\n",
       " 'Spain',\n",
       " 'France',\n",
       " 'France',\n",
       " 'Germany',\n",
       " 'France',\n",
       " 'France',\n",
       " 'Spain',\n",
       " 'France',\n",
       " 'France',\n",
       " 'Germany',\n",
       " 'France',\n",
       " 'Spain',\n",
       " 'Spain',\n",
       " 'France',\n",
       " 'France',\n",
       " 'France',\n",
       " 'France',\n",
       " 'Germany',\n",
       " 'Germany',\n",
       " 'Spain',\n",
       " 'Spain',\n",
       " 'France',\n",
       " 'Spain',\n",
       " 'Spain',\n",
       " 'Spain',\n",
       " 'France',\n",
       " 'Germany',\n",
       " 'Spain',\n",
       " 'Spain',\n",
       " 'Spain',\n",
       " 'Germany',\n",
       " 'France',\n",
       " 'France',\n",
       " 'Spain',\n",
       " 'France',\n",
       " 'Germany',\n",
       " 'France',\n",
       " 'France',\n",
       " 'Germany',\n",
       " 'Spain',\n",
       " 'France',\n",
       " 'Spain',\n",
       " 'France',\n",
       " 'France',\n",
       " 'France',\n",
       " 'France',\n",
       " 'France',\n",
       " 'Germany',\n",
       " 'France',\n",
       " 'Germany',\n",
       " 'France',\n",
       " 'Germany',\n",
       " 'France',\n",
       " 'Spain',\n",
       " 'Spain',\n",
       " 'France',\n",
       " 'France',\n",
       " 'France',\n",
       " 'Germany',\n",
       " 'Spain',\n",
       " 'Spain',\n",
       " 'Spain',\n",
       " 'Spain',\n",
       " 'Spain',\n",
       " 'Germany',\n",
       " 'France',\n",
       " ...]"
      ]
     },
     "execution_count": 14,
     "metadata": {},
     "output_type": "execute_result"
    }
   ],
   "source": [
    "Country=[]\n",
    "for i in df['Geography']:\n",
    "    if (i=='France')|(i=='france')|(i=='fra'):\n",
    "        Country.append('France')\n",
    "    elif (i=='Germany')|(i=='ger')|(i=='germany')|(i=='gernamy')|(i=='GERMANY'):\n",
    "        Country.append('Germany')\n",
    "    else:\n",
    "        Country.append('Spain')\n",
    "Country"
   ]
  },
  {
   "cell_type": "code",
   "execution_count": 17,
   "id": "cf37e9d4",
   "metadata": {},
   "outputs": [],
   "source": [
    "df['Geography']=Country"
   ]
  },
  {
   "cell_type": "code",
   "execution_count": 18,
   "id": "a97c8e2b",
   "metadata": {},
   "outputs": [
    {
     "data": {
      "text/plain": [
       "France     5014\n",
       "Germany    2509\n",
       "Spain      2477\n",
       "Name: Geography, dtype: int64"
      ]
     },
     "execution_count": 18,
     "metadata": {},
     "output_type": "execute_result"
    }
   ],
   "source": [
    "df['Geography'].value_counts()"
   ]
  },
  {
   "cell_type": "markdown",
   "id": "d347a93d",
   "metadata": {},
   "source": [
    "##### Checking for column dtypes"
   ]
  },
  {
   "cell_type": "code",
   "execution_count": 20,
   "id": "43b6dbe3",
   "metadata": {},
   "outputs": [
    {
     "data": {
      "text/plain": [
       "CreditScore          int64\n",
       "Geography           object\n",
       "Gender              object\n",
       "Age                  int64\n",
       "Tenure               int64\n",
       "Balance            float64\n",
       "NumOfProducts        int64\n",
       "HasCrCard            int64\n",
       "IsActiveMember       int64\n",
       "EstimatedSalary    float64\n",
       "Exited               int64\n",
       "dtype: object"
      ]
     },
     "execution_count": 20,
     "metadata": {},
     "output_type": "execute_result"
    }
   ],
   "source": [
    "df.dtypes"
   ]
  },
  {
   "cell_type": "code",
   "execution_count": null,
   "id": "9074e30a",
   "metadata": {},
   "outputs": [],
   "source": []
  },
  {
   "cell_type": "markdown",
   "id": "6d856b5a",
   "metadata": {},
   "source": [
    "##### Performing necessary visualizations"
   ]
  },
  {
   "cell_type": "code",
   "execution_count": 24,
   "id": "b25c14a7",
   "metadata": {},
   "outputs": [
    {
     "data": {
      "image/png": "[encoded data removed]",
      "text/plain": [
       "<Figure size 1440x864 with 9 Axes>"
      ]
     },
     "metadata": {
      "needs_background": "light"
     },
     "output_type": "display_data"
    }
   ],
   "source": [
    "df.hist(figsize=(20,12))\n",
    "plt.show()"
   ]
  },
  {
   "cell_type": "markdown",
   "id": "aa2418b7",
   "metadata": {},
   "source": [
    "##### Conclusions from the Histograms:\n",
    "##### The Credit score is normally distributed\n",
    "##### Age Group 32-40 has the highest distribution. The distribution among the age column is skewed to the left.\n",
    "##### Tenure of 9-10 years has the highest distribution while tenure of 0-1 years has the minimum distribution. Tenure of 1-9 years has an even distribution.\n",
    "##### Balance between 0-25000 has the maximum distribution\n",
    "##### Most customers have 1 number of bank products and very few customers have more than 2 bank products.\n",
    "##### Most customers own credit cards\n",
    "##### The bank has almost an equal distribution active and non active members\n",
    "##### The Estimated Salary is evenly distributed among the customers \n",
    "##### Most customers are still associated with the bank and have not left"
   ]
  },
  {
   "cell_type": "code",
   "execution_count": null,
   "id": "44638b22",
   "metadata": {},
   "outputs": [],
   "source": []
  },
  {
   "cell_type": "code",
   "execution_count": 25,
   "id": "3ecf2ff0",
   "metadata": {},
   "outputs": [
    {
     "data": {
      "text/plain": [
       "<AxesSubplot:xlabel='Gender', ylabel='count'>"
      ]
     },
     "execution_count": 25,
     "metadata": {},
     "output_type": "execute_result"
    },
    {
     "data": {
      "image/png": "[encoded data removed]",
      "text/plain": [
       "<Figure size 432x288 with 1 Axes>"
      ]
     },
     "metadata": {
      "needs_background": "light"
     },
     "output_type": "display_data"
    }
   ],
   "source": [
    "sb.countplot(data=df,x='Gender')"
   ]
  },
  {
   "cell_type": "markdown",
   "id": "bba4ac72",
   "metadata": {},
   "source": [
    "##### There are about 1000 more male customers compared to female customers"
   ]
  },
  {
   "cell_type": "code",
   "execution_count": 26,
   "id": "1cfa5d1d",
   "metadata": {},
   "outputs": [
    {
     "data": {
      "text/plain": [
       "<AxesSubplot:xlabel='Geography', ylabel='count'>"
      ]
     },
     "execution_count": 26,
     "metadata": {},
     "output_type": "execute_result"
    },
    {
     "data": {
      "image/png": "[encoded data removed]",
      "text/plain": [
       "<Figure size 432x288 with 1 Axes>"
      ]
     },
     "metadata": {
      "needs_background": "light"
     },
     "output_type": "display_data"
    }
   ],
   "source": [
    "sb.countplot(data=df,x='Geography')"
   ]
  },
  {
   "cell_type": "markdown",
   "id": "413950f7",
   "metadata": {},
   "source": [
    "##### France has the majority of customers comprising of approximately 50% of all customers.\n",
    "##### Spain and Germany have almost the same number of customers"
   ]
  },
  {
   "cell_type": "code",
   "execution_count": null,
   "id": "3dea7fb4",
   "metadata": {},
   "outputs": [],
   "source": []
  },
  {
   "cell_type": "markdown",
   "id": "b6c8b6a4",
   "metadata": {},
   "source": [
    "##### Since our business objective is to determine which customers are likely to churn, our target variable is Exited"
   ]
  },
  {
   "cell_type": "code",
   "execution_count": null,
   "id": "60813fbf",
   "metadata": {},
   "outputs": [],
   "source": []
  },
  {
   "cell_type": "markdown",
   "id": "95b65513",
   "metadata": {},
   "source": [
    "##### Performing visualizations with respect to churn"
   ]
  },
  {
   "cell_type": "code",
   "execution_count": 27,
   "id": "2222ea80",
   "metadata": {},
   "outputs": [
    {
     "data": {
      "text/plain": [
       "<AxesSubplot:xlabel='Gender', ylabel='count'>"
      ]
     },
     "execution_count": 27,
     "metadata": {},
     "output_type": "execute_result"
    },
    {
     "data": {
      "image/png": "[encoded data removed]",
      "text/plain": [
       "<Figure size 432x288 with 1 Axes>"
      ]
     },
     "metadata": {
      "needs_background": "light"
     },
     "output_type": "display_data"
    }
   ],
   "source": [
    "sb.countplot(data=df,x='Gender',hue='Exited')"
   ]
  },
  {
   "cell_type": "markdown",
   "id": "f2a785d4",
   "metadata": {},
   "source": [
    "##### The churn numbers are high amongst Female customers even though the count of Female customers is less compared to males"
   ]
  },
  {
   "cell_type": "code",
   "execution_count": 28,
   "id": "9abf3a0b",
   "metadata": {},
   "outputs": [
    {
     "data": {
      "text/plain": [
       "<AxesSubplot:xlabel='Geography', ylabel='count'>"
      ]
     },
     "execution_count": 28,
     "metadata": {},
     "output_type": "execute_result"
    },
    {
     "data": {
      "image/png": "[encoded data removed]",
      "text/plain": [
       "<Figure size 432x288 with 1 Axes>"
      ]
     },
     "metadata": {
      "needs_background": "light"
     },
     "output_type": "display_data"
    }
   ],
   "source": [
    "sb.countplot(data=df,x='Geography',hue='Exited')"
   ]
  },
  {
   "cell_type": "markdown",
   "id": "4900d323",
   "metadata": {},
   "source": [
    "##### Churned customers have almost an equal number in France and Germany. Although the number of customers are significantly low in Germany.\n",
    "##### Churned customers have the least count among Spain customers."
   ]
  },
  {
   "cell_type": "code",
   "execution_count": 29,
   "id": "b0d49ba6",
   "metadata": {},
   "outputs": [
    {
     "data": {
      "text/html": [
       "<div>\n",
       "<style scoped>\n",
       "    .dataframe tbody tr th:only-of-type {\n",
       "        vertical-align: middle;\n",
       "    }\n",
       "\n",
       "    .dataframe tbody tr th {\n",
       "        vertical-align: top;\n",
       "    }\n",
       "\n",
       "    .dataframe thead th {\n",
       "        text-align: right;\n",
       "    }\n",
       "</style>\n",
       "<table border=\"1\" class=\"dataframe\">\n",
       "  <thead>\n",
       "    <tr style=\"text-align: right;\">\n",
       "      <th>Geography</th>\n",
       "      <th>France</th>\n",
       "      <th>Germany</th>\n",
       "      <th>Spain</th>\n",
       "    </tr>\n",
       "    <tr>\n",
       "      <th>Exited</th>\n",
       "      <th></th>\n",
       "      <th></th>\n",
       "      <th></th>\n",
       "    </tr>\n",
       "  </thead>\n",
       "  <tbody>\n",
       "    <tr>\n",
       "      <th>0</th>\n",
       "      <td>0.838452</td>\n",
       "      <td>0.675568</td>\n",
       "      <td>0.833266</td>\n",
       "    </tr>\n",
       "    <tr>\n",
       "      <th>1</th>\n",
       "      <td>0.161548</td>\n",
       "      <td>0.324432</td>\n",
       "      <td>0.166734</td>\n",
       "    </tr>\n",
       "  </tbody>\n",
       "</table>\n",
       "</div>"
      ],
      "text/plain": [
       "Geography    France   Germany     Spain\n",
       "Exited                                 \n",
       "0          0.838452  0.675568  0.833266\n",
       "1          0.161548  0.324432  0.166734"
      ]
     },
     "execution_count": 29,
     "metadata": {},
     "output_type": "execute_result"
    }
   ],
   "source": [
    "ct1=pd.crosstab(index=df['Exited'],columns=df['Geography'],normalize='columns')\n",
    "ct1"
   ]
  },
  {
   "cell_type": "code",
   "execution_count": 46,
   "id": "0db4bb5f",
   "metadata": {},
   "outputs": [
    {
     "data": {
      "text/plain": [
       "<AxesSubplot:xlabel='Geography', ylabel='Exited'>"
      ]
     },
     "execution_count": 46,
     "metadata": {},
     "output_type": "execute_result"
    },
    {
     "data": {
      "image/png": "[encoded data removed]",
      "text/plain": [
       "<Figure size 432x288 with 2 Axes>"
      ]
     },
     "metadata": {
      "needs_background": "light"
     },
     "output_type": "display_data"
    }
   ],
   "source": [
    "sb.heatmap(data=ct1,annot=True,cmap='Blues')"
   ]
  },
  {
   "cell_type": "markdown",
   "id": "bb9e8f7f",
   "metadata": {},
   "source": [
    "##### Churn percentages are maximum in Germany (32%).\n",
    "##### Churn percentages are almost equal in France and Spain (16% and 17% respectively)."
   ]
  },
  {
   "cell_type": "code",
   "execution_count": 35,
   "id": "6dadd34e",
   "metadata": {},
   "outputs": [
    {
     "data": {
      "text/plain": [
       "<AxesSubplot:xlabel='NumOfProducts', ylabel='count'>"
      ]
     },
     "execution_count": 35,
     "metadata": {},
     "output_type": "execute_result"
    },
    {
     "data": {
      "image/png": "[encoded data removed]",
      "text/plain": [
       "<Figure size 432x288 with 1 Axes>"
      ]
     },
     "metadata": {
      "needs_background": "light"
     },
     "output_type": "display_data"
    }
   ],
   "source": [
    "sb.countplot(data=df,x='NumOfProducts',hue='Exited')"
   ]
  },
  {
   "cell_type": "markdown",
   "id": "89e75857",
   "metadata": {},
   "source": [
    "##### Churn numbers are maximum among customers who have 1 product from the bank and minimum among customers who own 4.\n",
    "##### Customers who own 3 and 4 bank products have more customers who have churned than customers who have not."
   ]
  },
  {
   "cell_type": "code",
   "execution_count": 36,
   "id": "a40520d6",
   "metadata": {},
   "outputs": [
    {
     "data": {
      "text/html": [
       "<div>\n",
       "<style scoped>\n",
       "    .dataframe tbody tr th:only-of-type {\n",
       "        vertical-align: middle;\n",
       "    }\n",
       "\n",
       "    .dataframe tbody tr th {\n",
       "        vertical-align: top;\n",
       "    }\n",
       "\n",
       "    .dataframe thead th {\n",
       "        text-align: right;\n",
       "    }\n",
       "</style>\n",
       "<table border=\"1\" class=\"dataframe\">\n",
       "  <thead>\n",
       "    <tr style=\"text-align: right;\">\n",
       "      <th>NumOfProducts</th>\n",
       "      <th>1</th>\n",
       "      <th>2</th>\n",
       "      <th>3</th>\n",
       "      <th>4</th>\n",
       "    </tr>\n",
       "    <tr>\n",
       "      <th>Exited</th>\n",
       "      <th></th>\n",
       "      <th></th>\n",
       "      <th></th>\n",
       "      <th></th>\n",
       "    </tr>\n",
       "  </thead>\n",
       "  <tbody>\n",
       "    <tr>\n",
       "      <th>0</th>\n",
       "      <td>0.722856</td>\n",
       "      <td>0.924183</td>\n",
       "      <td>0.172932</td>\n",
       "      <td>0.0</td>\n",
       "    </tr>\n",
       "    <tr>\n",
       "      <th>1</th>\n",
       "      <td>0.277144</td>\n",
       "      <td>0.075817</td>\n",
       "      <td>0.827068</td>\n",
       "      <td>1.0</td>\n",
       "    </tr>\n",
       "  </tbody>\n",
       "</table>\n",
       "</div>"
      ],
      "text/plain": [
       "NumOfProducts         1         2         3    4\n",
       "Exited                                          \n",
       "0              0.722856  0.924183  0.172932  0.0\n",
       "1              0.277144  0.075817  0.827068  1.0"
      ]
     },
     "execution_count": 36,
     "metadata": {},
     "output_type": "execute_result"
    }
   ],
   "source": [
    "ct2=pd.crosstab(index=df['Exited'],columns=df['NumOfProducts'],normalize='columns')\n",
    "ct2"
   ]
  },
  {
   "cell_type": "code",
   "execution_count": 45,
   "id": "0e284a47",
   "metadata": {},
   "outputs": [
    {
     "data": {
      "text/plain": [
       "<AxesSubplot:xlabel='NumOfProducts', ylabel='Exited'>"
      ]
     },
     "execution_count": 45,
     "metadata": {},
     "output_type": "execute_result"
    },
    {
     "data": {
      "image/png": "[encoded data removed]",
      "text/plain": [
       "<Figure size 432x288 with 2 Axes>"
      ]
     },
     "metadata": {
      "needs_background": "light"
     },
     "output_type": "display_data"
    }
   ],
   "source": [
    "sb.heatmap(data=ct2,annot=True,cmap='Blues')"
   ]
  },
  {
   "cell_type": "markdown",
   "id": "f1172fc9",
   "metadata": {},
   "source": [
    "##### There was a 100% churn rate among customers who owned 4 bank products and an 83% churn rate among customers who had 3 bank products.\n",
    "##### The churn rate was minimum among customers who had 2 bank products (7.6%).\n",
    "##### The churn rate among customers who had 1 bank product was 28%."
   ]
  },
  {
   "cell_type": "code",
   "execution_count": 47,
   "id": "616cff44",
   "metadata": {},
   "outputs": [
    {
     "data": {
      "text/plain": [
       "<AxesSubplot:xlabel='HasCrCard', ylabel='count'>"
      ]
     },
     "execution_count": 47,
     "metadata": {},
     "output_type": "execute_result"
    },
    {
     "data": {
      "image/png": "[encoded data removed]",
      "text/plain": [
       "<Figure size 432x288 with 1 Axes>"
      ]
     },
     "metadata": {
      "needs_background": "light"
     },
     "output_type": "display_data"
    }
   ],
   "source": [
    "sb.countplot(data=df,x='HasCrCard',hue='Exited')"
   ]
  },
  {
   "cell_type": "markdown",
   "id": "44daf491",
   "metadata": {},
   "source": [
    "##### The churn numbers were higher among customers who had credit cards"
   ]
  },
  {
   "cell_type": "code",
   "execution_count": 49,
   "id": "dea990a6",
   "metadata": {},
   "outputs": [
    {
     "data": {
      "text/html": [
       "<div>\n",
       "<style scoped>\n",
       "    .dataframe tbody tr th:only-of-type {\n",
       "        vertical-align: middle;\n",
       "    }\n",
       "\n",
       "    .dataframe tbody tr th {\n",
       "        vertical-align: top;\n",
       "    }\n",
       "\n",
       "    .dataframe thead th {\n",
       "        text-align: right;\n",
       "    }\n",
       "</style>\n",
       "<table border=\"1\" class=\"dataframe\">\n",
       "  <thead>\n",
       "    <tr style=\"text-align: right;\">\n",
       "      <th>HasCrCard</th>\n",
       "      <th>0</th>\n",
       "      <th>1</th>\n",
       "    </tr>\n",
       "    <tr>\n",
       "      <th>Exited</th>\n",
       "      <th></th>\n",
       "      <th></th>\n",
       "    </tr>\n",
       "  </thead>\n",
       "  <tbody>\n",
       "    <tr>\n",
       "      <th>0</th>\n",
       "      <td>0.791851</td>\n",
       "      <td>0.798157</td>\n",
       "    </tr>\n",
       "    <tr>\n",
       "      <th>1</th>\n",
       "      <td>0.208149</td>\n",
       "      <td>0.201843</td>\n",
       "    </tr>\n",
       "  </tbody>\n",
       "</table>\n",
       "</div>"
      ],
      "text/plain": [
       "HasCrCard         0         1\n",
       "Exited                       \n",
       "0          0.791851  0.798157\n",
       "1          0.208149  0.201843"
      ]
     },
     "execution_count": 49,
     "metadata": {},
     "output_type": "execute_result"
    }
   ],
   "source": [
    "ct3=pd.crosstab(index=df['Exited'],columns=df['HasCrCard'],normalize='columns')\n",
    "ct3"
   ]
  },
  {
   "cell_type": "code",
   "execution_count": 50,
   "id": "d733b2d5",
   "metadata": {},
   "outputs": [
    {
     "data": {
      "text/plain": [
       "<AxesSubplot:xlabel='HasCrCard', ylabel='Exited'>"
      ]
     },
     "execution_count": 50,
     "metadata": {},
     "output_type": "execute_result"
    },
    {
     "data": {
      "image/png": "[encoded data removed]",
      "text/plain": [
       "<Figure size 432x288 with 2 Axes>"
      ]
     },
     "metadata": {
      "needs_background": "light"
     },
     "output_type": "display_data"
    }
   ],
   "source": [
    "sb.heatmap(data=ct3,annot=True,cmap='Blues')"
   ]
  },
  {
   "cell_type": "markdown",
   "id": "d0627fe2",
   "metadata": {},
   "source": [
    "##### The churn rate was almost equal among customers with or without credit card (20% and 21% respectively)"
   ]
  },
  {
   "cell_type": "code",
   "execution_count": 51,
   "id": "a0f27f09",
   "metadata": {},
   "outputs": [
    {
     "data": {
      "text/plain": [
       "<AxesSubplot:xlabel='IsActiveMember', ylabel='count'>"
      ]
     },
     "execution_count": 51,
     "metadata": {},
     "output_type": "execute_result"
    },
    {
     "data": {
      "image/png": "[encoded data removed]",
      "text/plain": [
       "<Figure size 432x288 with 1 Axes>"
      ]
     },
     "metadata": {
      "needs_background": "light"
     },
     "output_type": "display_data"
    }
   ],
   "source": [
    "sb.countplot(data=df,x='IsActiveMember',hue='Exited')"
   ]
  },
  {
   "cell_type": "markdown",
   "id": "af302654",
   "metadata": {},
   "source": [
    "##### The Churn numbers were higher among non-active members as compared to active members"
   ]
  },
  {
   "cell_type": "code",
   "execution_count": 52,
   "id": "df028e66",
   "metadata": {},
   "outputs": [
    {
     "data": {
      "text/html": [
       "<div>\n",
       "<style scoped>\n",
       "    .dataframe tbody tr th:only-of-type {\n",
       "        vertical-align: middle;\n",
       "    }\n",
       "\n",
       "    .dataframe tbody tr th {\n",
       "        vertical-align: top;\n",
       "    }\n",
       "\n",
       "    .dataframe thead th {\n",
       "        text-align: right;\n",
       "    }\n",
       "</style>\n",
       "<table border=\"1\" class=\"dataframe\">\n",
       "  <thead>\n",
       "    <tr style=\"text-align: right;\">\n",
       "      <th>IsActiveMember</th>\n",
       "      <th>0</th>\n",
       "      <th>1</th>\n",
       "    </tr>\n",
       "    <tr>\n",
       "      <th>Exited</th>\n",
       "      <th></th>\n",
       "      <th></th>\n",
       "    </tr>\n",
       "  </thead>\n",
       "  <tbody>\n",
       "    <tr>\n",
       "      <th>0</th>\n",
       "      <td>0.731491</td>\n",
       "      <td>0.857309</td>\n",
       "    </tr>\n",
       "    <tr>\n",
       "      <th>1</th>\n",
       "      <td>0.268509</td>\n",
       "      <td>0.142691</td>\n",
       "    </tr>\n",
       "  </tbody>\n",
       "</table>\n",
       "</div>"
      ],
      "text/plain": [
       "IsActiveMember         0         1\n",
       "Exited                            \n",
       "0               0.731491  0.857309\n",
       "1               0.268509  0.142691"
      ]
     },
     "execution_count": 52,
     "metadata": {},
     "output_type": "execute_result"
    }
   ],
   "source": [
    "ct4=pd.crosstab(index=df['Exited'],columns=df['IsActiveMember'],normalize='columns')\n",
    "ct4"
   ]
  },
  {
   "cell_type": "code",
   "execution_count": 53,
   "id": "3b54bd74",
   "metadata": {},
   "outputs": [
    {
     "data": {
      "text/plain": [
       "<AxesSubplot:xlabel='IsActiveMember', ylabel='Exited'>"
      ]
     },
     "execution_count": 53,
     "metadata": {},
     "output_type": "execute_result"
    },
    {
     "data": {
      "image/png": "[encoded data removed]",
      "text/plain": [
       "<Figure size 432x288 with 2 Axes>"
      ]
     },
     "metadata": {
      "needs_background": "light"
     },
     "output_type": "display_data"
    }
   ],
   "source": [
    "sb.heatmap(data=ct4,annot=True,cmap='Blues')"
   ]
  },
  {
   "cell_type": "markdown",
   "id": "c7bc4cdb",
   "metadata": {},
   "source": [
    "##### The churn rate is 27% among non-active members and 14% among active members"
   ]
  },
  {
   "cell_type": "code",
   "execution_count": 57,
   "id": "9ce934df",
   "metadata": {},
   "outputs": [
    {
     "data": {
      "text/plain": [
       "<AxesSubplot:xlabel='Tenure', ylabel='count'>"
      ]
     },
     "execution_count": 57,
     "metadata": {},
     "output_type": "execute_result"
    },
    {
     "data": {
      "image/png": "[encoded data removed]",
      "text/plain": [
       "<Figure size 576x432 with 1 Axes>"
      ]
     },
     "metadata": {
      "needs_background": "light"
     },
     "output_type": "display_data"
    }
   ],
   "source": [
    "plt.figure(figsize=(8,6))\n",
    "sb.countplot(data=df,x='Tenure',hue='Exited')"
   ]
  },
  {
   "cell_type": "markdown",
   "id": "2ee2dacf",
   "metadata": {},
   "source": [
    "##### Churn numbers were less among customers with 0 and 10 years of tenure\n",
    "##### Churn numbers were almost same for customers with 1-9 tears of tenure"
   ]
  },
  {
   "cell_type": "code",
   "execution_count": 58,
   "id": "be075038",
   "metadata": {},
   "outputs": [],
   "source": [
    "# Now comparing churn with continuous data"
   ]
  },
  {
   "cell_type": "code",
   "execution_count": 61,
   "id": "d6a154ad",
   "metadata": {},
   "outputs": [
    {
     "data": {
      "text/plain": [
       "<AxesSubplot:xlabel='Exited', ylabel='CreditScore'>"
      ]
     },
     "execution_count": 61,
     "metadata": {},
     "output_type": "execute_result"
    },
    {
     "data": {
      "image/png": "[encoded data removed]",
      "text/plain": [
       "<Figure size 432x288 with 1 Axes>"
      ]
     },
     "metadata": {
      "needs_background": "light"
     },
     "output_type": "display_data"
    }
   ],
   "source": [
    "sb.boxplot(data=df,x='Exited',y='CreditScore',showmeans=True)"
   ]
  },
  {
   "cell_type": "markdown",
   "id": "3bf67dac",
   "metadata": {},
   "source": [
    "##### The range and median were almost the same among churned and existing customers.\n",
    "##### There were a few outliers with very low credit score among churned customers."
   ]
  },
  {
   "cell_type": "code",
   "execution_count": 62,
   "id": "72edd0d6",
   "metadata": {},
   "outputs": [
    {
     "data": {
      "text/plain": [
       "<AxesSubplot:xlabel='Exited', ylabel='Age'>"
      ]
     },
     "execution_count": 62,
     "metadata": {},
     "output_type": "execute_result"
    },
    {
     "data": {
      "image/png": "[encoded data removed]",
      "text/plain": [
       "<Figure size 432x288 with 1 Axes>"
      ]
     },
     "metadata": {
      "needs_background": "light"
     },
     "output_type": "display_data"
    }
   ],
   "source": [
    "sb.boxplot(data=df,x='Exited',y='Age',showmeans=True)"
   ]
  },
  {
   "cell_type": "markdown",
   "id": "d7c1b2fa",
   "metadata": {},
   "source": [
    "##### Churned customers had a wider range of age and even had a higher mean age compared to existing customers\n",
    "##### Existing customers had plenty outliers with respect to age."
   ]
  },
  {
   "cell_type": "code",
   "execution_count": 63,
   "id": "b3ad6f6a",
   "metadata": {},
   "outputs": [
    {
     "data": {
      "text/plain": [
       "<AxesSubplot:xlabel='Exited', ylabel='Balance'>"
      ]
     },
     "execution_count": 63,
     "metadata": {},
     "output_type": "execute_result"
    },
    {
     "data": {
      "image/png": "[encoded data removed]",
      "text/plain": [
       "<Figure size 432x288 with 1 Axes>"
      ]
     },
     "metadata": {
      "needs_background": "light"
     },
     "output_type": "display_data"
    }
   ],
   "source": [
    "sb.boxplot(data=df,x='Exited',y='Balance',showmeans=True)"
   ]
  },
  {
   "cell_type": "markdown",
   "id": "553237e2",
   "metadata": {},
   "source": [
    "##### Churned customers had the wider range and greater mean balance compared to existing customers"
   ]
  },
  {
   "cell_type": "code",
   "execution_count": 64,
   "id": "d5cbebad",
   "metadata": {},
   "outputs": [
    {
     "data": {
      "text/plain": [
       "<AxesSubplot:xlabel='Exited', ylabel='EstimatedSalary'>"
      ]
     },
     "execution_count": 64,
     "metadata": {},
     "output_type": "execute_result"
    },
    {
     "data": {
      "image/png": "[encoded data removed]",
      "text/plain": [
       "<Figure size 432x288 with 1 Axes>"
      ]
     },
     "metadata": {
      "needs_background": "light"
     },
     "output_type": "display_data"
    }
   ],
   "source": [
    "sb.boxplot(data=df,x='Exited',y='EstimatedSalary',showmeans=True)"
   ]
  },
  {
   "cell_type": "markdown",
   "id": "6e5e0bcb",
   "metadata": {},
   "source": [
    "##### The spread of Estimated salary among churned customers and existing customers is almost identical with both having similar means aswell"
   ]
  },
  {
   "cell_type": "code",
   "execution_count": null,
   "id": "5bc45c1d",
   "metadata": {},
   "outputs": [],
   "source": []
  },
  {
   "cell_type": "code",
   "execution_count": 65,
   "id": "d084730c",
   "metadata": {},
   "outputs": [
    {
     "data": {
      "text/plain": [
       "CreditScore          int64\n",
       "Geography           object\n",
       "Gender              object\n",
       "Age                  int64\n",
       "Tenure               int64\n",
       "Balance            float64\n",
       "NumOfProducts        int64\n",
       "HasCrCard            int64\n",
       "IsActiveMember       int64\n",
       "EstimatedSalary    float64\n",
       "Exited               int64\n",
       "dtype: object"
      ]
     },
     "execution_count": 65,
     "metadata": {},
     "output_type": "execute_result"
    }
   ],
   "source": [
    "# checking for the datatypes of the columns\n",
    "df.dtypes"
   ]
  },
  {
   "cell_type": "markdown",
   "id": "a9d39e9e",
   "metadata": {},
   "source": [
    "##### Converting object datatype to categorical"
   ]
  },
  {
   "cell_type": "code",
   "execution_count": 66,
   "id": "5f481cd4",
   "metadata": {},
   "outputs": [],
   "source": [
    "# Creating copy of dataframe\n",
    "df1=df.copy()"
   ]
  },
  {
   "cell_type": "code",
   "execution_count": 67,
   "id": "b59a5aee",
   "metadata": {},
   "outputs": [],
   "source": [
    "df1['Geography']=df1['Geography'].astype('category')\n",
    "df1['Gender']=df1['Gender'].astype('category')"
   ]
  },
  {
   "cell_type": "markdown",
   "id": "40b4e1aa",
   "metadata": {},
   "source": [
    "##### Encoding the categorical columns"
   ]
  },
  {
   "cell_type": "code",
   "execution_count": 70,
   "id": "60de6a63",
   "metadata": {},
   "outputs": [],
   "source": [
    "label_encoder=preprocessing.LabelEncoder()"
   ]
  },
  {
   "cell_type": "code",
   "execution_count": 71,
   "id": "725af0ff",
   "metadata": {},
   "outputs": [],
   "source": [
    "df1['Geography']=label_encoder.fit_transform(df1['Geography'])\n",
    "df1['Gender']=label_encoder.fit_transform(df1['Gender'])"
   ]
  },
  {
   "cell_type": "code",
   "execution_count": 72,
   "id": "bd773a0f",
   "metadata": {},
   "outputs": [
    {
     "data": {
      "text/html": [
       "<div>\n",
       "<style scoped>\n",
       "    .dataframe tbody tr th:only-of-type {\n",
       "        vertical-align: middle;\n",
       "    }\n",
       "\n",
       "    .dataframe tbody tr th {\n",
       "        vertical-align: top;\n",
       "    }\n",
       "\n",
       "    .dataframe thead th {\n",
       "        text-align: right;\n",
       "    }\n",
       "</style>\n",
       "<table border=\"1\" class=\"dataframe\">\n",
       "  <thead>\n",
       "    <tr style=\"text-align: right;\">\n",
       "      <th></th>\n",
       "      <th>CreditScore</th>\n",
       "      <th>Geography</th>\n",
       "      <th>Gender</th>\n",
       "      <th>Age</th>\n",
       "      <th>Tenure</th>\n",
       "      <th>Balance</th>\n",
       "      <th>NumOfProducts</th>\n",
       "      <th>HasCrCard</th>\n",
       "      <th>IsActiveMember</th>\n",
       "      <th>EstimatedSalary</th>\n",
       "      <th>Exited</th>\n",
       "    </tr>\n",
       "  </thead>\n",
       "  <tbody>\n",
       "    <tr>\n",
       "      <th>0</th>\n",
       "      <td>619</td>\n",
       "      <td>0</td>\n",
       "      <td>0</td>\n",
       "      <td>42</td>\n",
       "      <td>2</td>\n",
       "      <td>0.00</td>\n",
       "      <td>1</td>\n",
       "      <td>1</td>\n",
       "      <td>1</td>\n",
       "      <td>101348.88</td>\n",
       "      <td>1</td>\n",
       "    </tr>\n",
       "    <tr>\n",
       "      <th>1</th>\n",
       "      <td>608</td>\n",
       "      <td>2</td>\n",
       "      <td>0</td>\n",
       "      <td>41</td>\n",
       "      <td>1</td>\n",
       "      <td>83807.86</td>\n",
       "      <td>1</td>\n",
       "      <td>0</td>\n",
       "      <td>1</td>\n",
       "      <td>112542.58</td>\n",
       "      <td>0</td>\n",
       "    </tr>\n",
       "    <tr>\n",
       "      <th>2</th>\n",
       "      <td>502</td>\n",
       "      <td>0</td>\n",
       "      <td>0</td>\n",
       "      <td>42</td>\n",
       "      <td>8</td>\n",
       "      <td>159660.80</td>\n",
       "      <td>3</td>\n",
       "      <td>1</td>\n",
       "      <td>0</td>\n",
       "      <td>113931.57</td>\n",
       "      <td>1</td>\n",
       "    </tr>\n",
       "    <tr>\n",
       "      <th>3</th>\n",
       "      <td>699</td>\n",
       "      <td>0</td>\n",
       "      <td>0</td>\n",
       "      <td>39</td>\n",
       "      <td>1</td>\n",
       "      <td>0.00</td>\n",
       "      <td>2</td>\n",
       "      <td>0</td>\n",
       "      <td>0</td>\n",
       "      <td>93826.63</td>\n",
       "      <td>0</td>\n",
       "    </tr>\n",
       "    <tr>\n",
       "      <th>4</th>\n",
       "      <td>850</td>\n",
       "      <td>2</td>\n",
       "      <td>0</td>\n",
       "      <td>43</td>\n",
       "      <td>2</td>\n",
       "      <td>125510.82</td>\n",
       "      <td>1</td>\n",
       "      <td>1</td>\n",
       "      <td>1</td>\n",
       "      <td>79084.10</td>\n",
       "      <td>0</td>\n",
       "    </tr>\n",
       "  </tbody>\n",
       "</table>\n",
       "</div>"
      ],
      "text/plain": [
       "   CreditScore  Geography  Gender  Age  Tenure    Balance  NumOfProducts  \\\n",
       "0          619          0       0   42       2       0.00              1   \n",
       "1          608          2       0   41       1   83807.86              1   \n",
       "2          502          0       0   42       8  159660.80              3   \n",
       "3          699          0       0   39       1       0.00              2   \n",
       "4          850          2       0   43       2  125510.82              1   \n",
       "\n",
       "   HasCrCard  IsActiveMember  EstimatedSalary  Exited  \n",
       "0          1               1        101348.88       1  \n",
       "1          0               1        112542.58       0  \n",
       "2          1               0        113931.57       1  \n",
       "3          0               0         93826.63       0  \n",
       "4          1               1         79084.10       0  "
      ]
     },
     "execution_count": 72,
     "metadata": {},
     "output_type": "execute_result"
    }
   ],
   "source": [
    "df1.head()"
   ]
  },
  {
   "cell_type": "code",
   "execution_count": 73,
   "id": "64e4babd",
   "metadata": {},
   "outputs": [],
   "source": [
    "df1_copy=df1.copy()"
   ]
  },
  {
   "cell_type": "markdown",
   "id": "bd20a864",
   "metadata": {},
   "source": [
    "##### Finding features that are highly correlated to target variable (exited)"
   ]
  },
  {
   "cell_type": "code",
   "execution_count": 74,
   "id": "3542a19c",
   "metadata": {},
   "outputs": [
    {
     "data": {
      "text/plain": [
       "<AxesSubplot:>"
      ]
     },
     "execution_count": 74,
     "metadata": {},
     "output_type": "execute_result"
    },
    {
     "data": {
      "image/png": "[encoded data removed]",
      "text/plain": [
       "<Figure size 864x576 with 2 Axes>"
      ]
     },
     "metadata": {
      "needs_background": "light"
     },
     "output_type": "display_data"
    }
   ],
   "source": [
    "plt.figure(figsize=(12,8))\n",
    "sb.heatmap(data=df1_copy.corr(),annot=True)"
   ]
  },
  {
   "cell_type": "markdown",
   "id": "4d8e44af",
   "metadata": {},
   "source": [
    "##### Since all columns have very less correlation with the label, all columns are considered as it's features for modelling"
   ]
  },
  {
   "cell_type": "code",
   "execution_count": 75,
   "id": "f9653a49",
   "metadata": {},
   "outputs": [],
   "source": [
    "df1.drop('Exited',axis=1,inplace=True)"
   ]
  },
  {
   "cell_type": "markdown",
   "id": "b27d994e",
   "metadata": {},
   "source": [
    "##### Performing Scaling on the features"
   ]
  },
  {
   "cell_type": "code",
   "execution_count": 76,
   "id": "d807a9f7",
   "metadata": {},
   "outputs": [],
   "source": [
    "# Since the features are not normally distributed, we perform min-max scaling"
   ]
  },
  {
   "cell_type": "code",
   "execution_count": 77,
   "id": "e951dc42",
   "metadata": {},
   "outputs": [],
   "source": [
    "scaler=MinMaxScaler()"
   ]
  },
  {
   "cell_type": "code",
   "execution_count": 78,
   "id": "c4010bf6",
   "metadata": {},
   "outputs": [],
   "source": [
    "df_scaled=pd.DataFrame(scaler.fit_transform(df1.to_numpy()),columns=df1.columns)"
   ]
  },
  {
   "cell_type": "code",
   "execution_count": 79,
   "id": "3c158240",
   "metadata": {},
   "outputs": [
    {
     "data": {
      "text/html": [
       "<div>\n",
       "<style scoped>\n",
       "    .dataframe tbody tr th:only-of-type {\n",
       "        vertical-align: middle;\n",
       "    }\n",
       "\n",
       "    .dataframe tbody tr th {\n",
       "        vertical-align: top;\n",
       "    }\n",
       "\n",
       "    .dataframe thead th {\n",
       "        text-align: right;\n",
       "    }\n",
       "</style>\n",
       "<table border=\"1\" class=\"dataframe\">\n",
       "  <thead>\n",
       "    <tr style=\"text-align: right;\">\n",
       "      <th></th>\n",
       "      <th>CreditScore</th>\n",
       "      <th>Geography</th>\n",
       "      <th>Gender</th>\n",
       "      <th>Age</th>\n",
       "      <th>Tenure</th>\n",
       "      <th>Balance</th>\n",
       "      <th>NumOfProducts</th>\n",
       "      <th>HasCrCard</th>\n",
       "      <th>IsActiveMember</th>\n",
       "      <th>EstimatedSalary</th>\n",
       "    </tr>\n",
       "  </thead>\n",
       "  <tbody>\n",
       "    <tr>\n",
       "      <th>0</th>\n",
       "      <td>0.538</td>\n",
       "      <td>0.0</td>\n",
       "      <td>0.0</td>\n",
       "      <td>0.324324</td>\n",
       "      <td>0.2</td>\n",
       "      <td>0.000000</td>\n",
       "      <td>0.000000</td>\n",
       "      <td>1.0</td>\n",
       "      <td>1.0</td>\n",
       "      <td>0.506735</td>\n",
       "    </tr>\n",
       "    <tr>\n",
       "      <th>1</th>\n",
       "      <td>0.516</td>\n",
       "      <td>1.0</td>\n",
       "      <td>0.0</td>\n",
       "      <td>0.310811</td>\n",
       "      <td>0.1</td>\n",
       "      <td>0.334031</td>\n",
       "      <td>0.000000</td>\n",
       "      <td>0.0</td>\n",
       "      <td>1.0</td>\n",
       "      <td>0.562709</td>\n",
       "    </tr>\n",
       "    <tr>\n",
       "      <th>2</th>\n",
       "      <td>0.304</td>\n",
       "      <td>0.0</td>\n",
       "      <td>0.0</td>\n",
       "      <td>0.324324</td>\n",
       "      <td>0.8</td>\n",
       "      <td>0.636357</td>\n",
       "      <td>0.666667</td>\n",
       "      <td>1.0</td>\n",
       "      <td>0.0</td>\n",
       "      <td>0.569654</td>\n",
       "    </tr>\n",
       "    <tr>\n",
       "      <th>3</th>\n",
       "      <td>0.698</td>\n",
       "      <td>0.0</td>\n",
       "      <td>0.0</td>\n",
       "      <td>0.283784</td>\n",
       "      <td>0.1</td>\n",
       "      <td>0.000000</td>\n",
       "      <td>0.333333</td>\n",
       "      <td>0.0</td>\n",
       "      <td>0.0</td>\n",
       "      <td>0.469120</td>\n",
       "    </tr>\n",
       "    <tr>\n",
       "      <th>4</th>\n",
       "      <td>1.000</td>\n",
       "      <td>1.0</td>\n",
       "      <td>0.0</td>\n",
       "      <td>0.337838</td>\n",
       "      <td>0.2</td>\n",
       "      <td>0.500246</td>\n",
       "      <td>0.000000</td>\n",
       "      <td>1.0</td>\n",
       "      <td>1.0</td>\n",
       "      <td>0.395400</td>\n",
       "    </tr>\n",
       "  </tbody>\n",
       "</table>\n",
       "</div>"
      ],
      "text/plain": [
       "   CreditScore  Geography  Gender       Age  Tenure   Balance  NumOfProducts  \\\n",
       "0        0.538        0.0     0.0  0.324324     0.2  0.000000       0.000000   \n",
       "1        0.516        1.0     0.0  0.310811     0.1  0.334031       0.000000   \n",
       "2        0.304        0.0     0.0  0.324324     0.8  0.636357       0.666667   \n",
       "3        0.698        0.0     0.0  0.283784     0.1  0.000000       0.333333   \n",
       "4        1.000        1.0     0.0  0.337838     0.2  0.500246       0.000000   \n",
       "\n",
       "   HasCrCard  IsActiveMember  EstimatedSalary  \n",
       "0        1.0             1.0         0.506735  \n",
       "1        0.0             1.0         0.562709  \n",
       "2        1.0             0.0         0.569654  \n",
       "3        0.0             0.0         0.469120  \n",
       "4        1.0             1.0         0.395400  "
      ]
     },
     "execution_count": 79,
     "metadata": {},
     "output_type": "execute_result"
    }
   ],
   "source": [
    "df_scaled.head()"
   ]
  },
  {
   "cell_type": "code",
   "execution_count": null,
   "id": "117bedca",
   "metadata": {},
   "outputs": [],
   "source": []
  },
  {
   "cell_type": "markdown",
   "id": "f2d9735e",
   "metadata": {},
   "source": [
    "##### Performing Feature Selection"
   ]
  },
  {
   "cell_type": "code",
   "execution_count": 80,
   "id": "bd173a5e",
   "metadata": {},
   "outputs": [
    {
     "data": {
      "text/plain": [
       "((10000, 10), (10000, 1))"
      ]
     },
     "execution_count": 80,
     "metadata": {},
     "output_type": "execute_result"
    }
   ],
   "source": [
    "X=df_scaled\n",
    "y=df1_copy[['Exited']]\n",
    "X.shape,y.shape"
   ]
  },
  {
   "cell_type": "code",
   "execution_count": null,
   "id": "46987d04",
   "metadata": {},
   "outputs": [],
   "source": []
  },
  {
   "cell_type": "markdown",
   "id": "3d92d6a1",
   "metadata": {},
   "source": [
    "##### Splitting data into train set and test set in 70:30 ratio"
   ]
  },
  {
   "cell_type": "code",
   "execution_count": 83,
   "id": "28667fe2",
   "metadata": {},
   "outputs": [],
   "source": [
    "x_train,x_test,y_train,y_test=train_test_split(X,y,test_size=0.3,random_state=30)"
   ]
  },
  {
   "cell_type": "code",
   "execution_count": 84,
   "id": "7a180315",
   "metadata": {},
   "outputs": [
    {
     "data": {
      "text/plain": [
       "((7000, 10), (3000, 10), (7000, 1), (3000, 1))"
      ]
     },
     "execution_count": 84,
     "metadata": {},
     "output_type": "execute_result"
    }
   ],
   "source": [
    "x_train.shape,x_test.shape,y_train.shape,y_test.shape"
   ]
  },
  {
   "cell_type": "code",
   "execution_count": null,
   "id": "afa42e6c",
   "metadata": {},
   "outputs": [],
   "source": []
  },
  {
   "cell_type": "code",
   "execution_count": null,
   "id": "8e36d76e",
   "metadata": {},
   "outputs": [],
   "source": []
  },
  {
   "cell_type": "markdown",
   "id": "6a878ea0",
   "metadata": {},
   "source": [
    "### 1) Performing Logistic Regression"
   ]
  },
  {
   "cell_type": "code",
   "execution_count": 95,
   "id": "dcbde853",
   "metadata": {},
   "outputs": [],
   "source": [
    "model1=LogisticRegression().fit(x_train,y_train)"
   ]
  },
  {
   "cell_type": "code",
   "execution_count": 96,
   "id": "41f20fd2",
   "metadata": {},
   "outputs": [
    {
     "data": {
      "text/plain": [
       "81.03"
      ]
     },
     "execution_count": 96,
     "metadata": {},
     "output_type": "execute_result"
    }
   ],
   "source": [
    "train_accuracy=round(model1.score(x_train,y_train)*100,2)\n",
    "train_accuracy"
   ]
  },
  {
   "cell_type": "markdown",
   "id": "a51c9f26",
   "metadata": {},
   "source": [
    "##### Since we have got an 81.03% accuracy on our train dataset, it can be considered a good model for prediction"
   ]
  },
  {
   "cell_type": "code",
   "execution_count": 99,
   "id": "6cfea920",
   "metadata": {},
   "outputs": [],
   "source": [
    "y_pred_LR=model1.predict(x_test)"
   ]
  },
  {
   "cell_type": "code",
   "execution_count": 100,
   "id": "969910d9",
   "metadata": {},
   "outputs": [],
   "source": [
    "data1=pd.DataFrame()"
   ]
  },
  {
   "cell_type": "code",
   "execution_count": 102,
   "id": "f3cf2b92",
   "metadata": {},
   "outputs": [
    {
     "data": {
      "text/html": [
       "<div>\n",
       "<style scoped>\n",
       "    .dataframe tbody tr th:only-of-type {\n",
       "        vertical-align: middle;\n",
       "    }\n",
       "\n",
       "    .dataframe tbody tr th {\n",
       "        vertical-align: top;\n",
       "    }\n",
       "\n",
       "    .dataframe thead th {\n",
       "        text-align: right;\n",
       "    }\n",
       "</style>\n",
       "<table border=\"1\" class=\"dataframe\">\n",
       "  <thead>\n",
       "    <tr style=\"text-align: right;\">\n",
       "      <th></th>\n",
       "      <th>Actual_y</th>\n",
       "      <th>Predicted_y</th>\n",
       "    </tr>\n",
       "  </thead>\n",
       "  <tbody>\n",
       "    <tr>\n",
       "      <th>8793</th>\n",
       "      <td>0</td>\n",
       "      <td>0</td>\n",
       "    </tr>\n",
       "    <tr>\n",
       "      <th>1122</th>\n",
       "      <td>1</td>\n",
       "      <td>1</td>\n",
       "    </tr>\n",
       "    <tr>\n",
       "      <th>1283</th>\n",
       "      <td>0</td>\n",
       "      <td>0</td>\n",
       "    </tr>\n",
       "    <tr>\n",
       "      <th>9318</th>\n",
       "      <td>0</td>\n",
       "      <td>0</td>\n",
       "    </tr>\n",
       "    <tr>\n",
       "      <th>7765</th>\n",
       "      <td>0</td>\n",
       "      <td>1</td>\n",
       "    </tr>\n",
       "    <tr>\n",
       "      <th>...</th>\n",
       "      <td>...</td>\n",
       "      <td>...</td>\n",
       "    </tr>\n",
       "    <tr>\n",
       "      <th>3024</th>\n",
       "      <td>0</td>\n",
       "      <td>0</td>\n",
       "    </tr>\n",
       "    <tr>\n",
       "      <th>5904</th>\n",
       "      <td>1</td>\n",
       "      <td>0</td>\n",
       "    </tr>\n",
       "    <tr>\n",
       "      <th>3807</th>\n",
       "      <td>0</td>\n",
       "      <td>0</td>\n",
       "    </tr>\n",
       "    <tr>\n",
       "      <th>6746</th>\n",
       "      <td>0</td>\n",
       "      <td>0</td>\n",
       "    </tr>\n",
       "    <tr>\n",
       "      <th>7377</th>\n",
       "      <td>0</td>\n",
       "      <td>0</td>\n",
       "    </tr>\n",
       "  </tbody>\n",
       "</table>\n",
       "<p>3000 rows × 2 columns</p>\n",
       "</div>"
      ],
      "text/plain": [
       "      Actual_y  Predicted_y\n",
       "8793         0            0\n",
       "1122         1            1\n",
       "1283         0            0\n",
       "9318         0            0\n",
       "7765         0            1\n",
       "...        ...          ...\n",
       "3024         0            0\n",
       "5904         1            0\n",
       "3807         0            0\n",
       "6746         0            0\n",
       "7377         0            0\n",
       "\n",
       "[3000 rows x 2 columns]"
      ]
     },
     "execution_count": 102,
     "metadata": {},
     "output_type": "execute_result"
    }
   ],
   "source": [
    "data1['Actual_y']=y_test\n",
    "data1['Predicted_y']=y_pred_LR\n",
    "data1"
   ]
  },
  {
   "cell_type": "code",
   "execution_count": 103,
   "id": "02fb48ed",
   "metadata": {},
   "outputs": [
    {
     "data": {
      "text/plain": [
       "array([[-0.18540138,  0.14826651, -0.56441847,  5.15194   , -0.24461751,\n",
       "         1.2312749 , -0.02599254, -0.04084244, -1.03417598,  0.09173647]])"
      ]
     },
     "execution_count": 103,
     "metadata": {},
     "output_type": "execute_result"
    }
   ],
   "source": [
    "# model coefficient\n",
    "model1.coef_"
   ]
  },
  {
   "cell_type": "code",
   "execution_count": 106,
   "id": "992bc5f6",
   "metadata": {},
   "outputs": [
    {
     "data": {
      "text/html": [
       "<div>\n",
       "<style scoped>\n",
       "    .dataframe tbody tr th:only-of-type {\n",
       "        vertical-align: middle;\n",
       "    }\n",
       "\n",
       "    .dataframe tbody tr th {\n",
       "        vertical-align: top;\n",
       "    }\n",
       "\n",
       "    .dataframe thead th {\n",
       "        text-align: right;\n",
       "    }\n",
       "</style>\n",
       "<table border=\"1\" class=\"dataframe\">\n",
       "  <thead>\n",
       "    <tr style=\"text-align: right;\">\n",
       "      <th></th>\n",
       "      <th>Feature</th>\n",
       "      <th>slope</th>\n",
       "    </tr>\n",
       "  </thead>\n",
       "  <tbody>\n",
       "    <tr>\n",
       "      <th>3</th>\n",
       "      <td>Tenure</td>\n",
       "      <td>5.151940</td>\n",
       "    </tr>\n",
       "    <tr>\n",
       "      <th>5</th>\n",
       "      <td>NumOfProducts</td>\n",
       "      <td>1.231275</td>\n",
       "    </tr>\n",
       "    <tr>\n",
       "      <th>1</th>\n",
       "      <td>Gender</td>\n",
       "      <td>0.148267</td>\n",
       "    </tr>\n",
       "    <tr>\n",
       "      <th>6</th>\n",
       "      <td>HasCrCard</td>\n",
       "      <td>-0.025993</td>\n",
       "    </tr>\n",
       "    <tr>\n",
       "      <th>7</th>\n",
       "      <td>IsActiveMember</td>\n",
       "      <td>-0.040842</td>\n",
       "    </tr>\n",
       "    <tr>\n",
       "      <th>0</th>\n",
       "      <td>Geography</td>\n",
       "      <td>-0.185401</td>\n",
       "    </tr>\n",
       "    <tr>\n",
       "      <th>4</th>\n",
       "      <td>Balance</td>\n",
       "      <td>-0.244618</td>\n",
       "    </tr>\n",
       "    <tr>\n",
       "      <th>2</th>\n",
       "      <td>Age</td>\n",
       "      <td>-0.564418</td>\n",
       "    </tr>\n",
       "    <tr>\n",
       "      <th>8</th>\n",
       "      <td>EstimatedSalary</td>\n",
       "      <td>-1.034176</td>\n",
       "    </tr>\n",
       "  </tbody>\n",
       "</table>\n",
       "</div>"
      ],
      "text/plain": [
       "           Feature     slope\n",
       "3           Tenure  5.151940\n",
       "5    NumOfProducts  1.231275\n",
       "1           Gender  0.148267\n",
       "6        HasCrCard -0.025993\n",
       "7   IsActiveMember -0.040842\n",
       "0        Geography -0.185401\n",
       "4          Balance -0.244618\n",
       "2              Age -0.564418\n",
       "8  EstimatedSalary -1.034176"
      ]
     },
     "execution_count": 106,
     "metadata": {},
     "output_type": "execute_result"
    }
   ],
   "source": [
    "coeff_df=pd.DataFrame(df_scaled.columns.delete(0))\n",
    "coeff_df.columns=['Feature']\n",
    "coeff_df['slope']=pd.Series(model1.coef_[0])\n",
    "coeff_df.sort_values(by='slope',ascending=False)"
   ]
  },
  {
   "cell_type": "code",
   "execution_count": 104,
   "id": "6455afea",
   "metadata": {},
   "outputs": [
    {
     "data": {
      "text/plain": [
       "array([-2.44802034])"
      ]
     },
     "execution_count": 104,
     "metadata": {},
     "output_type": "execute_result"
    }
   ],
   "source": [
    "# model intercept\n",
    "model.intercept_"
   ]
  },
  {
   "cell_type": "code",
   "execution_count": 108,
   "id": "74bb8d69",
   "metadata": {},
   "outputs": [
    {
     "data": {
      "text/plain": [
       "80.03"
      ]
     },
     "execution_count": 108,
     "metadata": {},
     "output_type": "execute_result"
    }
   ],
   "source": [
    "# test accuaracy\n",
    "test_accuracy=round(model1.score(x_test,y_test)*100,2)\n",
    "test_accuracy"
   ]
  },
  {
   "cell_type": "markdown",
   "id": "cee53db8",
   "metadata": {},
   "source": [
    "##### The accuracy score obtained for our test dataset is 80.03 which is quite good and is a near perfect fit model when comparing with the accuracy of the train dataset"
   ]
  },
  {
   "cell_type": "code",
   "execution_count": 128,
   "id": "e5bb1306",
   "metadata": {},
   "outputs": [
    {
     "name": "stdout",
     "output_type": "stream",
     "text": [
      "[[2295   68]\n",
      " [ 531  106]]\n"
     ]
    }
   ],
   "source": [
    "print(confusion_matrix(y_test,y_pred_LR))"
   ]
  },
  {
   "cell_type": "code",
   "execution_count": 129,
   "id": "7b85aa8c",
   "metadata": {},
   "outputs": [
    {
     "name": "stdout",
     "output_type": "stream",
     "text": [
      "True Negative count: 2295\n",
      "True Positive count: 106\n",
      "False Positive count: 68\n",
      "False Negative count: 531\n"
     ]
    }
   ],
   "source": [
    "tn,fp,fn,tp=confusion_matrix(y_test,y_pred_LR).ravel()\n",
    "print('True Negative count:',tn)\n",
    "print('True Positive count:',tp)\n",
    "print('False Positive count:',fp)\n",
    "print('False Negative count:',fn)"
   ]
  },
  {
   "cell_type": "markdown",
   "id": "4b48bf71",
   "metadata": {},
   "source": [
    "##### From the confusion matrix it is evident that most results were predicted accurately but there was a high inaccuracy number for False Negative predictions"
   ]
  },
  {
   "cell_type": "code",
   "execution_count": 130,
   "id": "a4a20cd4",
   "metadata": {},
   "outputs": [
    {
     "name": "stdout",
     "output_type": "stream",
     "text": [
      "accuracy: 0.8003333333333333\n",
      "recall: 0.1664050235478807\n",
      "f1-score: 0.26140567200986436\n",
      "precision: 0.6091954022988506\n"
     ]
    }
   ],
   "source": [
    "print('accuracy:',accuracy_score(y_test,y_pred_LR))\n",
    "print('recall:', recall_score(y_test,y_pred_LR))\n",
    "print('f1-score:', f1_score(y_test,y_pred_LR))\n",
    "print('precision:',precision_score(y_test,y_pred_LR))"
   ]
  },
  {
   "cell_type": "code",
   "execution_count": 115,
   "id": "6d90f063",
   "metadata": {},
   "outputs": [
    {
     "name": "stdout",
     "output_type": "stream",
     "text": [
      "              precision    recall  f1-score   support\n",
      "\n",
      "           0       0.81      0.97      0.88      2363\n",
      "           1       0.61      0.17      0.26       637\n",
      "\n",
      "    accuracy                           0.80      3000\n",
      "   macro avg       0.71      0.57      0.57      3000\n",
      "weighted avg       0.77      0.80      0.75      3000\n",
      "\n"
     ]
    }
   ],
   "source": [
    "print(classification_report(y_test, y_pred_LR))"
   ]
  },
  {
   "cell_type": "code",
   "execution_count": null,
   "id": "35e1a0c3",
   "metadata": {},
   "outputs": [],
   "source": [
    "# Checking for ROC-AUC Score"
   ]
  },
  {
   "cell_type": "code",
   "execution_count": 140,
   "id": "98534e49",
   "metadata": {},
   "outputs": [
    {
     "data": {
      "text/plain": [
       "0.7497766123604948"
      ]
     },
     "execution_count": 140,
     "metadata": {},
     "output_type": "execute_result"
    }
   ],
   "source": [
    "roc1=roc_auc_score(y_test, model1.predict_proba(x_test)[:,1])\n",
    "roc1"
   ]
  },
  {
   "cell_type": "markdown",
   "id": "e83a76c6",
   "metadata": {},
   "source": [
    "##### Using LR we obtain a good ROC-AUC score however there is still scope for improvement"
   ]
  },
  {
   "cell_type": "code",
   "execution_count": null,
   "id": "e0e08da4",
   "metadata": {},
   "outputs": [],
   "source": [
    "# ROC Curve"
   ]
  },
  {
   "cell_type": "code",
   "execution_count": 141,
   "id": "ffb8b87f",
   "metadata": {},
   "outputs": [
    {
     "name": "stdout",
     "output_type": "stream",
     "text": [
      "No Skill: ROC AUC=0.500\n",
      "Logistic: ROC AUC=0.750\n"
     ]
    },
    {
     "data": {
      "image/png": "[encoded data removed]",
      "text/plain": [
       "<Figure size 432x288 with 1 Axes>"
      ]
     },
     "metadata": {
      "needs_background": "light"
     },
     "output_type": "display_data"
    }
   ],
   "source": [
    "# generate a no skill prediction (majority class)\n",
    "ns_probs = [0 for _ in range(len(y_test))]\n",
    "# predict probabilities\n",
    "lr_probs = model1.predict_proba(x_test)\n",
    "# keep probabilities for the positive outcome only\n",
    "lr_probs = lr_probs[:, 1]\n",
    "# calculate scores\n",
    "ns_auc = roc_auc_score(y_test, ns_probs)\n",
    "lr_auc = roc_auc_score(y_test, lr_probs)\n",
    "# summarize scores\n",
    "print('No Skill: ROC AUC=%.3f' % (ns_auc))\n",
    "print('Logistic: ROC AUC=%.3f' % (lr_auc))\n",
    "# calculate roc curves\n",
    "ns_fpr, ns_tpr, _ = roc_curve(y_test, ns_probs)\n",
    "lr_fpr, lr_tpr, _ = roc_curve(y_test, lr_probs)\n",
    "# plot the roc curve for the model\n",
    "plt.plot(ns_fpr, ns_tpr, linestyle='--', label='No Skill')\n",
    "plt.plot(lr_fpr, lr_tpr, marker='.', label='Logistic')\n",
    "# axis labels\n",
    "plt.xlabel('False Positive Rate')\n",
    "plt.ylabel('True Positive Rate')\n",
    "# show the legend\n",
    "plt.legend()\n",
    "# show the plot\n",
    "plt.show()"
   ]
  },
  {
   "cell_type": "markdown",
   "id": "72e1c9ce",
   "metadata": {},
   "source": [
    "##### From the classification report it is evident that the precision of predicting 1 is slightly low (61%)"
   ]
  },
  {
   "cell_type": "code",
   "execution_count": 116,
   "id": "b8ea91a2",
   "metadata": {},
   "outputs": [],
   "source": [
    "# Checking for wrong predicted values"
   ]
  },
  {
   "cell_type": "code",
   "execution_count": 117,
   "id": "49401800",
   "metadata": {},
   "outputs": [
    {
     "data": {
      "text/html": [
       "<div>\n",
       "<style scoped>\n",
       "    .dataframe tbody tr th:only-of-type {\n",
       "        vertical-align: middle;\n",
       "    }\n",
       "\n",
       "    .dataframe tbody tr th {\n",
       "        vertical-align: top;\n",
       "    }\n",
       "\n",
       "    .dataframe thead th {\n",
       "        text-align: right;\n",
       "    }\n",
       "</style>\n",
       "<table border=\"1\" class=\"dataframe\">\n",
       "  <thead>\n",
       "    <tr style=\"text-align: right;\">\n",
       "      <th></th>\n",
       "      <th>Actual_y</th>\n",
       "      <th>Predicted_y</th>\n",
       "    </tr>\n",
       "  </thead>\n",
       "  <tbody>\n",
       "    <tr>\n",
       "      <th>7765</th>\n",
       "      <td>0</td>\n",
       "      <td>1</td>\n",
       "    </tr>\n",
       "    <tr>\n",
       "      <th>9314</th>\n",
       "      <td>1</td>\n",
       "      <td>0</td>\n",
       "    </tr>\n",
       "    <tr>\n",
       "      <th>1631</th>\n",
       "      <td>1</td>\n",
       "      <td>0</td>\n",
       "    </tr>\n",
       "    <tr>\n",
       "      <th>9125</th>\n",
       "      <td>1</td>\n",
       "      <td>0</td>\n",
       "    </tr>\n",
       "    <tr>\n",
       "      <th>7216</th>\n",
       "      <td>1</td>\n",
       "      <td>0</td>\n",
       "    </tr>\n",
       "    <tr>\n",
       "      <th>...</th>\n",
       "      <td>...</td>\n",
       "      <td>...</td>\n",
       "    </tr>\n",
       "    <tr>\n",
       "      <th>5214</th>\n",
       "      <td>1</td>\n",
       "      <td>0</td>\n",
       "    </tr>\n",
       "    <tr>\n",
       "      <th>5314</th>\n",
       "      <td>1</td>\n",
       "      <td>0</td>\n",
       "    </tr>\n",
       "    <tr>\n",
       "      <th>9956</th>\n",
       "      <td>1</td>\n",
       "      <td>0</td>\n",
       "    </tr>\n",
       "    <tr>\n",
       "      <th>8095</th>\n",
       "      <td>1</td>\n",
       "      <td>0</td>\n",
       "    </tr>\n",
       "    <tr>\n",
       "      <th>5904</th>\n",
       "      <td>1</td>\n",
       "      <td>0</td>\n",
       "    </tr>\n",
       "  </tbody>\n",
       "</table>\n",
       "<p>599 rows × 2 columns</p>\n",
       "</div>"
      ],
      "text/plain": [
       "      Actual_y  Predicted_y\n",
       "7765         0            1\n",
       "9314         1            0\n",
       "1631         1            0\n",
       "9125         1            0\n",
       "7216         1            0\n",
       "...        ...          ...\n",
       "5214         1            0\n",
       "5314         1            0\n",
       "9956         1            0\n",
       "8095         1            0\n",
       "5904         1            0\n",
       "\n",
       "[599 rows x 2 columns]"
      ]
     },
     "execution_count": 117,
     "metadata": {},
     "output_type": "execute_result"
    }
   ],
   "source": [
    "data1[(data1['Actual_y']!=data1['Predicted_y'])]"
   ]
  },
  {
   "cell_type": "markdown",
   "id": "94dc097b",
   "metadata": {},
   "source": [
    "##### Therefore we can see that there are 599 out of 3000 predictions that were incorrect. Therefore there is room for improvement in the model."
   ]
  },
  {
   "cell_type": "code",
   "execution_count": null,
   "id": "c06e8498",
   "metadata": {},
   "outputs": [],
   "source": []
  },
  {
   "cell_type": "markdown",
   "id": "2e684395",
   "metadata": {},
   "source": [
    "### 2) Applying Naive Bayes Decision Tree Classification Model"
   ]
  },
  {
   "cell_type": "code",
   "execution_count": 120,
   "id": "2f15b48a",
   "metadata": {},
   "outputs": [
    {
     "data": {
      "text/plain": [
       "GaussianNB()"
      ]
     },
     "execution_count": 120,
     "metadata": {},
     "output_type": "execute_result"
    }
   ],
   "source": [
    "model2=GaussianNB()\n",
    "model2.fit(x_train,y_train)"
   ]
  },
  {
   "cell_type": "code",
   "execution_count": 131,
   "id": "b3ec25f7",
   "metadata": {},
   "outputs": [
    {
     "data": {
      "text/plain": [
       "82.94285714285714"
      ]
     },
     "execution_count": 131,
     "metadata": {},
     "output_type": "execute_result"
    }
   ],
   "source": [
    "# Train accuracy\n",
    "(model2.score(x_train,y_train))*100"
   ]
  },
  {
   "cell_type": "code",
   "execution_count": 132,
   "id": "98be5fe4",
   "metadata": {},
   "outputs": [
    {
     "data": {
      "text/plain": [
       "82.46666666666667"
      ]
     },
     "execution_count": 132,
     "metadata": {},
     "output_type": "execute_result"
    }
   ],
   "source": [
    "# Test accuracy\n",
    "(model2.score(x_test,y_test))*100"
   ]
  },
  {
   "cell_type": "markdown",
   "id": "a55ac1d5",
   "metadata": {},
   "source": [
    "##### The accuracy score obtained for our test dataset is 82.46 which is quite good and is a near perfect fit model when comparing with the accuracy of the train dataset"
   ]
  },
  {
   "cell_type": "code",
   "execution_count": 125,
   "id": "8c872c03",
   "metadata": {},
   "outputs": [],
   "source": [
    "# Predicted y\n",
    "y_pred_NBDT=model2.predict(x_test)"
   ]
  },
  {
   "cell_type": "code",
   "execution_count": 248,
   "id": "328b95fd",
   "metadata": {},
   "outputs": [],
   "source": [
    "data2=pd.DataFrame()"
   ]
  },
  {
   "cell_type": "code",
   "execution_count": 249,
   "id": "ee5059ae",
   "metadata": {},
   "outputs": [
    {
     "data": {
      "text/html": [
       "<div>\n",
       "<style scoped>\n",
       "    .dataframe tbody tr th:only-of-type {\n",
       "        vertical-align: middle;\n",
       "    }\n",
       "\n",
       "    .dataframe tbody tr th {\n",
       "        vertical-align: top;\n",
       "    }\n",
       "\n",
       "    .dataframe thead th {\n",
       "        text-align: right;\n",
       "    }\n",
       "</style>\n",
       "<table border=\"1\" class=\"dataframe\">\n",
       "  <thead>\n",
       "    <tr style=\"text-align: right;\">\n",
       "      <th></th>\n",
       "      <th>Actual_y</th>\n",
       "      <th>Predicted_y</th>\n",
       "    </tr>\n",
       "  </thead>\n",
       "  <tbody>\n",
       "    <tr>\n",
       "      <th>8793</th>\n",
       "      <td>0</td>\n",
       "      <td>0</td>\n",
       "    </tr>\n",
       "    <tr>\n",
       "      <th>1122</th>\n",
       "      <td>1</td>\n",
       "      <td>0</td>\n",
       "    </tr>\n",
       "    <tr>\n",
       "      <th>1283</th>\n",
       "      <td>0</td>\n",
       "      <td>0</td>\n",
       "    </tr>\n",
       "    <tr>\n",
       "      <th>9318</th>\n",
       "      <td>0</td>\n",
       "      <td>0</td>\n",
       "    </tr>\n",
       "    <tr>\n",
       "      <th>7765</th>\n",
       "      <td>0</td>\n",
       "      <td>0</td>\n",
       "    </tr>\n",
       "    <tr>\n",
       "      <th>...</th>\n",
       "      <td>...</td>\n",
       "      <td>...</td>\n",
       "    </tr>\n",
       "    <tr>\n",
       "      <th>3024</th>\n",
       "      <td>0</td>\n",
       "      <td>0</td>\n",
       "    </tr>\n",
       "    <tr>\n",
       "      <th>5904</th>\n",
       "      <td>1</td>\n",
       "      <td>1</td>\n",
       "    </tr>\n",
       "    <tr>\n",
       "      <th>3807</th>\n",
       "      <td>0</td>\n",
       "      <td>0</td>\n",
       "    </tr>\n",
       "    <tr>\n",
       "      <th>6746</th>\n",
       "      <td>0</td>\n",
       "      <td>0</td>\n",
       "    </tr>\n",
       "    <tr>\n",
       "      <th>7377</th>\n",
       "      <td>0</td>\n",
       "      <td>0</td>\n",
       "    </tr>\n",
       "  </tbody>\n",
       "</table>\n",
       "<p>3000 rows × 2 columns</p>\n",
       "</div>"
      ],
      "text/plain": [
       "      Actual_y  Predicted_y\n",
       "8793         0            0\n",
       "1122         1            0\n",
       "1283         0            0\n",
       "9318         0            0\n",
       "7765         0            0\n",
       "...        ...          ...\n",
       "3024         0            0\n",
       "5904         1            1\n",
       "3807         0            0\n",
       "6746         0            0\n",
       "7377         0            0\n",
       "\n",
       "[3000 rows x 2 columns]"
      ]
     },
     "execution_count": 249,
     "metadata": {},
     "output_type": "execute_result"
    }
   ],
   "source": [
    "data2['Actual_y']=y_test\n",
    "data2['Predicted_y']=y_pred_NBDT\n",
    "data2"
   ]
  },
  {
   "cell_type": "code",
   "execution_count": 133,
   "id": "cc87ad17",
   "metadata": {},
   "outputs": [
    {
     "name": "stdout",
     "output_type": "stream",
     "text": [
      "[[2319   44]\n",
      " [ 482  155]]\n"
     ]
    }
   ],
   "source": [
    "print(confusion_matrix(y_test,y_pred_NBDT))"
   ]
  },
  {
   "cell_type": "code",
   "execution_count": 134,
   "id": "5ab3f9bd",
   "metadata": {},
   "outputs": [
    {
     "name": "stdout",
     "output_type": "stream",
     "text": [
      "True Negative count: 2319\n",
      "True Positive count: 155\n",
      "False Positive count: 44\n",
      "False Negative count: 482\n"
     ]
    }
   ],
   "source": [
    "tn2,fp2,fn2,tp2=confusion_matrix(y_test,y_pred_NBDT).ravel()\n",
    "print('True Negative count:',tn2)\n",
    "print('True Positive count:',tp2)\n",
    "print('False Positive count:',fp2)\n",
    "print('False Negative count:',fn2)"
   ]
  },
  {
   "cell_type": "markdown",
   "id": "a3e1578d",
   "metadata": {},
   "source": [
    "##### From the confusion matrix it is evident that most results were predicted accurately but there was a high inaccuracy number for False Negative predictions but still less compared to Logistic Regression"
   ]
  },
  {
   "cell_type": "code",
   "execution_count": 135,
   "id": "edc02636",
   "metadata": {},
   "outputs": [
    {
     "name": "stdout",
     "output_type": "stream",
     "text": [
      "accuracy: 0.8246666666666667\n",
      "recall: 0.24332810047095763\n",
      "f1-score: 0.3708133971291866\n",
      "precision: 0.7788944723618091\n"
     ]
    }
   ],
   "source": [
    "print('accuracy:',accuracy_score(y_test,y_pred_NBDT))\n",
    "print('recall:', recall_score(y_test,y_pred_NBDT))\n",
    "print('f1-score:', f1_score(y_test,y_pred_NBDT))\n",
    "print('precision:',precision_score(y_test,y_pred_NBDT))"
   ]
  },
  {
   "cell_type": "code",
   "execution_count": 136,
   "id": "51f5a3bd",
   "metadata": {},
   "outputs": [
    {
     "name": "stdout",
     "output_type": "stream",
     "text": [
      "              precision    recall  f1-score   support\n",
      "\n",
      "           0       0.83      0.98      0.90      2363\n",
      "           1       0.78      0.24      0.37       637\n",
      "\n",
      "    accuracy                           0.82      3000\n",
      "   macro avg       0.80      0.61      0.63      3000\n",
      "weighted avg       0.82      0.82      0.79      3000\n",
      "\n"
     ]
    }
   ],
   "source": [
    "print(classification_report(y_test, y_pred_NBDT))"
   ]
  },
  {
   "cell_type": "markdown",
   "id": "87e7a6fb",
   "metadata": {},
   "source": [
    "##### From the classification report we can see that there was a significant improvement in the prediction of 1 (78%) compared to Logistic Regression (61%) "
   ]
  },
  {
   "cell_type": "code",
   "execution_count": null,
   "id": "3ff0c80e",
   "metadata": {},
   "outputs": [],
   "source": [
    "# Checking for ROC-AUC Score"
   ]
  },
  {
   "cell_type": "code",
   "execution_count": 142,
   "id": "81706d94",
   "metadata": {},
   "outputs": [
    {
     "data": {
      "text/plain": [
       "0.8001781786317184"
      ]
     },
     "execution_count": 142,
     "metadata": {},
     "output_type": "execute_result"
    }
   ],
   "source": [
    "roc2=roc_auc_score(y_test, model2.predict_proba(x_test)[:,1])\n",
    "roc2"
   ]
  },
  {
   "cell_type": "markdown",
   "id": "ca4a01fa",
   "metadata": {},
   "source": [
    "##### There was an improvement in the ROC-AUC score when comparing with LR (0.8>0.75)"
   ]
  },
  {
   "cell_type": "code",
   "execution_count": null,
   "id": "b03f43ed",
   "metadata": {},
   "outputs": [],
   "source": [
    "# ROC-AUC curve"
   ]
  },
  {
   "cell_type": "code",
   "execution_count": 143,
   "id": "85d1a16b",
   "metadata": {},
   "outputs": [
    {
     "name": "stdout",
     "output_type": "stream",
     "text": [
      "No Skill: ROC AUC=0.500\n",
      "Logistic: ROC AUC=0.800\n"
     ]
    },
    {
     "data": {
      "image/png": "[encoded data removed]",
      "text/plain": [
       "<Figure size 432x288 with 1 Axes>"
      ]
     },
     "metadata": {
      "needs_background": "light"
     },
     "output_type": "display_data"
    }
   ],
   "source": [
    "# generate a no skill prediction (majority class)\n",
    "ns_probs = [0 for _ in range(len(y_test))]\n",
    "# predict probabilities\n",
    "lr_probs = model2.predict_proba(x_test)\n",
    "# keep probabilities for the positive outcome only\n",
    "lr_probs = lr_probs[:, 1]\n",
    "# calculate scores\n",
    "ns_auc = roc_auc_score(y_test, ns_probs)\n",
    "lr_auc = roc_auc_score(y_test, lr_probs)\n",
    "# summarize scores\n",
    "print('No Skill: ROC AUC=%.3f' % (ns_auc))\n",
    "print('Logistic: ROC AUC=%.3f' % (lr_auc))\n",
    "# calculate roc curves\n",
    "ns_fpr, ns_tpr, _ = roc_curve(y_test, ns_probs)\n",
    "lr_fpr, lr_tpr, _ = roc_curve(y_test, lr_probs)\n",
    "# plot the roc curve for the model\n",
    "plt.plot(ns_fpr, ns_tpr, linestyle='--', label='No Skill')\n",
    "plt.plot(lr_fpr, lr_tpr, marker='.', label='Logistic')\n",
    "# axis labels\n",
    "plt.xlabel('False Positive Rate')\n",
    "plt.ylabel('True Positive Rate')\n",
    "# show the legend\n",
    "plt.legend()\n",
    "# show the plot\n",
    "plt.show()"
   ]
  },
  {
   "cell_type": "code",
   "execution_count": 137,
   "id": "75de146d",
   "metadata": {},
   "outputs": [],
   "source": [
    "# Checking for wrong predicted values"
   ]
  },
  {
   "cell_type": "code",
   "execution_count": 250,
   "id": "ecd11d70",
   "metadata": {},
   "outputs": [
    {
     "data": {
      "text/html": [
       "<div>\n",
       "<style scoped>\n",
       "    .dataframe tbody tr th:only-of-type {\n",
       "        vertical-align: middle;\n",
       "    }\n",
       "\n",
       "    .dataframe tbody tr th {\n",
       "        vertical-align: top;\n",
       "    }\n",
       "\n",
       "    .dataframe thead th {\n",
       "        text-align: right;\n",
       "    }\n",
       "</style>\n",
       "<table border=\"1\" class=\"dataframe\">\n",
       "  <thead>\n",
       "    <tr style=\"text-align: right;\">\n",
       "      <th></th>\n",
       "      <th>Actual_y</th>\n",
       "      <th>Predicted_y</th>\n",
       "    </tr>\n",
       "  </thead>\n",
       "  <tbody>\n",
       "    <tr>\n",
       "      <th>1122</th>\n",
       "      <td>1</td>\n",
       "      <td>0</td>\n",
       "    </tr>\n",
       "    <tr>\n",
       "      <th>9314</th>\n",
       "      <td>1</td>\n",
       "      <td>0</td>\n",
       "    </tr>\n",
       "    <tr>\n",
       "      <th>1631</th>\n",
       "      <td>1</td>\n",
       "      <td>0</td>\n",
       "    </tr>\n",
       "    <tr>\n",
       "      <th>9125</th>\n",
       "      <td>1</td>\n",
       "      <td>0</td>\n",
       "    </tr>\n",
       "    <tr>\n",
       "      <th>6116</th>\n",
       "      <td>0</td>\n",
       "      <td>1</td>\n",
       "    </tr>\n",
       "    <tr>\n",
       "      <th>...</th>\n",
       "      <td>...</td>\n",
       "      <td>...</td>\n",
       "    </tr>\n",
       "    <tr>\n",
       "      <th>1369</th>\n",
       "      <td>1</td>\n",
       "      <td>0</td>\n",
       "    </tr>\n",
       "    <tr>\n",
       "      <th>3382</th>\n",
       "      <td>0</td>\n",
       "      <td>1</td>\n",
       "    </tr>\n",
       "    <tr>\n",
       "      <th>5214</th>\n",
       "      <td>1</td>\n",
       "      <td>0</td>\n",
       "    </tr>\n",
       "    <tr>\n",
       "      <th>9956</th>\n",
       "      <td>1</td>\n",
       "      <td>0</td>\n",
       "    </tr>\n",
       "    <tr>\n",
       "      <th>8095</th>\n",
       "      <td>1</td>\n",
       "      <td>0</td>\n",
       "    </tr>\n",
       "  </tbody>\n",
       "</table>\n",
       "<p>526 rows × 2 columns</p>\n",
       "</div>"
      ],
      "text/plain": [
       "      Actual_y  Predicted_y\n",
       "1122         1            0\n",
       "9314         1            0\n",
       "1631         1            0\n",
       "9125         1            0\n",
       "6116         0            1\n",
       "...        ...          ...\n",
       "1369         1            0\n",
       "3382         0            1\n",
       "5214         1            0\n",
       "9956         1            0\n",
       "8095         1            0\n",
       "\n",
       "[526 rows x 2 columns]"
      ]
     },
     "execution_count": 250,
     "metadata": {},
     "output_type": "execute_result"
    }
   ],
   "source": [
    "data2[(data2['Actual_y']!=data2['Predicted_y'])]"
   ]
  },
  {
   "cell_type": "markdown",
   "id": "29b4088d",
   "metadata": {},
   "source": [
    "##### Therefore we can see that there are 526 out of 3000 predictions that were incorrect which is an improvement from the LR model which gave 599 incorrect predictions"
   ]
  },
  {
   "cell_type": "code",
   "execution_count": null,
   "id": "0325ea04",
   "metadata": {},
   "outputs": [],
   "source": []
  },
  {
   "cell_type": "markdown",
   "id": "97b4b4a9",
   "metadata": {},
   "source": [
    "### 3) Decision Tree Classification Model"
   ]
  },
  {
   "cell_type": "code",
   "execution_count": 147,
   "id": "0834f03d",
   "metadata": {},
   "outputs": [
    {
     "data": {
      "text/plain": [
       "DecisionTreeClassifier(max_depth=5, random_state=0)"
      ]
     },
     "execution_count": 147,
     "metadata": {},
     "output_type": "execute_result"
    }
   ],
   "source": [
    "model3=DecisionTreeClassifier(max_depth=5,random_state=0)\n",
    "model3.fit(x_train,y_train)"
   ]
  },
  {
   "cell_type": "code",
   "execution_count": 148,
   "id": "fea9f890",
   "metadata": {},
   "outputs": [
    {
     "data": {
      "text/plain": [
       "86.0142857142857"
      ]
     },
     "execution_count": 148,
     "metadata": {},
     "output_type": "execute_result"
    }
   ],
   "source": [
    "# Train accuracy\n",
    "(model3.score(x_train,y_train))*100"
   ]
  },
  {
   "cell_type": "code",
   "execution_count": 150,
   "id": "14a8dd2e",
   "metadata": {},
   "outputs": [
    {
     "data": {
      "text/plain": [
       "84.53333333333333"
      ]
     },
     "execution_count": 150,
     "metadata": {},
     "output_type": "execute_result"
    }
   ],
   "source": [
    "# Test accuracy\n",
    "(model3.score(x_test,y_test))*100"
   ]
  },
  {
   "cell_type": "markdown",
   "id": "248a501b",
   "metadata": {},
   "source": [
    "##### The accuracy score obtained for our test dataset is 84.53 which is quite good and is a near perfect fit model when comparing with the accuracy of the train dataset"
   ]
  },
  {
   "cell_type": "code",
   "execution_count": 151,
   "id": "2e90ecb6",
   "metadata": {},
   "outputs": [],
   "source": [
    "# Predicted y\n",
    "y_pred_DT=model3.predict(x_test)"
   ]
  },
  {
   "cell_type": "code",
   "execution_count": 152,
   "id": "17a71308",
   "metadata": {},
   "outputs": [],
   "source": [
    "data3=pd.DataFrame()"
   ]
  },
  {
   "cell_type": "code",
   "execution_count": 154,
   "id": "f7e82e99",
   "metadata": {},
   "outputs": [
    {
     "data": {
      "text/html": [
       "<div>\n",
       "<style scoped>\n",
       "    .dataframe tbody tr th:only-of-type {\n",
       "        vertical-align: middle;\n",
       "    }\n",
       "\n",
       "    .dataframe tbody tr th {\n",
       "        vertical-align: top;\n",
       "    }\n",
       "\n",
       "    .dataframe thead th {\n",
       "        text-align: right;\n",
       "    }\n",
       "</style>\n",
       "<table border=\"1\" class=\"dataframe\">\n",
       "  <thead>\n",
       "    <tr style=\"text-align: right;\">\n",
       "      <th></th>\n",
       "      <th>Actual_y</th>\n",
       "      <th>Predicted_y</th>\n",
       "    </tr>\n",
       "  </thead>\n",
       "  <tbody>\n",
       "    <tr>\n",
       "      <th>8793</th>\n",
       "      <td>0</td>\n",
       "      <td>0</td>\n",
       "    </tr>\n",
       "    <tr>\n",
       "      <th>1122</th>\n",
       "      <td>1</td>\n",
       "      <td>1</td>\n",
       "    </tr>\n",
       "    <tr>\n",
       "      <th>1283</th>\n",
       "      <td>0</td>\n",
       "      <td>0</td>\n",
       "    </tr>\n",
       "    <tr>\n",
       "      <th>9318</th>\n",
       "      <td>0</td>\n",
       "      <td>0</td>\n",
       "    </tr>\n",
       "    <tr>\n",
       "      <th>7765</th>\n",
       "      <td>0</td>\n",
       "      <td>1</td>\n",
       "    </tr>\n",
       "    <tr>\n",
       "      <th>...</th>\n",
       "      <td>...</td>\n",
       "      <td>...</td>\n",
       "    </tr>\n",
       "    <tr>\n",
       "      <th>3024</th>\n",
       "      <td>0</td>\n",
       "      <td>0</td>\n",
       "    </tr>\n",
       "    <tr>\n",
       "      <th>5904</th>\n",
       "      <td>1</td>\n",
       "      <td>1</td>\n",
       "    </tr>\n",
       "    <tr>\n",
       "      <th>3807</th>\n",
       "      <td>0</td>\n",
       "      <td>0</td>\n",
       "    </tr>\n",
       "    <tr>\n",
       "      <th>6746</th>\n",
       "      <td>0</td>\n",
       "      <td>0</td>\n",
       "    </tr>\n",
       "    <tr>\n",
       "      <th>7377</th>\n",
       "      <td>0</td>\n",
       "      <td>0</td>\n",
       "    </tr>\n",
       "  </tbody>\n",
       "</table>\n",
       "<p>3000 rows × 2 columns</p>\n",
       "</div>"
      ],
      "text/plain": [
       "      Actual_y  Predicted_y\n",
       "8793         0            0\n",
       "1122         1            1\n",
       "1283         0            0\n",
       "9318         0            0\n",
       "7765         0            1\n",
       "...        ...          ...\n",
       "3024         0            0\n",
       "5904         1            1\n",
       "3807         0            0\n",
       "6746         0            0\n",
       "7377         0            0\n",
       "\n",
       "[3000 rows x 2 columns]"
      ]
     },
     "execution_count": 154,
     "metadata": {},
     "output_type": "execute_result"
    }
   ],
   "source": [
    "data3['Actual_y']=y_test\n",
    "data3['Predicted_y']=y_pred_DT\n",
    "data3"
   ]
  },
  {
   "cell_type": "code",
   "execution_count": 155,
   "id": "4388095c",
   "metadata": {},
   "outputs": [
    {
     "name": "stdout",
     "output_type": "stream",
     "text": [
      "[[2289   74]\n",
      " [ 390  247]]\n"
     ]
    }
   ],
   "source": [
    "print(confusion_matrix(y_test,y_pred_DT))"
   ]
  },
  {
   "cell_type": "code",
   "execution_count": 156,
   "id": "ed4d4852",
   "metadata": {},
   "outputs": [
    {
     "name": "stdout",
     "output_type": "stream",
     "text": [
      "True Negative count: 2289\n",
      "True Positive count: 247\n",
      "False Positive count: 74\n",
      "False Negative count: 390\n"
     ]
    }
   ],
   "source": [
    "tn3,fp3,fn3,tp3=confusion_matrix(y_test,y_pred_DT).ravel()\n",
    "print('True Negative count:',tn3)\n",
    "print('True Positive count:',tp3)\n",
    "print('False Positive count:',fp3)\n",
    "print('False Negative count:',fn3)"
   ]
  },
  {
   "cell_type": "markdown",
   "id": "9dc0d13a",
   "metadata": {},
   "source": [
    "##### From the confusion matrix it is evident that most results were predicted accurately but there was a high inaccuracy number for False Negative predictions but still less compared to Logistic Regression and Naive Bayes Decision Tree classification.\n",
    "##### However there was a slight increase in the false positive count as compared to the previous models."
   ]
  },
  {
   "cell_type": "code",
   "execution_count": 157,
   "id": "f3823b9d",
   "metadata": {},
   "outputs": [
    {
     "name": "stdout",
     "output_type": "stream",
     "text": [
      "accuracy: 0.8453333333333334\n",
      "recall: 0.3877551020408163\n",
      "f1-score: 0.5156576200417536\n",
      "precision: 0.7694704049844237\n"
     ]
    }
   ],
   "source": [
    "print('accuracy:',accuracy_score(y_test,y_pred_DT))\n",
    "print('recall:', recall_score(y_test,y_pred_DT))\n",
    "print('f1-score:', f1_score(y_test,y_pred_DT))\n",
    "print('precision:',precision_score(y_test,y_pred_DT))"
   ]
  },
  {
   "cell_type": "code",
   "execution_count": 158,
   "id": "5e9b9ca1",
   "metadata": {},
   "outputs": [
    {
     "name": "stdout",
     "output_type": "stream",
     "text": [
      "              precision    recall  f1-score   support\n",
      "\n",
      "           0       0.85      0.97      0.91      2363\n",
      "           1       0.77      0.39      0.52       637\n",
      "\n",
      "    accuracy                           0.85      3000\n",
      "   macro avg       0.81      0.68      0.71      3000\n",
      "weighted avg       0.84      0.85      0.82      3000\n",
      "\n"
     ]
    }
   ],
   "source": [
    "print(classification_report(y_test, y_pred_DT))"
   ]
  },
  {
   "cell_type": "markdown",
   "id": "de35f243",
   "metadata": {},
   "source": [
    "##### The precision score for predicting existing customers was improved as compared to the previous models but there was a slight drop in the presion score of predicting churned customers"
   ]
  },
  {
   "cell_type": "code",
   "execution_count": 159,
   "id": "97a4f752",
   "metadata": {},
   "outputs": [],
   "source": [
    "# Checking for ROC-AUC Score"
   ]
  },
  {
   "cell_type": "code",
   "execution_count": 160,
   "id": "d2c0d1e4",
   "metadata": {},
   "outputs": [
    {
     "data": {
      "text/plain": [
       "0.8193423467892968"
      ]
     },
     "execution_count": 160,
     "metadata": {},
     "output_type": "execute_result"
    }
   ],
   "source": [
    "roc3=roc_auc_score(y_test, model3.predict_proba(x_test)[:,1])\n",
    "roc3"
   ]
  },
  {
   "cell_type": "markdown",
   "id": "52445682",
   "metadata": {},
   "source": [
    "##### There was an improvement in the ROC-AUC score when comparing with previous models"
   ]
  },
  {
   "cell_type": "code",
   "execution_count": null,
   "id": "7c006108",
   "metadata": {},
   "outputs": [],
   "source": [
    "# ROC-AUC Curve"
   ]
  },
  {
   "cell_type": "code",
   "execution_count": 161,
   "id": "2d0c2f49",
   "metadata": {},
   "outputs": [
    {
     "name": "stdout",
     "output_type": "stream",
     "text": [
      "No Skill: ROC AUC=0.500\n",
      "Logistic: ROC AUC=0.819\n"
     ]
    },
    {
     "data": {
      "image/png": "[encoded data removed]",
      "text/plain": [
       "<Figure size 432x288 with 1 Axes>"
      ]
     },
     "metadata": {
      "needs_background": "light"
     },
     "output_type": "display_data"
    }
   ],
   "source": [
    "# generate a no skill prediction (majority class)\n",
    "ns_probs = [0 for _ in range(len(y_test))]\n",
    "# predict probabilities\n",
    "lr_probs = model3.predict_proba(x_test)\n",
    "# keep probabilities for the positive outcome only\n",
    "lr_probs = lr_probs[:, 1]\n",
    "# calculate scores\n",
    "ns_auc = roc_auc_score(y_test, ns_probs)\n",
    "lr_auc = roc_auc_score(y_test, lr_probs)\n",
    "# summarize scores\n",
    "print('No Skill: ROC AUC=%.3f' % (ns_auc))\n",
    "print('Logistic: ROC AUC=%.3f' % (lr_auc))\n",
    "# calculate roc curves\n",
    "ns_fpr, ns_tpr, _ = roc_curve(y_test, ns_probs)\n",
    "lr_fpr, lr_tpr, _ = roc_curve(y_test, lr_probs)\n",
    "# plot the roc curve for the model\n",
    "plt.plot(ns_fpr, ns_tpr, linestyle='--', label='No Skill')\n",
    "plt.plot(lr_fpr, lr_tpr, marker='.', label='Logistic')\n",
    "# axis labels\n",
    "plt.xlabel('False Positive Rate')\n",
    "plt.ylabel('True Positive Rate')\n",
    "# show the legend\n",
    "plt.legend()\n",
    "# show the plot\n",
    "plt.show()"
   ]
  },
  {
   "cell_type": "code",
   "execution_count": 162,
   "id": "9bc58f0f",
   "metadata": {},
   "outputs": [],
   "source": [
    "# Checking for wrong predicted values"
   ]
  },
  {
   "cell_type": "code",
   "execution_count": 163,
   "id": "804c341a",
   "metadata": {},
   "outputs": [
    {
     "data": {
      "text/html": [
       "<div>\n",
       "<style scoped>\n",
       "    .dataframe tbody tr th:only-of-type {\n",
       "        vertical-align: middle;\n",
       "    }\n",
       "\n",
       "    .dataframe tbody tr th {\n",
       "        vertical-align: top;\n",
       "    }\n",
       "\n",
       "    .dataframe thead th {\n",
       "        text-align: right;\n",
       "    }\n",
       "</style>\n",
       "<table border=\"1\" class=\"dataframe\">\n",
       "  <thead>\n",
       "    <tr style=\"text-align: right;\">\n",
       "      <th></th>\n",
       "      <th>Actual_y</th>\n",
       "      <th>Predicted_y</th>\n",
       "    </tr>\n",
       "  </thead>\n",
       "  <tbody>\n",
       "    <tr>\n",
       "      <th>7765</th>\n",
       "      <td>0</td>\n",
       "      <td>1</td>\n",
       "    </tr>\n",
       "    <tr>\n",
       "      <th>9314</th>\n",
       "      <td>1</td>\n",
       "      <td>0</td>\n",
       "    </tr>\n",
       "    <tr>\n",
       "      <th>1631</th>\n",
       "      <td>1</td>\n",
       "      <td>0</td>\n",
       "    </tr>\n",
       "    <tr>\n",
       "      <th>9125</th>\n",
       "      <td>1</td>\n",
       "      <td>0</td>\n",
       "    </tr>\n",
       "    <tr>\n",
       "      <th>6201</th>\n",
       "      <td>0</td>\n",
       "      <td>1</td>\n",
       "    </tr>\n",
       "    <tr>\n",
       "      <th>...</th>\n",
       "      <td>...</td>\n",
       "      <td>...</td>\n",
       "    </tr>\n",
       "    <tr>\n",
       "      <th>7209</th>\n",
       "      <td>1</td>\n",
       "      <td>0</td>\n",
       "    </tr>\n",
       "    <tr>\n",
       "      <th>5158</th>\n",
       "      <td>0</td>\n",
       "      <td>1</td>\n",
       "    </tr>\n",
       "    <tr>\n",
       "      <th>1369</th>\n",
       "      <td>1</td>\n",
       "      <td>0</td>\n",
       "    </tr>\n",
       "    <tr>\n",
       "      <th>5214</th>\n",
       "      <td>1</td>\n",
       "      <td>0</td>\n",
       "    </tr>\n",
       "    <tr>\n",
       "      <th>8095</th>\n",
       "      <td>1</td>\n",
       "      <td>0</td>\n",
       "    </tr>\n",
       "  </tbody>\n",
       "</table>\n",
       "<p>464 rows × 2 columns</p>\n",
       "</div>"
      ],
      "text/plain": [
       "      Actual_y  Predicted_y\n",
       "7765         0            1\n",
       "9314         1            0\n",
       "1631         1            0\n",
       "9125         1            0\n",
       "6201         0            1\n",
       "...        ...          ...\n",
       "7209         1            0\n",
       "5158         0            1\n",
       "1369         1            0\n",
       "5214         1            0\n",
       "8095         1            0\n",
       "\n",
       "[464 rows x 2 columns]"
      ]
     },
     "execution_count": 163,
     "metadata": {},
     "output_type": "execute_result"
    }
   ],
   "source": [
    "data3[(data3['Actual_y']!=data3['Predicted_y'])]"
   ]
  },
  {
   "cell_type": "markdown",
   "id": "f5f4ae8a",
   "metadata": {},
   "source": [
    "##### There was a significant drop in the number of incorrect predictions compared to the previous models"
   ]
  },
  {
   "cell_type": "code",
   "execution_count": null,
   "id": "83b84a7a",
   "metadata": {},
   "outputs": [],
   "source": []
  },
  {
   "cell_type": "markdown",
   "id": "1767a63e",
   "metadata": {},
   "source": [
    "### 4) Random Forest Classification"
   ]
  },
  {
   "cell_type": "code",
   "execution_count": 182,
   "id": "535f0be6",
   "metadata": {},
   "outputs": [
    {
     "data": {
      "text/plain": [
       "RandomForestClassifier(max_depth=5, random_state=0)"
      ]
     },
     "execution_count": 182,
     "metadata": {},
     "output_type": "execute_result"
    }
   ],
   "source": [
    "model4 = RandomForestClassifier(max_depth=5,random_state=0)\n",
    "model4.fit(x_train,y_train)"
   ]
  },
  {
   "cell_type": "code",
   "execution_count": 183,
   "id": "6f71fd71",
   "metadata": {},
   "outputs": [
    {
     "data": {
      "text/plain": [
       "86.42857142857143"
      ]
     },
     "execution_count": 183,
     "metadata": {},
     "output_type": "execute_result"
    }
   ],
   "source": [
    "# Train accuracy\n",
    "(model4.score(x_train,y_train))*100"
   ]
  },
  {
   "cell_type": "code",
   "execution_count": 184,
   "id": "2b5c5dde",
   "metadata": {},
   "outputs": [
    {
     "data": {
      "text/plain": [
       "85.0"
      ]
     },
     "execution_count": 184,
     "metadata": {},
     "output_type": "execute_result"
    }
   ],
   "source": [
    "# Test accuracy\n",
    "(model4.score(x_test,y_test))*100"
   ]
  },
  {
   "cell_type": "markdown",
   "id": "009dd24f",
   "metadata": {},
   "source": [
    "##### The accuracy score obtained for our test dataset is 85 which is quite good and is a near perfect fit model when comparing with the accuracy of the train dataset"
   ]
  },
  {
   "cell_type": "code",
   "execution_count": 185,
   "id": "93e0a5c2",
   "metadata": {},
   "outputs": [],
   "source": [
    "# Predicted y\n",
    "y_pred_RF=model4.predict(x_test)"
   ]
  },
  {
   "cell_type": "code",
   "execution_count": 186,
   "id": "baa596f6",
   "metadata": {},
   "outputs": [],
   "source": [
    "data4=pd.DataFrame()"
   ]
  },
  {
   "cell_type": "code",
   "execution_count": 187,
   "id": "c28c5baf",
   "metadata": {},
   "outputs": [
    {
     "data": {
      "text/html": [
       "<div>\n",
       "<style scoped>\n",
       "    .dataframe tbody tr th:only-of-type {\n",
       "        vertical-align: middle;\n",
       "    }\n",
       "\n",
       "    .dataframe tbody tr th {\n",
       "        vertical-align: top;\n",
       "    }\n",
       "\n",
       "    .dataframe thead th {\n",
       "        text-align: right;\n",
       "    }\n",
       "</style>\n",
       "<table border=\"1\" class=\"dataframe\">\n",
       "  <thead>\n",
       "    <tr style=\"text-align: right;\">\n",
       "      <th></th>\n",
       "      <th>Actual_y</th>\n",
       "      <th>Predicted_y</th>\n",
       "    </tr>\n",
       "  </thead>\n",
       "  <tbody>\n",
       "    <tr>\n",
       "      <th>8793</th>\n",
       "      <td>0</td>\n",
       "      <td>0</td>\n",
       "    </tr>\n",
       "    <tr>\n",
       "      <th>1122</th>\n",
       "      <td>1</td>\n",
       "      <td>0</td>\n",
       "    </tr>\n",
       "    <tr>\n",
       "      <th>1283</th>\n",
       "      <td>0</td>\n",
       "      <td>0</td>\n",
       "    </tr>\n",
       "    <tr>\n",
       "      <th>9318</th>\n",
       "      <td>0</td>\n",
       "      <td>0</td>\n",
       "    </tr>\n",
       "    <tr>\n",
       "      <th>7765</th>\n",
       "      <td>0</td>\n",
       "      <td>0</td>\n",
       "    </tr>\n",
       "    <tr>\n",
       "      <th>...</th>\n",
       "      <td>...</td>\n",
       "      <td>...</td>\n",
       "    </tr>\n",
       "    <tr>\n",
       "      <th>3024</th>\n",
       "      <td>0</td>\n",
       "      <td>0</td>\n",
       "    </tr>\n",
       "    <tr>\n",
       "      <th>5904</th>\n",
       "      <td>1</td>\n",
       "      <td>1</td>\n",
       "    </tr>\n",
       "    <tr>\n",
       "      <th>3807</th>\n",
       "      <td>0</td>\n",
       "      <td>0</td>\n",
       "    </tr>\n",
       "    <tr>\n",
       "      <th>6746</th>\n",
       "      <td>0</td>\n",
       "      <td>0</td>\n",
       "    </tr>\n",
       "    <tr>\n",
       "      <th>7377</th>\n",
       "      <td>0</td>\n",
       "      <td>0</td>\n",
       "    </tr>\n",
       "  </tbody>\n",
       "</table>\n",
       "<p>3000 rows × 2 columns</p>\n",
       "</div>"
      ],
      "text/plain": [
       "      Actual_y  Predicted_y\n",
       "8793         0            0\n",
       "1122         1            0\n",
       "1283         0            0\n",
       "9318         0            0\n",
       "7765         0            0\n",
       "...        ...          ...\n",
       "3024         0            0\n",
       "5904         1            1\n",
       "3807         0            0\n",
       "6746         0            0\n",
       "7377         0            0\n",
       "\n",
       "[3000 rows x 2 columns]"
      ]
     },
     "execution_count": 187,
     "metadata": {},
     "output_type": "execute_result"
    }
   ],
   "source": [
    "data4['Actual_y']=y_test\n",
    "data4['Predicted_y']=y_pred_RF\n",
    "data4"
   ]
  },
  {
   "cell_type": "code",
   "execution_count": 188,
   "id": "4b309c28",
   "metadata": {},
   "outputs": [],
   "source": [
    "# Confusion Matrix"
   ]
  },
  {
   "cell_type": "code",
   "execution_count": 189,
   "id": "02f4a1e6",
   "metadata": {},
   "outputs": [
    {
     "name": "stdout",
     "output_type": "stream",
     "text": [
      "[[2311   52]\n",
      " [ 398  239]]\n"
     ]
    }
   ],
   "source": [
    "print(confusion_matrix(y_test,y_pred_RF))"
   ]
  },
  {
   "cell_type": "code",
   "execution_count": 190,
   "id": "a93271f8",
   "metadata": {},
   "outputs": [
    {
     "name": "stdout",
     "output_type": "stream",
     "text": [
      "True Negative count: 2311\n",
      "True Positive count: 239\n",
      "False Positive count: 52\n",
      "False Negative count: 398\n"
     ]
    }
   ],
   "source": [
    "tn4,fp4,fn4,tp4=confusion_matrix(y_test,y_pred_RF).ravel()\n",
    "print('True Negative count:',tn4)\n",
    "print('True Positive count:',tp4)\n",
    "print('False Positive count:',fp4)\n",
    "print('False Negative count:',fn4)"
   ]
  },
  {
   "cell_type": "markdown",
   "id": "7a53e1f5",
   "metadata": {},
   "source": [
    "##### From the confusion matrix it is evident that most results were predicted accurately but there was a high inaccuracy number for False Negative predictions."
   ]
  },
  {
   "cell_type": "code",
   "execution_count": 191,
   "id": "dba8b192",
   "metadata": {},
   "outputs": [
    {
     "name": "stdout",
     "output_type": "stream",
     "text": [
      "accuracy: 0.85\n",
      "recall: 0.3751962323390895\n",
      "f1-score: 0.5150862068965517\n",
      "precision: 0.8213058419243986\n"
     ]
    }
   ],
   "source": [
    "print('accuracy:',accuracy_score(y_test,y_pred_RF))\n",
    "print('recall:', recall_score(y_test,y_pred_RF))\n",
    "print('f1-score:', f1_score(y_test,y_pred_RF))\n",
    "print('precision:',precision_score(y_test,y_pred_RF))"
   ]
  },
  {
   "cell_type": "code",
   "execution_count": 192,
   "id": "3e057672",
   "metadata": {},
   "outputs": [
    {
     "name": "stdout",
     "output_type": "stream",
     "text": [
      "              precision    recall  f1-score   support\n",
      "\n",
      "           0       0.85      0.98      0.91      2363\n",
      "           1       0.82      0.38      0.52       637\n",
      "\n",
      "    accuracy                           0.85      3000\n",
      "   macro avg       0.84      0.68      0.71      3000\n",
      "weighted avg       0.85      0.85      0.83      3000\n",
      "\n"
     ]
    }
   ],
   "source": [
    "print(classification_report(y_test, y_pred_RF))"
   ]
  },
  {
   "cell_type": "markdown",
   "id": "5d785414",
   "metadata": {},
   "source": [
    "##### From the classification report we can see that Random forest classification model by far gives the best precision scores for existing and churned customers"
   ]
  },
  {
   "cell_type": "code",
   "execution_count": 193,
   "id": "fa422479",
   "metadata": {},
   "outputs": [],
   "source": [
    "# Checking for ROC-AUC score"
   ]
  },
  {
   "cell_type": "code",
   "execution_count": 194,
   "id": "9ff2c513",
   "metadata": {},
   "outputs": [
    {
     "data": {
      "text/plain": [
       "0.8415871052350103"
      ]
     },
     "execution_count": 194,
     "metadata": {},
     "output_type": "execute_result"
    }
   ],
   "source": [
    "roc4=roc_auc_score(y_test, model4.predict_proba(x_test)[:,1])\n",
    "roc4"
   ]
  },
  {
   "cell_type": "markdown",
   "id": "3047cec1",
   "metadata": {},
   "source": [
    "##### We obtain an ROC-AUC score better than the previous models"
   ]
  },
  {
   "cell_type": "code",
   "execution_count": 196,
   "id": "a4b3d44f",
   "metadata": {},
   "outputs": [],
   "source": [
    "# ROC-AUC Curve"
   ]
  },
  {
   "cell_type": "code",
   "execution_count": 197,
   "id": "472a03b4",
   "metadata": {},
   "outputs": [
    {
     "name": "stdout",
     "output_type": "stream",
     "text": [
      "No Skill: ROC AUC=0.500\n",
      "Logistic: ROC AUC=0.842\n"
     ]
    },
    {
     "data": {
      "image/png": "[encoded data removed]",
      "text/plain": [
       "<Figure size 432x288 with 1 Axes>"
      ]
     },
     "metadata": {
      "needs_background": "light"
     },
     "output_type": "display_data"
    }
   ],
   "source": [
    "# generate a no skill prediction (majority class)\n",
    "ns_probs = [0 for _ in range(len(y_test))]\n",
    "# predict probabilities\n",
    "lr_probs = model4.predict_proba(x_test)\n",
    "# keep probabilities for the positive outcome only\n",
    "lr_probs = lr_probs[:, 1]\n",
    "# calculate scores\n",
    "ns_auc = roc_auc_score(y_test, ns_probs)\n",
    "lr_auc = roc_auc_score(y_test, lr_probs)\n",
    "# summarize scores\n",
    "print('No Skill: ROC AUC=%.3f' % (ns_auc))\n",
    "print('Logistic: ROC AUC=%.3f' % (lr_auc))\n",
    "# calculate roc curves\n",
    "ns_fpr, ns_tpr, _ = roc_curve(y_test, ns_probs)\n",
    "lr_fpr, lr_tpr, _ = roc_curve(y_test, lr_probs)\n",
    "# plot the roc curve for the model\n",
    "plt.plot(ns_fpr, ns_tpr, linestyle='--', label='No Skill')\n",
    "plt.plot(lr_fpr, lr_tpr, marker='.', label='Logistic')\n",
    "# axis labels\n",
    "plt.xlabel('False Positive Rate')\n",
    "plt.ylabel('True Positive Rate')\n",
    "# show the legend\n",
    "plt.legend()\n",
    "# show the plot\n",
    "plt.show()"
   ]
  },
  {
   "cell_type": "code",
   "execution_count": 198,
   "id": "7387b9a5",
   "metadata": {},
   "outputs": [],
   "source": [
    "# Checking for wrong predicted values"
   ]
  },
  {
   "cell_type": "code",
   "execution_count": 199,
   "id": "cc4b1fef",
   "metadata": {},
   "outputs": [
    {
     "data": {
      "text/html": [
       "<div>\n",
       "<style scoped>\n",
       "    .dataframe tbody tr th:only-of-type {\n",
       "        vertical-align: middle;\n",
       "    }\n",
       "\n",
       "    .dataframe tbody tr th {\n",
       "        vertical-align: top;\n",
       "    }\n",
       "\n",
       "    .dataframe thead th {\n",
       "        text-align: right;\n",
       "    }\n",
       "</style>\n",
       "<table border=\"1\" class=\"dataframe\">\n",
       "  <thead>\n",
       "    <tr style=\"text-align: right;\">\n",
       "      <th></th>\n",
       "      <th>Actual_y</th>\n",
       "      <th>Predicted_y</th>\n",
       "    </tr>\n",
       "  </thead>\n",
       "  <tbody>\n",
       "    <tr>\n",
       "      <th>1122</th>\n",
       "      <td>1</td>\n",
       "      <td>0</td>\n",
       "    </tr>\n",
       "    <tr>\n",
       "      <th>9314</th>\n",
       "      <td>1</td>\n",
       "      <td>0</td>\n",
       "    </tr>\n",
       "    <tr>\n",
       "      <th>1631</th>\n",
       "      <td>1</td>\n",
       "      <td>0</td>\n",
       "    </tr>\n",
       "    <tr>\n",
       "      <th>9125</th>\n",
       "      <td>1</td>\n",
       "      <td>0</td>\n",
       "    </tr>\n",
       "    <tr>\n",
       "      <th>4680</th>\n",
       "      <td>0</td>\n",
       "      <td>1</td>\n",
       "    </tr>\n",
       "    <tr>\n",
       "      <th>...</th>\n",
       "      <td>...</td>\n",
       "      <td>...</td>\n",
       "    </tr>\n",
       "    <tr>\n",
       "      <th>7209</th>\n",
       "      <td>1</td>\n",
       "      <td>0</td>\n",
       "    </tr>\n",
       "    <tr>\n",
       "      <th>5158</th>\n",
       "      <td>0</td>\n",
       "      <td>1</td>\n",
       "    </tr>\n",
       "    <tr>\n",
       "      <th>1369</th>\n",
       "      <td>1</td>\n",
       "      <td>0</td>\n",
       "    </tr>\n",
       "    <tr>\n",
       "      <th>5214</th>\n",
       "      <td>1</td>\n",
       "      <td>0</td>\n",
       "    </tr>\n",
       "    <tr>\n",
       "      <th>8095</th>\n",
       "      <td>1</td>\n",
       "      <td>0</td>\n",
       "    </tr>\n",
       "  </tbody>\n",
       "</table>\n",
       "<p>450 rows × 2 columns</p>\n",
       "</div>"
      ],
      "text/plain": [
       "      Actual_y  Predicted_y\n",
       "1122         1            0\n",
       "9314         1            0\n",
       "1631         1            0\n",
       "9125         1            0\n",
       "4680         0            1\n",
       "...        ...          ...\n",
       "7209         1            0\n",
       "5158         0            1\n",
       "1369         1            0\n",
       "5214         1            0\n",
       "8095         1            0\n",
       "\n",
       "[450 rows x 2 columns]"
      ]
     },
     "execution_count": 199,
     "metadata": {},
     "output_type": "execute_result"
    }
   ],
   "source": [
    "data4[(data4['Actual_y']!=data4['Predicted_y'])]"
   ]
  },
  {
   "cell_type": "markdown",
   "id": "1169d193",
   "metadata": {},
   "source": [
    "##### We can see that there are 450 wrong predicted values which is by far the most accurate model"
   ]
  },
  {
   "cell_type": "code",
   "execution_count": null,
   "id": "bc616a61",
   "metadata": {},
   "outputs": [],
   "source": []
  },
  {
   "cell_type": "markdown",
   "id": "497854ae",
   "metadata": {},
   "source": [
    "### 5) KNN Classifier"
   ]
  },
  {
   "cell_type": "code",
   "execution_count": 202,
   "id": "e8857b6a",
   "metadata": {},
   "outputs": [
    {
     "data": {
      "text/plain": [
       "KNeighborsClassifier(n_neighbors=7)"
      ]
     },
     "execution_count": 202,
     "metadata": {},
     "output_type": "execute_result"
    }
   ],
   "source": [
    "model5=KNeighborsClassifier(n_neighbors=7)\n",
    "model5.fit(x_train,y_train)"
   ]
  },
  {
   "cell_type": "code",
   "execution_count": 203,
   "id": "5f7a5ec8",
   "metadata": {},
   "outputs": [
    {
     "data": {
      "text/plain": [
       "85.35714285714285"
      ]
     },
     "execution_count": 203,
     "metadata": {},
     "output_type": "execute_result"
    }
   ],
   "source": [
    "# Train accuracy\n",
    "(model5.score(x_train,y_train))*100"
   ]
  },
  {
   "cell_type": "code",
   "execution_count": 204,
   "id": "c99063b7",
   "metadata": {},
   "outputs": [
    {
     "data": {
      "text/plain": [
       "81.6"
      ]
     },
     "execution_count": 204,
     "metadata": {},
     "output_type": "execute_result"
    }
   ],
   "source": [
    "# Test accuracy\n",
    "(model5.score(x_test,y_test))*100"
   ]
  },
  {
   "cell_type": "markdown",
   "id": "d31d8d19",
   "metadata": {},
   "source": [
    "##### We can see that the model fails to perform well for test data as compared to training data, the model therefore suffers from overfitting"
   ]
  },
  {
   "cell_type": "code",
   "execution_count": 205,
   "id": "aed4405e",
   "metadata": {},
   "outputs": [],
   "source": [
    "# Predicted y\n",
    "y_pred_KNN=model5.predict(x_test)"
   ]
  },
  {
   "cell_type": "code",
   "execution_count": 206,
   "id": "95e82238",
   "metadata": {},
   "outputs": [],
   "source": [
    "data5=pd.DataFrame()"
   ]
  },
  {
   "cell_type": "code",
   "execution_count": 207,
   "id": "9f7b6589",
   "metadata": {},
   "outputs": [
    {
     "data": {
      "text/html": [
       "<div>\n",
       "<style scoped>\n",
       "    .dataframe tbody tr th:only-of-type {\n",
       "        vertical-align: middle;\n",
       "    }\n",
       "\n",
       "    .dataframe tbody tr th {\n",
       "        vertical-align: top;\n",
       "    }\n",
       "\n",
       "    .dataframe thead th {\n",
       "        text-align: right;\n",
       "    }\n",
       "</style>\n",
       "<table border=\"1\" class=\"dataframe\">\n",
       "  <thead>\n",
       "    <tr style=\"text-align: right;\">\n",
       "      <th></th>\n",
       "      <th>Actual_y</th>\n",
       "      <th>Predicted_y</th>\n",
       "    </tr>\n",
       "  </thead>\n",
       "  <tbody>\n",
       "    <tr>\n",
       "      <th>8793</th>\n",
       "      <td>0</td>\n",
       "      <td>0</td>\n",
       "    </tr>\n",
       "    <tr>\n",
       "      <th>1122</th>\n",
       "      <td>1</td>\n",
       "      <td>1</td>\n",
       "    </tr>\n",
       "    <tr>\n",
       "      <th>1283</th>\n",
       "      <td>0</td>\n",
       "      <td>0</td>\n",
       "    </tr>\n",
       "    <tr>\n",
       "      <th>9318</th>\n",
       "      <td>0</td>\n",
       "      <td>0</td>\n",
       "    </tr>\n",
       "    <tr>\n",
       "      <th>7765</th>\n",
       "      <td>0</td>\n",
       "      <td>0</td>\n",
       "    </tr>\n",
       "    <tr>\n",
       "      <th>...</th>\n",
       "      <td>...</td>\n",
       "      <td>...</td>\n",
       "    </tr>\n",
       "    <tr>\n",
       "      <th>3024</th>\n",
       "      <td>0</td>\n",
       "      <td>0</td>\n",
       "    </tr>\n",
       "    <tr>\n",
       "      <th>5904</th>\n",
       "      <td>1</td>\n",
       "      <td>1</td>\n",
       "    </tr>\n",
       "    <tr>\n",
       "      <th>3807</th>\n",
       "      <td>0</td>\n",
       "      <td>0</td>\n",
       "    </tr>\n",
       "    <tr>\n",
       "      <th>6746</th>\n",
       "      <td>0</td>\n",
       "      <td>0</td>\n",
       "    </tr>\n",
       "    <tr>\n",
       "      <th>7377</th>\n",
       "      <td>0</td>\n",
       "      <td>0</td>\n",
       "    </tr>\n",
       "  </tbody>\n",
       "</table>\n",
       "<p>3000 rows × 2 columns</p>\n",
       "</div>"
      ],
      "text/plain": [
       "      Actual_y  Predicted_y\n",
       "8793         0            0\n",
       "1122         1            1\n",
       "1283         0            0\n",
       "9318         0            0\n",
       "7765         0            0\n",
       "...        ...          ...\n",
       "3024         0            0\n",
       "5904         1            1\n",
       "3807         0            0\n",
       "6746         0            0\n",
       "7377         0            0\n",
       "\n",
       "[3000 rows x 2 columns]"
      ]
     },
     "execution_count": 207,
     "metadata": {},
     "output_type": "execute_result"
    }
   ],
   "source": [
    "data5['Actual_y']=y_test\n",
    "data5['Predicted_y']=y_pred_KNN\n",
    "data5"
   ]
  },
  {
   "cell_type": "code",
   "execution_count": 208,
   "id": "31b8c10c",
   "metadata": {},
   "outputs": [],
   "source": [
    "# Confusion Matrix"
   ]
  },
  {
   "cell_type": "code",
   "execution_count": 209,
   "id": "0390f14e",
   "metadata": {},
   "outputs": [
    {
     "name": "stdout",
     "output_type": "stream",
     "text": [
      "[[2270   93]\n",
      " [ 459  178]]\n"
     ]
    }
   ],
   "source": [
    "print(confusion_matrix(y_test,y_pred_KNN))"
   ]
  },
  {
   "cell_type": "code",
   "execution_count": 210,
   "id": "b4234921",
   "metadata": {},
   "outputs": [
    {
     "name": "stdout",
     "output_type": "stream",
     "text": [
      "True Negative count: 2270\n",
      "True Positive count: 178\n",
      "False Positive count: 93\n",
      "False Negative count: 459\n"
     ]
    }
   ],
   "source": [
    "tn5,fp5,fn5,tp5=confusion_matrix(y_test,y_pred_KNN).ravel()\n",
    "print('True Negative count:',tn5)\n",
    "print('True Positive count:',tp5)\n",
    "print('False Positive count:',fp5)\n",
    "print('False Negative count:',fn5)"
   ]
  },
  {
   "cell_type": "markdown",
   "id": "344b1f64",
   "metadata": {},
   "source": [
    "##### We can see from the confusion matrix that the model is inferior compared to Random Forest Classifier and Decision Tree Classifier"
   ]
  },
  {
   "cell_type": "code",
   "execution_count": 211,
   "id": "f3eaef84",
   "metadata": {},
   "outputs": [
    {
     "name": "stdout",
     "output_type": "stream",
     "text": [
      "accuracy: 0.816\n",
      "recall: 0.2794348508634223\n",
      "f1-score: 0.39207048458149774\n",
      "precision: 0.6568265682656826\n"
     ]
    }
   ],
   "source": [
    "print('accuracy:',accuracy_score(y_test,y_pred_KNN))\n",
    "print('recall:', recall_score(y_test,y_pred_KNN))\n",
    "print('f1-score:', f1_score(y_test,y_pred_KNN))\n",
    "print('precision:',precision_score(y_test,y_pred_KNN))"
   ]
  },
  {
   "cell_type": "code",
   "execution_count": 212,
   "id": "88c262ca",
   "metadata": {},
   "outputs": [
    {
     "name": "stdout",
     "output_type": "stream",
     "text": [
      "              precision    recall  f1-score   support\n",
      "\n",
      "           0       0.83      0.96      0.89      2363\n",
      "           1       0.66      0.28      0.39       637\n",
      "\n",
      "    accuracy                           0.82      3000\n",
      "   macro avg       0.74      0.62      0.64      3000\n",
      "weighted avg       0.79      0.82      0.79      3000\n",
      "\n"
     ]
    }
   ],
   "source": [
    "print(classification_report(y_test, y_pred_KNN))"
   ]
  },
  {
   "cell_type": "markdown",
   "id": "7cbf420a",
   "metadata": {},
   "source": [
    "##### From the classification report it is evident that the precision score for predicting churned customers is poor (66%)."
   ]
  },
  {
   "cell_type": "code",
   "execution_count": 213,
   "id": "95b6d559",
   "metadata": {},
   "outputs": [],
   "source": [
    "# Checking for ROC-AUC score"
   ]
  },
  {
   "cell_type": "code",
   "execution_count": 215,
   "id": "5bdd72df",
   "metadata": {},
   "outputs": [
    {
     "data": {
      "text/plain": [
       "0.7532621238866326"
      ]
     },
     "execution_count": 215,
     "metadata": {},
     "output_type": "execute_result"
    }
   ],
   "source": [
    "roc5=roc_auc_score(y_test, model5.predict_proba(x_test)[:,1])\n",
    "roc5"
   ]
  },
  {
   "cell_type": "markdown",
   "id": "707dd75b",
   "metadata": {},
   "source": [
    "##### We can see that the roc score obtained is inferior to the previous models"
   ]
  },
  {
   "cell_type": "code",
   "execution_count": null,
   "id": "870229a7",
   "metadata": {},
   "outputs": [],
   "source": [
    "# ROC-AUC Curve"
   ]
  },
  {
   "cell_type": "code",
   "execution_count": 216,
   "id": "6c67e839",
   "metadata": {},
   "outputs": [
    {
     "name": "stdout",
     "output_type": "stream",
     "text": [
      "No Skill: ROC AUC=0.500\n",
      "Logistic: ROC AUC=0.753\n"
     ]
    },
    {
     "data": {
      "image/png": "[encoded data removed]",
      "text/plain": [
       "<Figure size 432x288 with 1 Axes>"
      ]
     },
     "metadata": {
      "needs_background": "light"
     },
     "output_type": "display_data"
    }
   ],
   "source": [
    "# generate a no skill prediction (majority class)\n",
    "ns_probs = [0 for _ in range(len(y_test))]\n",
    "# predict probabilities\n",
    "lr_probs = model5.predict_proba(x_test)\n",
    "# keep probabilities for the positive outcome only\n",
    "lr_probs = lr_probs[:, 1]\n",
    "# calculate scores\n",
    "ns_auc = roc_auc_score(y_test, ns_probs)\n",
    "lr_auc = roc_auc_score(y_test, lr_probs)\n",
    "# summarize scores\n",
    "print('No Skill: ROC AUC=%.3f' % (ns_auc))\n",
    "print('Logistic: ROC AUC=%.3f' % (lr_auc))\n",
    "# calculate roc curves\n",
    "ns_fpr, ns_tpr, _ = roc_curve(y_test, ns_probs)\n",
    "lr_fpr, lr_tpr, _ = roc_curve(y_test, lr_probs)\n",
    "# plot the roc curve for the model\n",
    "plt.plot(ns_fpr, ns_tpr, linestyle='--', label='No Skill')\n",
    "plt.plot(lr_fpr, lr_tpr, marker='.', label='Logistic')\n",
    "# axis labels\n",
    "plt.xlabel('False Positive Rate')\n",
    "plt.ylabel('True Positive Rate')\n",
    "# show the legend\n",
    "plt.legend()\n",
    "# show the plot\n",
    "plt.show()"
   ]
  },
  {
   "cell_type": "code",
   "execution_count": 217,
   "id": "40820cc4",
   "metadata": {},
   "outputs": [],
   "source": [
    "# Checking for wrong predicted values"
   ]
  },
  {
   "cell_type": "code",
   "execution_count": 218,
   "id": "4a8cbd34",
   "metadata": {},
   "outputs": [
    {
     "data": {
      "text/html": [
       "<div>\n",
       "<style scoped>\n",
       "    .dataframe tbody tr th:only-of-type {\n",
       "        vertical-align: middle;\n",
       "    }\n",
       "\n",
       "    .dataframe tbody tr th {\n",
       "        vertical-align: top;\n",
       "    }\n",
       "\n",
       "    .dataframe thead th {\n",
       "        text-align: right;\n",
       "    }\n",
       "</style>\n",
       "<table border=\"1\" class=\"dataframe\">\n",
       "  <thead>\n",
       "    <tr style=\"text-align: right;\">\n",
       "      <th></th>\n",
       "      <th>Actual_y</th>\n",
       "      <th>Predicted_y</th>\n",
       "    </tr>\n",
       "  </thead>\n",
       "  <tbody>\n",
       "    <tr>\n",
       "      <th>1631</th>\n",
       "      <td>1</td>\n",
       "      <td>0</td>\n",
       "    </tr>\n",
       "    <tr>\n",
       "      <th>9125</th>\n",
       "      <td>1</td>\n",
       "      <td>0</td>\n",
       "    </tr>\n",
       "    <tr>\n",
       "      <th>4680</th>\n",
       "      <td>0</td>\n",
       "      <td>1</td>\n",
       "    </tr>\n",
       "    <tr>\n",
       "      <th>504</th>\n",
       "      <td>0</td>\n",
       "      <td>1</td>\n",
       "    </tr>\n",
       "    <tr>\n",
       "      <th>7571</th>\n",
       "      <td>1</td>\n",
       "      <td>0</td>\n",
       "    </tr>\n",
       "    <tr>\n",
       "      <th>...</th>\n",
       "      <td>...</td>\n",
       "      <td>...</td>\n",
       "    </tr>\n",
       "    <tr>\n",
       "      <th>7209</th>\n",
       "      <td>1</td>\n",
       "      <td>0</td>\n",
       "    </tr>\n",
       "    <tr>\n",
       "      <th>1068</th>\n",
       "      <td>1</td>\n",
       "      <td>0</td>\n",
       "    </tr>\n",
       "    <tr>\n",
       "      <th>1369</th>\n",
       "      <td>1</td>\n",
       "      <td>0</td>\n",
       "    </tr>\n",
       "    <tr>\n",
       "      <th>5314</th>\n",
       "      <td>1</td>\n",
       "      <td>0</td>\n",
       "    </tr>\n",
       "    <tr>\n",
       "      <th>9956</th>\n",
       "      <td>1</td>\n",
       "      <td>0</td>\n",
       "    </tr>\n",
       "  </tbody>\n",
       "</table>\n",
       "<p>552 rows × 2 columns</p>\n",
       "</div>"
      ],
      "text/plain": [
       "      Actual_y  Predicted_y\n",
       "1631         1            0\n",
       "9125         1            0\n",
       "4680         0            1\n",
       "504          0            1\n",
       "7571         1            0\n",
       "...        ...          ...\n",
       "7209         1            0\n",
       "1068         1            0\n",
       "1369         1            0\n",
       "5314         1            0\n",
       "9956         1            0\n",
       "\n",
       "[552 rows x 2 columns]"
      ]
     },
     "execution_count": 218,
     "metadata": {},
     "output_type": "execute_result"
    }
   ],
   "source": [
    "data5[(data5['Actual_y']!=data5['Predicted_y'])]"
   ]
  },
  {
   "cell_type": "markdown",
   "id": "979f511d",
   "metadata": {},
   "source": [
    "##### We can see that there are a total of 552 incorrect predictions, therefore it is an inferior model compared to RF,DT and NBDT"
   ]
  },
  {
   "cell_type": "code",
   "execution_count": null,
   "id": "fa1f8f54",
   "metadata": {},
   "outputs": [],
   "source": []
  },
  {
   "cell_type": "markdown",
   "id": "459aa36e",
   "metadata": {},
   "source": [
    "### Comparing the Classification Models"
   ]
  },
  {
   "cell_type": "code",
   "execution_count": 219,
   "id": "e3639077",
   "metadata": {},
   "outputs": [],
   "source": [
    "compare_df=pd.DataFrame()"
   ]
  },
  {
   "cell_type": "code",
   "execution_count": 220,
   "id": "bb076c71",
   "metadata": {},
   "outputs": [],
   "source": [
    "compare_df['Model']=['Logistic Regression','Naive Bayes Decision Tree Classification','Decision Tree Classification','Random Forest Classification','KNN Classification']"
   ]
  },
  {
   "cell_type": "code",
   "execution_count": 224,
   "id": "5f464dd0",
   "metadata": {},
   "outputs": [],
   "source": [
    "compare_df['Train Accuracy']=[round(model1.score(x_train,y_train)*100,2),(model2.score(x_train,y_train))*100,(model3.score(x_train,y_train))*100,(model4.score(x_train,y_train))*100,(model5.score(x_train,y_train))*100]"
   ]
  },
  {
   "cell_type": "code",
   "execution_count": 225,
   "id": "4bbb7116",
   "metadata": {},
   "outputs": [],
   "source": [
    "compare_df['Test Accuracy']=[round(model1.score(x_test,y_test)*100,2),(model2.score(x_test,y_test))*100,(model3.score(x_test,y_test))*100,(model4.score(x_test,y_test))*100,(model5.score(x_test,y_test))*100]"
   ]
  },
  {
   "cell_type": "code",
   "execution_count": 228,
   "id": "dcfdf717",
   "metadata": {},
   "outputs": [],
   "source": [
    "compare_df['True Negative no.']=[tn,tn2,tn3,tn4,tn5]"
   ]
  },
  {
   "cell_type": "code",
   "execution_count": 230,
   "id": "2cd384b1",
   "metadata": {},
   "outputs": [],
   "source": [
    "compare_df['True Positive no.']=[tp,tp2,tp3,tp4,tp5]"
   ]
  },
  {
   "cell_type": "code",
   "execution_count": 232,
   "id": "07d4a4e1",
   "metadata": {},
   "outputs": [],
   "source": [
    "compare_df['False Positive no.']=[fp,fp2,fp3,fp4,fp5]"
   ]
  },
  {
   "cell_type": "code",
   "execution_count": 234,
   "id": "e0473bec",
   "metadata": {},
   "outputs": [],
   "source": [
    "compare_df['False Negative no.']=[fn,fn2,fn3,fn4,fn5]"
   ]
  },
  {
   "cell_type": "code",
   "execution_count": 236,
   "id": "a43a41c5",
   "metadata": {},
   "outputs": [],
   "source": [
    "compare_df['Recall']=[recall_score(y_test,y_pred_LR),recall_score(y_test,y_pred_NBDT),recall_score(y_test,y_pred_DT),recall_score(y_test,y_pred_RF),recall_score(y_test,y_pred_KNN)]"
   ]
  },
  {
   "cell_type": "code",
   "execution_count": 238,
   "id": "ec03d9d2",
   "metadata": {},
   "outputs": [],
   "source": [
    "compare_df['F1']=[f1_score(y_test,y_pred_LR),f1_score(y_test,y_pred_NBDT),f1_score(y_test,y_pred_DT),f1_score(y_test,y_pred_RF),f1_score(y_test,y_pred_KNN)]"
   ]
  },
  {
   "cell_type": "code",
   "execution_count": 240,
   "id": "0b5aa6b5",
   "metadata": {},
   "outputs": [],
   "source": [
    "compare_df['Precision']=[precision_score(y_test,y_pred_LR),precision_score(y_test,y_pred_NBDT),precision_score(y_test,y_pred_DT),precision_score(y_test,y_pred_RF),precision_score(y_test,y_pred_KNN)]"
   ]
  },
  {
   "cell_type": "code",
   "execution_count": 242,
   "id": "0820b20d",
   "metadata": {},
   "outputs": [],
   "source": [
    "compare_df['ROC-AUC Score']=[roc1,roc2,roc3,roc4,roc5]"
   ]
  },
  {
   "cell_type": "code",
   "execution_count": 251,
   "id": "904db7f4",
   "metadata": {},
   "outputs": [],
   "source": [
    "compare_df['Incorrect Predictions']=[data1[(data1['Actual_y']!=data1['Predicted_y'])].shape[0],data2[(data2['Actual_y']!=data2['Predicted_y'])].shape[0],data3[(data3['Actual_y']!=data3['Predicted_y'])].shape[0],data4[(data4['Actual_y']!=data4['Predicted_y'])].shape[0],data5[(data5['Actual_y']!=data5['Predicted_y'])].shape[0]]"
   ]
  },
  {
   "cell_type": "code",
   "execution_count": null,
   "id": "44afc1ad",
   "metadata": {},
   "outputs": [],
   "source": []
  },
  {
   "cell_type": "code",
   "execution_count": 252,
   "id": "cd2740fa",
   "metadata": {},
   "outputs": [
    {
     "data": {
      "text/html": [
       "<div>\n",
       "<style scoped>\n",
       "    .dataframe tbody tr th:only-of-type {\n",
       "        vertical-align: middle;\n",
       "    }\n",
       "\n",
       "    .dataframe tbody tr th {\n",
       "        vertical-align: top;\n",
       "    }\n",
       "\n",
       "    .dataframe thead th {\n",
       "        text-align: right;\n",
       "    }\n",
       "</style>\n",
       "<table border=\"1\" class=\"dataframe\">\n",
       "  <thead>\n",
       "    <tr style=\"text-align: right;\">\n",
       "      <th></th>\n",
       "      <th>Model</th>\n",
       "      <th>Train Accuracy</th>\n",
       "      <th>Test Accuracy</th>\n",
       "      <th>True Negative no.</th>\n",
       "      <th>True Positive no.</th>\n",
       "      <th>False Positive no.</th>\n",
       "      <th>False Negative no.</th>\n",
       "      <th>Recall</th>\n",
       "      <th>F1</th>\n",
       "      <th>Precision</th>\n",
       "      <th>ROC-AUC Score</th>\n",
       "      <th>Incorrect Predictions</th>\n",
       "    </tr>\n",
       "  </thead>\n",
       "  <tbody>\n",
       "    <tr>\n",
       "      <th>0</th>\n",
       "      <td>Logistic Regression</td>\n",
       "      <td>81.030000</td>\n",
       "      <td>80.030000</td>\n",
       "      <td>2295</td>\n",
       "      <td>106</td>\n",
       "      <td>68</td>\n",
       "      <td>531</td>\n",
       "      <td>0.166405</td>\n",
       "      <td>0.261406</td>\n",
       "      <td>0.609195</td>\n",
       "      <td>0.749777</td>\n",
       "      <td>599</td>\n",
       "    </tr>\n",
       "    <tr>\n",
       "      <th>1</th>\n",
       "      <td>Naive Bayes Decision Tree Classification</td>\n",
       "      <td>82.942857</td>\n",
       "      <td>82.466667</td>\n",
       "      <td>2319</td>\n",
       "      <td>155</td>\n",
       "      <td>44</td>\n",
       "      <td>482</td>\n",
       "      <td>0.243328</td>\n",
       "      <td>0.370813</td>\n",
       "      <td>0.778894</td>\n",
       "      <td>0.800178</td>\n",
       "      <td>526</td>\n",
       "    </tr>\n",
       "    <tr>\n",
       "      <th>2</th>\n",
       "      <td>Decision Tree Classification</td>\n",
       "      <td>86.014286</td>\n",
       "      <td>84.533333</td>\n",
       "      <td>2289</td>\n",
       "      <td>247</td>\n",
       "      <td>74</td>\n",
       "      <td>390</td>\n",
       "      <td>0.387755</td>\n",
       "      <td>0.515658</td>\n",
       "      <td>0.769470</td>\n",
       "      <td>0.819342</td>\n",
       "      <td>464</td>\n",
       "    </tr>\n",
       "    <tr>\n",
       "      <th>3</th>\n",
       "      <td>Random Forest Classification</td>\n",
       "      <td>86.428571</td>\n",
       "      <td>85.000000</td>\n",
       "      <td>2311</td>\n",
       "      <td>239</td>\n",
       "      <td>52</td>\n",
       "      <td>398</td>\n",
       "      <td>0.375196</td>\n",
       "      <td>0.515086</td>\n",
       "      <td>0.821306</td>\n",
       "      <td>0.841587</td>\n",
       "      <td>450</td>\n",
       "    </tr>\n",
       "    <tr>\n",
       "      <th>4</th>\n",
       "      <td>KNN Classification</td>\n",
       "      <td>85.357143</td>\n",
       "      <td>81.600000</td>\n",
       "      <td>2270</td>\n",
       "      <td>178</td>\n",
       "      <td>93</td>\n",
       "      <td>459</td>\n",
       "      <td>0.279435</td>\n",
       "      <td>0.392070</td>\n",
       "      <td>0.656827</td>\n",
       "      <td>0.753262</td>\n",
       "      <td>552</td>\n",
       "    </tr>\n",
       "  </tbody>\n",
       "</table>\n",
       "</div>"
      ],
      "text/plain": [
       "                                      Model  Train Accuracy  Test Accuracy  \\\n",
       "0                       Logistic Regression       81.030000      80.030000   \n",
       "1  Naive Bayes Decision Tree Classification       82.942857      82.466667   \n",
       "2              Decision Tree Classification       86.014286      84.533333   \n",
       "3              Random Forest Classification       86.428571      85.000000   \n",
       "4                        KNN Classification       85.357143      81.600000   \n",
       "\n",
       "   True Negative no.  True Positive no.  False Positive no.  \\\n",
       "0               2295                106                  68   \n",
       "1               2319                155                  44   \n",
       "2               2289                247                  74   \n",
       "3               2311                239                  52   \n",
       "4               2270                178                  93   \n",
       "\n",
       "   False Negative no.    Recall        F1  Precision  ROC-AUC Score  \\\n",
       "0                 531  0.166405  0.261406   0.609195       0.749777   \n",
       "1                 482  0.243328  0.370813   0.778894       0.800178   \n",
       "2                 390  0.387755  0.515658   0.769470       0.819342   \n",
       "3                 398  0.375196  0.515086   0.821306       0.841587   \n",
       "4                 459  0.279435  0.392070   0.656827       0.753262   \n",
       "\n",
       "   Incorrect Predictions  \n",
       "0                    599  \n",
       "1                    526  \n",
       "2                    464  \n",
       "3                    450  \n",
       "4                    552  "
      ]
     },
     "execution_count": 252,
     "metadata": {},
     "output_type": "execute_result"
    }
   ],
   "source": [
    "compare_df"
   ]
  },
  {
   "cell_type": "code",
   "execution_count": null,
   "id": "39468d90",
   "metadata": {},
   "outputs": [],
   "source": []
  },
  {
   "cell_type": "markdown",
   "id": "fcdc0df6",
   "metadata": {},
   "source": [
    "## Final Conclusions"
   ]
  },
  {
   "cell_type": "markdown",
   "id": "ccae92fb",
   "metadata": {},
   "source": [
    "#### 1) In terms of accuracy score, Random Forest Classification provides the best result for train and test set accuracy\n",
    "#### 2) In terms of incorrect predictions, Logistic Regression had the maximum incorrect predictions and was minimum in Random Forest Classification\n",
    "#### 3) In terms of precision score Random Forest Classifier had the best score followed by NBDT and DT classifier.\n",
    "#### 4) In terms of ROC-AUC score, Random Forest Classification has the value closest to 1 and LR and KNN classification have the values farhest from 1\n",
    "#### 5) Therefore, we can conclude that Random Forest Classification is the best model across all comparison parameters (accuracy score,ROC-AUC score,precision score and no. of incorrect predictions)"
   ]
  },
  {
   "cell_type": "code",
   "execution_count": null,
   "id": "748ad1e0",
   "metadata": {},
   "outputs": [],
   "source": []
  }
 ],
 "metadata": {
  "kernelspec": {
   "display_name": "Python 3 (ipykernel)",
   "language": "python",
   "name": "python3"
  },
  "language_info": {
   "codemirror_mode": {
    "name": "ipython",
    "version": 3
   },
   "file_extension": ".py",
   "mimetype": "text/x-python",
   "name": "python",
   "nbconvert_exporter": "python",
   "pygments_lexer": "ipython3",
   "version": "3.9.12"
  }
 },
 "nbformat": 4,
 "nbformat_minor": 5
}
