{
 "cells": [
  {
   "cell_type": "markdown",
   "id": "c9722ad3",
   "metadata": {},
   "source": [
    "## Importing Necessary Libraries"
   ]
  },
  {
   "cell_type": "code",
   "execution_count": 1,
   "id": "db1d6836",
   "metadata": {},
   "outputs": [],
   "source": [
    "import numpy as np\n",
    "import pandas as pd\n",
    "import matplotlib.pyplot as plt\n",
    "import seaborn as sb"
   ]
  },
  {
   "cell_type": "code",
   "execution_count": 125,
   "id": "aae8926b",
   "metadata": {},
   "outputs": [],
   "source": [
    "import warnings\n",
    "warnings.filterwarnings('ignore')"
   ]
  },
  {
   "cell_type": "code",
   "execution_count": 2,
   "id": "04d21f20",
   "metadata": {},
   "outputs": [],
   "source": [
    "from sklearn import preprocessing\n",
    "from sklearn.preprocessing import LabelEncoder\n",
    "from sklearn.preprocessing import MinMaxScaler"
   ]
  },
  {
   "cell_type": "code",
   "execution_count": 86,
   "id": "0db7563e",
   "metadata": {},
   "outputs": [],
   "source": [
    "from sklearn.linear_model import LinearRegression\n",
    "from sklearn.metrics import mean_squared_error\n",
    "from sklearn.metrics import mean_absolute_error"
   ]
  },
  {
   "cell_type": "code",
   "execution_count": 96,
   "id": "7f64c278",
   "metadata": {},
   "outputs": [],
   "source": [
    "from sklearn.tree import DecisionTreeRegressor\n",
    "from sklearn import tree"
   ]
  },
  {
   "cell_type": "code",
   "execution_count": 104,
   "id": "aa457275",
   "metadata": {},
   "outputs": [],
   "source": [
    "from sklearn.ensemble import RandomForestRegressor\n",
    "from sklearn.model_selection import RepeatedStratifiedKFold"
   ]
  },
  {
   "cell_type": "code",
   "execution_count": 63,
   "id": "01de67e4",
   "metadata": {},
   "outputs": [],
   "source": [
    "from sklearn.model_selection import cross_val_score, cross_val_predict, train_test_split"
   ]
  },
  {
   "cell_type": "code",
   "execution_count": 154,
   "id": "1334ce99",
   "metadata": {},
   "outputs": [],
   "source": [
    "from sklearn.neighbors import KNeighborsRegressor"
   ]
  },
  {
   "cell_type": "markdown",
   "id": "e2e7295e",
   "metadata": {},
   "source": [
    "## Reading the Data and Performing Exploratory Operations"
   ]
  },
  {
   "cell_type": "code",
   "execution_count": 3,
   "id": "a01c6f17",
   "metadata": {},
   "outputs": [],
   "source": [
    "df=pd.read_csv('DS3_C6_S1_Regression_Insurance_Data_Project.csv')"
   ]
  },
  {
   "cell_type": "code",
   "execution_count": 4,
   "id": "64ba1f6d",
   "metadata": {},
   "outputs": [
    {
     "data": {
      "text/html": [
       "<div>\n",
       "<style scoped>\n",
       "    .dataframe tbody tr th:only-of-type {\n",
       "        vertical-align: middle;\n",
       "    }\n",
       "\n",
       "    .dataframe tbody tr th {\n",
       "        vertical-align: top;\n",
       "    }\n",
       "\n",
       "    .dataframe thead th {\n",
       "        text-align: right;\n",
       "    }\n",
       "</style>\n",
       "<table border=\"1\" class=\"dataframe\">\n",
       "  <thead>\n",
       "    <tr style=\"text-align: right;\">\n",
       "      <th></th>\n",
       "      <th>age</th>\n",
       "      <th>sex</th>\n",
       "      <th>bmi</th>\n",
       "      <th>classif</th>\n",
       "      <th>children</th>\n",
       "      <th>smoker</th>\n",
       "      <th>region</th>\n",
       "      <th>charges</th>\n",
       "    </tr>\n",
       "  </thead>\n",
       "  <tbody>\n",
       "    <tr>\n",
       "      <th>0</th>\n",
       "      <td>19</td>\n",
       "      <td>female</td>\n",
       "      <td>27.900</td>\n",
       "      <td>PREO</td>\n",
       "      <td>0</td>\n",
       "      <td>yes</td>\n",
       "      <td>southwest</td>\n",
       "      <td>16884.92400</td>\n",
       "    </tr>\n",
       "    <tr>\n",
       "      <th>1</th>\n",
       "      <td>18</td>\n",
       "      <td>male</td>\n",
       "      <td>33.770</td>\n",
       "      <td>OB1</td>\n",
       "      <td>1</td>\n",
       "      <td>no</td>\n",
       "      <td>southeast</td>\n",
       "      <td>1725.55230</td>\n",
       "    </tr>\n",
       "    <tr>\n",
       "      <th>2</th>\n",
       "      <td>28</td>\n",
       "      <td>male</td>\n",
       "      <td>33.000</td>\n",
       "      <td>OB1</td>\n",
       "      <td>3</td>\n",
       "      <td>no</td>\n",
       "      <td>southeast</td>\n",
       "      <td>4449.46200</td>\n",
       "    </tr>\n",
       "    <tr>\n",
       "      <th>3</th>\n",
       "      <td>0</td>\n",
       "      <td>male</td>\n",
       "      <td>22.705</td>\n",
       "      <td>N</td>\n",
       "      <td>0</td>\n",
       "      <td>no</td>\n",
       "      <td>northwest</td>\n",
       "      <td>21984.47061</td>\n",
       "    </tr>\n",
       "    <tr>\n",
       "      <th>4</th>\n",
       "      <td>32</td>\n",
       "      <td>male</td>\n",
       "      <td>28.880</td>\n",
       "      <td>PREO</td>\n",
       "      <td>0</td>\n",
       "      <td>no</td>\n",
       "      <td>northwest</td>\n",
       "      <td>3866.85520</td>\n",
       "    </tr>\n",
       "  </tbody>\n",
       "</table>\n",
       "</div>"
      ],
      "text/plain": [
       "   age     sex     bmi classif  children smoker     region      charges\n",
       "0   19  female  27.900    PREO         0    yes  southwest  16884.92400\n",
       "1   18    male  33.770     OB1         1     no  southeast   1725.55230\n",
       "2   28    male  33.000     OB1         3     no  southeast   4449.46200\n",
       "3    0    male  22.705       N         0     no  northwest  21984.47061\n",
       "4   32    male  28.880    PREO         0     no  northwest   3866.85520"
      ]
     },
     "execution_count": 4,
     "metadata": {},
     "output_type": "execute_result"
    }
   ],
   "source": [
    "df.head()"
   ]
  },
  {
   "cell_type": "code",
   "execution_count": 5,
   "id": "9d3ebed8",
   "metadata": {},
   "outputs": [
    {
     "data": {
      "text/plain": [
       "(1338, 8)"
      ]
     },
     "execution_count": 5,
     "metadata": {},
     "output_type": "execute_result"
    }
   ],
   "source": [
    "df.shape"
   ]
  },
  {
   "cell_type": "code",
   "execution_count": 6,
   "id": "68ee7a23",
   "metadata": {},
   "outputs": [
    {
     "name": "stdout",
     "output_type": "stream",
     "text": [
      "<class 'pandas.core.frame.DataFrame'>\n",
      "RangeIndex: 1338 entries, 0 to 1337\n",
      "Data columns (total 8 columns):\n",
      " #   Column    Non-Null Count  Dtype  \n",
      "---  ------    --------------  -----  \n",
      " 0   age       1338 non-null   int64  \n",
      " 1   sex       1338 non-null   object \n",
      " 2   bmi       1338 non-null   float64\n",
      " 3   classif   1330 non-null   object \n",
      " 4   children  1338 non-null   int64  \n",
      " 5   smoker    1338 non-null   object \n",
      " 6   region    1338 non-null   object \n",
      " 7   charges   1338 non-null   float64\n",
      "dtypes: float64(2), int64(2), object(4)\n",
      "memory usage: 83.8+ KB\n"
     ]
    }
   ],
   "source": [
    "df.info()"
   ]
  },
  {
   "cell_type": "code",
   "execution_count": 7,
   "id": "ab01ab9e",
   "metadata": {},
   "outputs": [
    {
     "data": {
      "text/html": [
       "<div>\n",
       "<style scoped>\n",
       "    .dataframe tbody tr th:only-of-type {\n",
       "        vertical-align: middle;\n",
       "    }\n",
       "\n",
       "    .dataframe tbody tr th {\n",
       "        vertical-align: top;\n",
       "    }\n",
       "\n",
       "    .dataframe thead th {\n",
       "        text-align: right;\n",
       "    }\n",
       "</style>\n",
       "<table border=\"1\" class=\"dataframe\">\n",
       "  <thead>\n",
       "    <tr style=\"text-align: right;\">\n",
       "      <th></th>\n",
       "      <th>age</th>\n",
       "      <th>bmi</th>\n",
       "      <th>children</th>\n",
       "      <th>charges</th>\n",
       "    </tr>\n",
       "  </thead>\n",
       "  <tbody>\n",
       "    <tr>\n",
       "      <th>count</th>\n",
       "      <td>1338.000000</td>\n",
       "      <td>1338.000000</td>\n",
       "      <td>1338.000000</td>\n",
       "      <td>1338.000000</td>\n",
       "    </tr>\n",
       "    <tr>\n",
       "      <th>mean</th>\n",
       "      <td>39.133782</td>\n",
       "      <td>30.663397</td>\n",
       "      <td>1.094918</td>\n",
       "      <td>13270.422265</td>\n",
       "    </tr>\n",
       "    <tr>\n",
       "      <th>std</th>\n",
       "      <td>14.958658</td>\n",
       "      <td>6.098187</td>\n",
       "      <td>1.205493</td>\n",
       "      <td>12110.011237</td>\n",
       "    </tr>\n",
       "    <tr>\n",
       "      <th>min</th>\n",
       "      <td>-58.000000</td>\n",
       "      <td>15.960000</td>\n",
       "      <td>0.000000</td>\n",
       "      <td>1121.873900</td>\n",
       "    </tr>\n",
       "    <tr>\n",
       "      <th>25%</th>\n",
       "      <td>26.000000</td>\n",
       "      <td>26.296250</td>\n",
       "      <td>0.000000</td>\n",
       "      <td>4740.287150</td>\n",
       "    </tr>\n",
       "    <tr>\n",
       "      <th>50%</th>\n",
       "      <td>39.000000</td>\n",
       "      <td>30.400000</td>\n",
       "      <td>1.000000</td>\n",
       "      <td>9382.033000</td>\n",
       "    </tr>\n",
       "    <tr>\n",
       "      <th>75%</th>\n",
       "      <td>51.000000</td>\n",
       "      <td>34.693750</td>\n",
       "      <td>2.000000</td>\n",
       "      <td>16639.912515</td>\n",
       "    </tr>\n",
       "    <tr>\n",
       "      <th>max</th>\n",
       "      <td>190.000000</td>\n",
       "      <td>53.130000</td>\n",
       "      <td>5.000000</td>\n",
       "      <td>63770.428010</td>\n",
       "    </tr>\n",
       "  </tbody>\n",
       "</table>\n",
       "</div>"
      ],
      "text/plain": [
       "               age          bmi     children       charges\n",
       "count  1338.000000  1338.000000  1338.000000   1338.000000\n",
       "mean     39.133782    30.663397     1.094918  13270.422265\n",
       "std      14.958658     6.098187     1.205493  12110.011237\n",
       "min     -58.000000    15.960000     0.000000   1121.873900\n",
       "25%      26.000000    26.296250     0.000000   4740.287150\n",
       "50%      39.000000    30.400000     1.000000   9382.033000\n",
       "75%      51.000000    34.693750     2.000000  16639.912515\n",
       "max     190.000000    53.130000     5.000000  63770.428010"
      ]
     },
     "execution_count": 7,
     "metadata": {},
     "output_type": "execute_result"
    }
   ],
   "source": [
    "df.describe()"
   ]
  },
  {
   "cell_type": "markdown",
   "id": "90f1ccfe",
   "metadata": {},
   "source": [
    "#### Checking for null values/noise in data"
   ]
  },
  {
   "cell_type": "code",
   "execution_count": 8,
   "id": "2c292b7a",
   "metadata": {},
   "outputs": [
    {
     "data": {
      "text/plain": [
       "age         0\n",
       "sex         0\n",
       "bmi         0\n",
       "classif     8\n",
       "children    0\n",
       "smoker      0\n",
       "region      0\n",
       "charges     0\n",
       "dtype: int64"
      ]
     },
     "execution_count": 8,
     "metadata": {},
     "output_type": "execute_result"
    }
   ],
   "source": [
    "df.isnull().sum()"
   ]
  },
  {
   "cell_type": "code",
   "execution_count": 9,
   "id": "02a48cda",
   "metadata": {},
   "outputs": [],
   "source": [
    "df['classif']=df['classif'].fillna(df['classif'].mode()[0])"
   ]
  },
  {
   "cell_type": "code",
   "execution_count": 10,
   "id": "eb2eede1",
   "metadata": {},
   "outputs": [
    {
     "data": {
      "text/plain": [
       "age         0\n",
       "sex         0\n",
       "bmi         0\n",
       "classif     0\n",
       "children    0\n",
       "smoker      0\n",
       "region      0\n",
       "charges     0\n",
       "dtype: int64"
      ]
     },
     "execution_count": 10,
     "metadata": {},
     "output_type": "execute_result"
    }
   ],
   "source": [
    "df.isnull().sum()"
   ]
  },
  {
   "cell_type": "code",
   "execution_count": null,
   "id": "f198a829",
   "metadata": {},
   "outputs": [],
   "source": [
    "# No null values in dataset"
   ]
  },
  {
   "cell_type": "code",
   "execution_count": 11,
   "id": "9b2a1d59",
   "metadata": {},
   "outputs": [],
   "source": [
    "# Now checking for noise in data"
   ]
  },
  {
   "cell_type": "code",
   "execution_count": 12,
   "id": "d1b024b7",
   "metadata": {},
   "outputs": [],
   "source": [
    "# Seperating numerical and categorical Data\n",
    "num_data=df.select_dtypes(include=[np.number])\n",
    "cat_data=df.select_dtypes(exclude=[np.number])"
   ]
  },
  {
   "cell_type": "code",
   "execution_count": 13,
   "id": "90ed7604",
   "metadata": {},
   "outputs": [
    {
     "name": "stdout",
     "output_type": "stream",
     "text": [
      "male      676\n",
      "female    662\n",
      "Name: sex, dtype: int64\n",
      "**********************\n",
      "OB1     395\n",
      "PREO    383\n",
      "N       226\n",
      "OB2     224\n",
      "OB3      91\n",
      "UW       19\n",
      "Name: classif, dtype: int64\n",
      "**********************\n",
      "no     1064\n",
      "yes     274\n",
      "Name: smoker, dtype: int64\n",
      "**********************\n",
      "southeast    364\n",
      "southwest    325\n",
      "northwest    325\n",
      "northeast    324\n",
      "Name: region, dtype: int64\n",
      "**********************\n"
     ]
    }
   ],
   "source": [
    "for col1 in list(cat_data.columns):\n",
    "    print(round(df[col1].value_counts()))\n",
    "    print('**********************')"
   ]
  },
  {
   "cell_type": "code",
   "execution_count": 14,
   "id": "9305fd76",
   "metadata": {},
   "outputs": [],
   "source": [
    "# There is now no null or noise data in our dataset"
   ]
  },
  {
   "cell_type": "code",
   "execution_count": 15,
   "id": "b8fea2c7",
   "metadata": {
    "collapsed": true
   },
   "outputs": [
    {
     "data": {
      "text/plain": [
       " 18     69\n",
       " 19     67\n",
       " 50     29\n",
       " 20     29\n",
       " 45     29\n",
       " 48     29\n",
       " 51     29\n",
       " 52     29\n",
       " 47     29\n",
       " 46     29\n",
       " 25     28\n",
       " 22     28\n",
       " 28     28\n",
       " 53     28\n",
       " 21     28\n",
       " 54     28\n",
       " 24     28\n",
       " 26     28\n",
       " 49     28\n",
       " 27     28\n",
       " 23     28\n",
       " 42     27\n",
       " 30     27\n",
       " 41     27\n",
       " 31     27\n",
       " 29     27\n",
       " 44     27\n",
       " 43     27\n",
       " 40     27\n",
       " 56     26\n",
       " 55     26\n",
       " 32     26\n",
       " 34     26\n",
       " 57     26\n",
       " 33     25\n",
       " 39     25\n",
       " 38     25\n",
       " 36     25\n",
       " 35     25\n",
       " 59     25\n",
       " 37     25\n",
       " 58     23\n",
       " 63     23\n",
       " 62     23\n",
       " 60     23\n",
       " 61     22\n",
       " 64     22\n",
       " 0       2\n",
       "-58      1\n",
       " 190     1\n",
       "-1       1\n",
       "Name: age, dtype: int64"
      ]
     },
     "execution_count": 15,
     "metadata": {},
     "output_type": "execute_result"
    }
   ],
   "source": [
    "df['age'].value_counts()"
   ]
  },
  {
   "cell_type": "code",
   "execution_count": 16,
   "id": "fda2443d",
   "metadata": {},
   "outputs": [
    {
     "data": {
      "text/plain": [
       "18"
      ]
     },
     "execution_count": 16,
     "metadata": {},
     "output_type": "execute_result"
    }
   ],
   "source": [
    "df['age'].mode()[0]"
   ]
  },
  {
   "cell_type": "code",
   "execution_count": 17,
   "id": "37e09e2f",
   "metadata": {},
   "outputs": [],
   "source": [
    "df['age'].replace([0,-58,190,-1],df['age'].mode()[0],inplace=True)"
   ]
  },
  {
   "cell_type": "code",
   "execution_count": null,
   "id": "978dca63",
   "metadata": {},
   "outputs": [],
   "source": [
    "# Replacing noise values in age with mode"
   ]
  },
  {
   "cell_type": "markdown",
   "id": "2aea8d0f",
   "metadata": {},
   "source": [
    "#### Performing Necessary Visualizations"
   ]
  },
  {
   "cell_type": "code",
   "execution_count": 18,
   "id": "3119001d",
   "metadata": {},
   "outputs": [
    {
     "data": {
      "text/plain": [
       "array([[<AxesSubplot:title={'center':'age'}>,\n",
       "        <AxesSubplot:title={'center':'bmi'}>],\n",
       "       [<AxesSubplot:title={'center':'children'}>,\n",
       "        <AxesSubplot:title={'center':'charges'}>]], dtype=object)"
      ]
     },
     "execution_count": 18,
     "metadata": {},
     "output_type": "execute_result"
    },
    {
     "data": {
      "image/png": "[encoded data removed]",
      "text/plain": [
       "<Figure size 864x576 with 4 Axes>"
      ]
     },
     "metadata": {
      "needs_background": "light"
     },
     "output_type": "display_data"
    }
   ],
   "source": [
    "df.hist(figsize=(12,8))"
   ]
  },
  {
   "cell_type": "markdown",
   "id": "42b7b07e",
   "metadata": {},
   "source": [
    "##### From the histogram plots of all numerical data we see that: \n",
    "##### 1)only BMI is normally distributed.\n",
    "##### 2) No. of children for children count gradually decreases\n",
    "##### 3) Distribution of charges is left skewed "
   ]
  },
  {
   "cell_type": "code",
   "execution_count": null,
   "id": "e8a875c3",
   "metadata": {},
   "outputs": [],
   "source": []
  },
  {
   "cell_type": "code",
   "execution_count": 19,
   "id": "b17cb6bf",
   "metadata": {},
   "outputs": [
    {
     "data": {
      "text/plain": [
       "<AxesSubplot:xlabel='sex', ylabel='count'>"
      ]
     },
     "execution_count": 19,
     "metadata": {},
     "output_type": "execute_result"
    },
    {
     "data": {
      "image/png": "[encoded data removed]",
      "text/plain": [
       "<Figure size 432x288 with 1 Axes>"
      ]
     },
     "metadata": {
      "needs_background": "light"
     },
     "output_type": "display_data"
    }
   ],
   "source": [
    "sb.countplot(data=df,x='sex')"
   ]
  },
  {
   "cell_type": "code",
   "execution_count": 20,
   "id": "16671ab5",
   "metadata": {},
   "outputs": [],
   "source": [
    "# Total number of male and female customers are almost equal"
   ]
  },
  {
   "cell_type": "code",
   "execution_count": 21,
   "id": "8d584d84",
   "metadata": {},
   "outputs": [
    {
     "data": {
      "text/plain": [
       "<AxesSubplot:xlabel='sex', ylabel='count'>"
      ]
     },
     "execution_count": 21,
     "metadata": {},
     "output_type": "execute_result"
    },
    {
     "data": {
      "image/png": "[encoded data removed]",
      "text/plain": [
       "<Figure size 432x288 with 1 Axes>"
      ]
     },
     "metadata": {
      "needs_background": "light"
     },
     "output_type": "display_data"
    }
   ],
   "source": [
    "sb.countplot(data=df,x='sex',hue='smoker')"
   ]
  },
  {
   "cell_type": "code",
   "execution_count": 22,
   "id": "28721c6c",
   "metadata": {},
   "outputs": [],
   "source": [
    "# Smoker count is more amongst male as compared to females"
   ]
  },
  {
   "cell_type": "code",
   "execution_count": 23,
   "id": "9cf56961",
   "metadata": {},
   "outputs": [
    {
     "data": {
      "text/plain": [
       "<AxesSubplot:xlabel='classif', ylabel='count'>"
      ]
     },
     "execution_count": 23,
     "metadata": {},
     "output_type": "execute_result"
    },
    {
     "data": {
      "image/png": "[encoded data removed]",
      "text/plain": [
       "<Figure size 432x288 with 1 Axes>"
      ]
     },
     "metadata": {
      "needs_background": "light"
     },
     "output_type": "display_data"
    }
   ],
   "source": [
    "sb.countplot(data=df,x='classif')"
   ]
  },
  {
   "cell_type": "code",
   "execution_count": 24,
   "id": "c9d6a354",
   "metadata": {},
   "outputs": [],
   "source": [
    "# OB1 Class has the highest count followed by PREO and is minimum in UW"
   ]
  },
  {
   "cell_type": "code",
   "execution_count": 25,
   "id": "4920af7f",
   "metadata": {},
   "outputs": [
    {
     "data": {
      "text/plain": [
       "<AxesSubplot:xlabel='smoker', ylabel='count'>"
      ]
     },
     "execution_count": 25,
     "metadata": {},
     "output_type": "execute_result"
    },
    {
     "data": {
      "image/png": "[encoded data removed]",
      "text/plain": [
       "<Figure size 432x288 with 1 Axes>"
      ]
     },
     "metadata": {
      "needs_background": "light"
     },
     "output_type": "display_data"
    }
   ],
   "source": [
    "sb.countplot(data=df,x='smoker')"
   ]
  },
  {
   "cell_type": "code",
   "execution_count": 26,
   "id": "2acd487b",
   "metadata": {},
   "outputs": [],
   "source": [
    "# Most customers are non smokers"
   ]
  },
  {
   "cell_type": "code",
   "execution_count": 27,
   "id": "9342e8ec",
   "metadata": {},
   "outputs": [
    {
     "data": {
      "text/plain": [
       "<AxesSubplot:xlabel='region', ylabel='count'>"
      ]
     },
     "execution_count": 27,
     "metadata": {},
     "output_type": "execute_result"
    },
    {
     "data": {
      "image/png": "[encoded data removed]",
      "text/plain": [
       "<Figure size 432x288 with 1 Axes>"
      ]
     },
     "metadata": {
      "needs_background": "light"
     },
     "output_type": "display_data"
    }
   ],
   "source": [
    "sb.countplot(data=df,x='region')"
   ]
  },
  {
   "cell_type": "code",
   "execution_count": 28,
   "id": "36cf11fa",
   "metadata": {},
   "outputs": [],
   "source": [
    "# Most customers are from the southeast region and is almost equal in other regions"
   ]
  },
  {
   "cell_type": "markdown",
   "id": "41b28edd",
   "metadata": {},
   "source": [
    "#### Since our business objective requires us to build a model that predicts the insurance policy amount, we are to consider the charges column as our target variable"
   ]
  },
  {
   "cell_type": "code",
   "execution_count": 29,
   "id": "6b49d33c",
   "metadata": {},
   "outputs": [],
   "source": [
    "# Performing visualizations with respect to charges"
   ]
  },
  {
   "cell_type": "code",
   "execution_count": 30,
   "id": "737521ad",
   "metadata": {},
   "outputs": [
    {
     "data": {
      "text/plain": [
       "<AxesSubplot:xlabel='sex', ylabel='charges'>"
      ]
     },
     "execution_count": 30,
     "metadata": {},
     "output_type": "execute_result"
    },
    {
     "data": {
      "image/png": "[encoded data removed]",
      "text/plain": [
       "<Figure size 864x576 with 1 Axes>"
      ]
     },
     "metadata": {
      "needs_background": "light"
     },
     "output_type": "display_data"
    }
   ],
   "source": [
    "plt.figure(figsize=(12,8))\n",
    "sb.boxplot(data=df,x='sex',y='charges',showmeans=True)"
   ]
  },
  {
   "cell_type": "code",
   "execution_count": 31,
   "id": "f6f43f5f",
   "metadata": {},
   "outputs": [],
   "source": [
    "# Males have a wider range of charges.\n",
    "# The mean charges amongst males is slightly higher in males but the median charges are approximately the same"
   ]
  },
  {
   "cell_type": "code",
   "execution_count": 32,
   "id": "a484c502",
   "metadata": {},
   "outputs": [
    {
     "data": {
      "text/plain": [
       "<AxesSubplot:xlabel='classif', ylabel='charges'>"
      ]
     },
     "execution_count": 32,
     "metadata": {},
     "output_type": "execute_result"
    },
    {
     "data": {
      "image/png": "[encoded data removed]",
      "text/plain": [
       "<Figure size 864x576 with 1 Axes>"
      ]
     },
     "metadata": {
      "needs_background": "light"
     },
     "output_type": "display_data"
    }
   ],
   "source": [
    "plt.figure(figsize=(12,8))\n",
    "sb.boxplot(data=df,x='classif',y='charges',showmeans=True)"
   ]
  },
  {
   "cell_type": "code",
   "execution_count": 33,
   "id": "844a178e",
   "metadata": {},
   "outputs": [],
   "source": [
    "# OB2 class has the maximum range aswell as the mean for charges\n",
    "# UW class has the least range with respect to charges\n",
    "# OB1 class has the maximum outliers with respect to charges"
   ]
  },
  {
   "cell_type": "code",
   "execution_count": 34,
   "id": "19a205d9",
   "metadata": {},
   "outputs": [
    {
     "data": {
      "text/plain": [
       "<AxesSubplot:xlabel='smoker', ylabel='charges'>"
      ]
     },
     "execution_count": 34,
     "metadata": {},
     "output_type": "execute_result"
    },
    {
     "data": {
      "image/png": "[encoded data removed]",
      "text/plain": [
       "<Figure size 864x576 with 1 Axes>"
      ]
     },
     "metadata": {
      "needs_background": "light"
     },
     "output_type": "display_data"
    }
   ],
   "source": [
    "plt.figure(figsize=(12,8))\n",
    "sb.boxplot(data=df,x='smoker',y='charges',showmeans=True)"
   ]
  },
  {
   "cell_type": "code",
   "execution_count": 35,
   "id": "d5f67e31",
   "metadata": {},
   "outputs": [],
   "source": [
    "# The charges for customers who are smokers is significantly higher compared to non smokers"
   ]
  },
  {
   "cell_type": "code",
   "execution_count": 36,
   "id": "7ffe2f24",
   "metadata": {},
   "outputs": [
    {
     "data": {
      "text/plain": [
       "<AxesSubplot:xlabel='region', ylabel='charges'>"
      ]
     },
     "execution_count": 36,
     "metadata": {},
     "output_type": "execute_result"
    },
    {
     "data": {
      "image/png": "[encoded data removed]",
      "text/plain": [
       "<Figure size 864x576 with 1 Axes>"
      ]
     },
     "metadata": {
      "needs_background": "light"
     },
     "output_type": "display_data"
    }
   ],
   "source": [
    "plt.figure(figsize=(12,8))\n",
    "sb.boxplot(data=df,x='region',y='charges',showmeans=True)"
   ]
  },
  {
   "cell_type": "code",
   "execution_count": 37,
   "id": "fd4142c6",
   "metadata": {},
   "outputs": [],
   "source": [
    "# The southeast region has the maximum range of charges aswell as the maximum mean charges\n",
    "# The southwest region has the minimum range of chages."
   ]
  },
  {
   "cell_type": "code",
   "execution_count": 38,
   "id": "75d72edc",
   "metadata": {},
   "outputs": [
    {
     "data": {
      "text/plain": [
       "<seaborn.axisgrid.JointGrid at 0x1d8609ee670>"
      ]
     },
     "execution_count": 38,
     "metadata": {},
     "output_type": "execute_result"
    },
    {
     "data": {
      "image/png": "[encoded data removed]",
      "text/plain": [
       "<Figure size 432x432 with 3 Axes>"
      ]
     },
     "metadata": {
      "needs_background": "light"
     },
     "output_type": "display_data"
    }
   ],
   "source": [
    "sb.jointplot(data=df,x='age',y='charges',hue='smoker')"
   ]
  },
  {
   "cell_type": "code",
   "execution_count": 39,
   "id": "04e4daa9",
   "metadata": {},
   "outputs": [],
   "source": [
    "# As age increases, the charges tend to increase\n",
    "# No non smoker exists after charges cross 35000"
   ]
  },
  {
   "cell_type": "code",
   "execution_count": 40,
   "id": "259e26bd",
   "metadata": {},
   "outputs": [
    {
     "data": {
      "text/plain": [
       "<seaborn.axisgrid.JointGrid at 0x1d860c0cbb0>"
      ]
     },
     "execution_count": 40,
     "metadata": {},
     "output_type": "execute_result"
    },
    {
     "data": {
      "image/png": "[encoded data removed]",
      "text/plain": [
       "<Figure size 432x432 with 3 Axes>"
      ]
     },
     "metadata": {
      "needs_background": "light"
     },
     "output_type": "display_data"
    }
   ],
   "source": [
    "sb.jointplot(data=df,x='bmi',y='charges',hue='smoker')"
   ]
  },
  {
   "cell_type": "code",
   "execution_count": 41,
   "id": "45c1e951",
   "metadata": {},
   "outputs": [],
   "source": [
    "# as bmi increases charges tend to increase\n",
    "# As the charges increase more smokers are present"
   ]
  },
  {
   "cell_type": "code",
   "execution_count": 42,
   "id": "fa13f515",
   "metadata": {},
   "outputs": [
    {
     "data": {
      "text/plain": [
       "<seaborn.axisgrid.JointGrid at 0x1d8602ce070>"
      ]
     },
     "execution_count": 42,
     "metadata": {},
     "output_type": "execute_result"
    },
    {
     "data": {
      "image/png": "[encoded data removed]",
      "text/plain": [
       "<Figure size 432x432 with 3 Axes>"
      ]
     },
     "metadata": {
      "needs_background": "light"
     },
     "output_type": "display_data"
    }
   ],
   "source": [
    "sb.jointplot(data=df,x='children',y='charges',hue='smoker')"
   ]
  },
  {
   "cell_type": "code",
   "execution_count": 43,
   "id": "d9d78ec5",
   "metadata": {},
   "outputs": [],
   "source": [
    "# Charges tend to decrease with in crease in children count"
   ]
  },
  {
   "cell_type": "code",
   "execution_count": 44,
   "id": "d5f0c713",
   "metadata": {},
   "outputs": [],
   "source": [
    "# Checking for the data types of the columns"
   ]
  },
  {
   "cell_type": "code",
   "execution_count": 45,
   "id": "f1e0a47c",
   "metadata": {},
   "outputs": [
    {
     "data": {
      "text/plain": [
       "age           int64\n",
       "sex          object\n",
       "bmi         float64\n",
       "classif      object\n",
       "children      int64\n",
       "smoker       object\n",
       "region       object\n",
       "charges     float64\n",
       "dtype: object"
      ]
     },
     "execution_count": 45,
     "metadata": {},
     "output_type": "execute_result"
    }
   ],
   "source": [
    "df.dtypes"
   ]
  },
  {
   "cell_type": "code",
   "execution_count": null,
   "id": "d1c913e9",
   "metadata": {},
   "outputs": [],
   "source": []
  },
  {
   "cell_type": "code",
   "execution_count": 46,
   "id": "289c98de",
   "metadata": {},
   "outputs": [],
   "source": [
    "# Converting object datatype to categorical"
   ]
  },
  {
   "cell_type": "code",
   "execution_count": 47,
   "id": "8af9c49e",
   "metadata": {},
   "outputs": [],
   "source": [
    "# Creating copy of dataframe\n",
    "df1=df.copy()"
   ]
  },
  {
   "cell_type": "code",
   "execution_count": 48,
   "id": "4d22fa6f",
   "metadata": {},
   "outputs": [],
   "source": [
    "df1['sex']=df1['sex'].astype('category')\n",
    "df1['classif']=df1['classif'].astype('category')\n",
    "df1['smoker']=df1['smoker'].astype('category')\n",
    "df1['region']=df1['region'].astype('category')"
   ]
  },
  {
   "cell_type": "code",
   "execution_count": null,
   "id": "7c7690d6",
   "metadata": {},
   "outputs": [],
   "source": [
    "# Encoding the categorical columns"
   ]
  },
  {
   "cell_type": "code",
   "execution_count": 49,
   "id": "a3e75031",
   "metadata": {},
   "outputs": [],
   "source": [
    "label_encoder=preprocessing.LabelEncoder()"
   ]
  },
  {
   "cell_type": "code",
   "execution_count": 50,
   "id": "1b83ef9b",
   "metadata": {},
   "outputs": [],
   "source": [
    "df1['sex']=label_encoder.fit_transform(df1['sex'])\n",
    "df1['classif']=label_encoder.fit_transform(df1['classif'])\n",
    "df1['smoker']=label_encoder.fit_transform(df1['smoker'])\n",
    "df1['region']=label_encoder.fit_transform(df1['region'])"
   ]
  },
  {
   "cell_type": "code",
   "execution_count": 52,
   "id": "760ba722",
   "metadata": {},
   "outputs": [
    {
     "data": {
      "text/html": [
       "<div>\n",
       "<style scoped>\n",
       "    .dataframe tbody tr th:only-of-type {\n",
       "        vertical-align: middle;\n",
       "    }\n",
       "\n",
       "    .dataframe tbody tr th {\n",
       "        vertical-align: top;\n",
       "    }\n",
       "\n",
       "    .dataframe thead th {\n",
       "        text-align: right;\n",
       "    }\n",
       "</style>\n",
       "<table border=\"1\" class=\"dataframe\">\n",
       "  <thead>\n",
       "    <tr style=\"text-align: right;\">\n",
       "      <th></th>\n",
       "      <th>age</th>\n",
       "      <th>sex</th>\n",
       "      <th>bmi</th>\n",
       "      <th>classif</th>\n",
       "      <th>children</th>\n",
       "      <th>smoker</th>\n",
       "      <th>region</th>\n",
       "      <th>charges</th>\n",
       "    </tr>\n",
       "  </thead>\n",
       "  <tbody>\n",
       "    <tr>\n",
       "      <th>0</th>\n",
       "      <td>19</td>\n",
       "      <td>0</td>\n",
       "      <td>27.900</td>\n",
       "      <td>4</td>\n",
       "      <td>0</td>\n",
       "      <td>1</td>\n",
       "      <td>3</td>\n",
       "      <td>16884.92400</td>\n",
       "    </tr>\n",
       "    <tr>\n",
       "      <th>1</th>\n",
       "      <td>18</td>\n",
       "      <td>1</td>\n",
       "      <td>33.770</td>\n",
       "      <td>1</td>\n",
       "      <td>1</td>\n",
       "      <td>0</td>\n",
       "      <td>2</td>\n",
       "      <td>1725.55230</td>\n",
       "    </tr>\n",
       "    <tr>\n",
       "      <th>2</th>\n",
       "      <td>28</td>\n",
       "      <td>1</td>\n",
       "      <td>33.000</td>\n",
       "      <td>1</td>\n",
       "      <td>3</td>\n",
       "      <td>0</td>\n",
       "      <td>2</td>\n",
       "      <td>4449.46200</td>\n",
       "    </tr>\n",
       "    <tr>\n",
       "      <th>3</th>\n",
       "      <td>18</td>\n",
       "      <td>1</td>\n",
       "      <td>22.705</td>\n",
       "      <td>0</td>\n",
       "      <td>0</td>\n",
       "      <td>0</td>\n",
       "      <td>1</td>\n",
       "      <td>21984.47061</td>\n",
       "    </tr>\n",
       "    <tr>\n",
       "      <th>4</th>\n",
       "      <td>32</td>\n",
       "      <td>1</td>\n",
       "      <td>28.880</td>\n",
       "      <td>4</td>\n",
       "      <td>0</td>\n",
       "      <td>0</td>\n",
       "      <td>1</td>\n",
       "      <td>3866.85520</td>\n",
       "    </tr>\n",
       "  </tbody>\n",
       "</table>\n",
       "</div>"
      ],
      "text/plain": [
       "   age  sex     bmi  classif  children  smoker  region      charges\n",
       "0   19    0  27.900        4         0       1       3  16884.92400\n",
       "1   18    1  33.770        1         1       0       2   1725.55230\n",
       "2   28    1  33.000        1         3       0       2   4449.46200\n",
       "3   18    1  22.705        0         0       0       1  21984.47061\n",
       "4   32    1  28.880        4         0       0       1   3866.85520"
      ]
     },
     "execution_count": 52,
     "metadata": {},
     "output_type": "execute_result"
    }
   ],
   "source": [
    "df1.head()"
   ]
  },
  {
   "cell_type": "code",
   "execution_count": 53,
   "id": "a9b7363d",
   "metadata": {},
   "outputs": [],
   "source": [
    "df1_copy=df1.copy()"
   ]
  },
  {
   "cell_type": "code",
   "execution_count": null,
   "id": "97a307a5",
   "metadata": {},
   "outputs": [],
   "source": [
    "# Finding features that are highly correlated to target variable (charges)"
   ]
  },
  {
   "cell_type": "code",
   "execution_count": 59,
   "id": "a66a34f7",
   "metadata": {},
   "outputs": [
    {
     "data": {
      "text/plain": [
       "<AxesSubplot:>"
      ]
     },
     "execution_count": 59,
     "metadata": {},
     "output_type": "execute_result"
    },
    {
     "data": {
      "image/png": "[encoded data removed]",
      "text/plain": [
       "<Figure size 864x576 with 2 Axes>"
      ]
     },
     "metadata": {
      "needs_background": "light"
     },
     "output_type": "display_data"
    }
   ],
   "source": [
    "plt.figure(figsize=(12,8))\n",
    "sb.heatmap(data=df1_copy.corr(),annot=True)"
   ]
  },
  {
   "cell_type": "markdown",
   "id": "9d95fcb6",
   "metadata": {},
   "source": [
    "#### Factors affecting the charges the most:\n",
    "#### 1) Smoker (corr=0.79)\n",
    "#### 2) Age (corr=0.3)\n",
    "#### 3) BMI (corr=0.2)"
   ]
  },
  {
   "cell_type": "code",
   "execution_count": 54,
   "id": "41aa0b72",
   "metadata": {},
   "outputs": [],
   "source": [
    "df1.drop('charges',axis=1,inplace=True)"
   ]
  },
  {
   "cell_type": "markdown",
   "id": "4f2ea16f",
   "metadata": {},
   "source": [
    "##### Performing scaling on the features"
   ]
  },
  {
   "cell_type": "code",
   "execution_count": 153,
   "id": "e1a4f8e9",
   "metadata": {},
   "outputs": [],
   "source": [
    "# Since the features are un-uniformly distributed, we perform min-max scaling"
   ]
  },
  {
   "cell_type": "code",
   "execution_count": 55,
   "id": "9a63303e",
   "metadata": {},
   "outputs": [],
   "source": [
    "scaler=MinMaxScaler()"
   ]
  },
  {
   "cell_type": "code",
   "execution_count": 56,
   "id": "c3250cdb",
   "metadata": {},
   "outputs": [],
   "source": [
    "df_scaled=pd.DataFrame(scaler.fit_transform(df1.to_numpy()),columns=df1.columns)"
   ]
  },
  {
   "cell_type": "code",
   "execution_count": 57,
   "id": "af1db1e7",
   "metadata": {},
   "outputs": [
    {
     "data": {
      "text/html": [
       "<div>\n",
       "<style scoped>\n",
       "    .dataframe tbody tr th:only-of-type {\n",
       "        vertical-align: middle;\n",
       "    }\n",
       "\n",
       "    .dataframe tbody tr th {\n",
       "        vertical-align: top;\n",
       "    }\n",
       "\n",
       "    .dataframe thead th {\n",
       "        text-align: right;\n",
       "    }\n",
       "</style>\n",
       "<table border=\"1\" class=\"dataframe\">\n",
       "  <thead>\n",
       "    <tr style=\"text-align: right;\">\n",
       "      <th></th>\n",
       "      <th>age</th>\n",
       "      <th>sex</th>\n",
       "      <th>bmi</th>\n",
       "      <th>classif</th>\n",
       "      <th>children</th>\n",
       "      <th>smoker</th>\n",
       "      <th>region</th>\n",
       "    </tr>\n",
       "  </thead>\n",
       "  <tbody>\n",
       "    <tr>\n",
       "      <th>0</th>\n",
       "      <td>0.021739</td>\n",
       "      <td>0.0</td>\n",
       "      <td>0.321227</td>\n",
       "      <td>0.8</td>\n",
       "      <td>0.0</td>\n",
       "      <td>1.0</td>\n",
       "      <td>1.000000</td>\n",
       "    </tr>\n",
       "    <tr>\n",
       "      <th>1</th>\n",
       "      <td>0.000000</td>\n",
       "      <td>1.0</td>\n",
       "      <td>0.479150</td>\n",
       "      <td>0.2</td>\n",
       "      <td>0.2</td>\n",
       "      <td>0.0</td>\n",
       "      <td>0.666667</td>\n",
       "    </tr>\n",
       "    <tr>\n",
       "      <th>2</th>\n",
       "      <td>0.217391</td>\n",
       "      <td>1.0</td>\n",
       "      <td>0.458434</td>\n",
       "      <td>0.2</td>\n",
       "      <td>0.6</td>\n",
       "      <td>0.0</td>\n",
       "      <td>0.666667</td>\n",
       "    </tr>\n",
       "    <tr>\n",
       "      <th>3</th>\n",
       "      <td>0.000000</td>\n",
       "      <td>1.0</td>\n",
       "      <td>0.181464</td>\n",
       "      <td>0.0</td>\n",
       "      <td>0.0</td>\n",
       "      <td>0.0</td>\n",
       "      <td>0.333333</td>\n",
       "    </tr>\n",
       "    <tr>\n",
       "      <th>4</th>\n",
       "      <td>0.304348</td>\n",
       "      <td>1.0</td>\n",
       "      <td>0.347592</td>\n",
       "      <td>0.8</td>\n",
       "      <td>0.0</td>\n",
       "      <td>0.0</td>\n",
       "      <td>0.333333</td>\n",
       "    </tr>\n",
       "  </tbody>\n",
       "</table>\n",
       "</div>"
      ],
      "text/plain": [
       "        age  sex       bmi  classif  children  smoker    region\n",
       "0  0.021739  0.0  0.321227      0.8       0.0     1.0  1.000000\n",
       "1  0.000000  1.0  0.479150      0.2       0.2     0.0  0.666667\n",
       "2  0.217391  1.0  0.458434      0.2       0.6     0.0  0.666667\n",
       "3  0.000000  1.0  0.181464      0.0       0.0     0.0  0.333333\n",
       "4  0.304348  1.0  0.347592      0.8       0.0     0.0  0.333333"
      ]
     },
     "execution_count": 57,
     "metadata": {},
     "output_type": "execute_result"
    }
   ],
   "source": [
    "df_scaled.head()"
   ]
  },
  {
   "cell_type": "code",
   "execution_count": null,
   "id": "8e8ac709",
   "metadata": {},
   "outputs": [],
   "source": []
  },
  {
   "cell_type": "markdown",
   "id": "b80e0996",
   "metadata": {},
   "source": [
    "#### Performing Feature Selection"
   ]
  },
  {
   "cell_type": "code",
   "execution_count": 60,
   "id": "cd40d57a",
   "metadata": {},
   "outputs": [
    {
     "data": {
      "text/html": [
       "<div>\n",
       "<style scoped>\n",
       "    .dataframe tbody tr th:only-of-type {\n",
       "        vertical-align: middle;\n",
       "    }\n",
       "\n",
       "    .dataframe tbody tr th {\n",
       "        vertical-align: top;\n",
       "    }\n",
       "\n",
       "    .dataframe thead th {\n",
       "        text-align: right;\n",
       "    }\n",
       "</style>\n",
       "<table border=\"1\" class=\"dataframe\">\n",
       "  <thead>\n",
       "    <tr style=\"text-align: right;\">\n",
       "      <th></th>\n",
       "      <th>smoker</th>\n",
       "      <th>age</th>\n",
       "      <th>bmi</th>\n",
       "    </tr>\n",
       "  </thead>\n",
       "  <tbody>\n",
       "    <tr>\n",
       "      <th>0</th>\n",
       "      <td>1.0</td>\n",
       "      <td>0.021739</td>\n",
       "      <td>0.321227</td>\n",
       "    </tr>\n",
       "    <tr>\n",
       "      <th>1</th>\n",
       "      <td>0.0</td>\n",
       "      <td>0.000000</td>\n",
       "      <td>0.479150</td>\n",
       "    </tr>\n",
       "    <tr>\n",
       "      <th>2</th>\n",
       "      <td>0.0</td>\n",
       "      <td>0.217391</td>\n",
       "      <td>0.458434</td>\n",
       "    </tr>\n",
       "    <tr>\n",
       "      <th>3</th>\n",
       "      <td>0.0</td>\n",
       "      <td>0.000000</td>\n",
       "      <td>0.181464</td>\n",
       "    </tr>\n",
       "    <tr>\n",
       "      <th>4</th>\n",
       "      <td>0.0</td>\n",
       "      <td>0.304348</td>\n",
       "      <td>0.347592</td>\n",
       "    </tr>\n",
       "  </tbody>\n",
       "</table>\n",
       "</div>"
      ],
      "text/plain": [
       "   smoker       age       bmi\n",
       "0     1.0  0.021739  0.321227\n",
       "1     0.0  0.000000  0.479150\n",
       "2     0.0  0.217391  0.458434\n",
       "3     0.0  0.000000  0.181464\n",
       "4     0.0  0.304348  0.347592"
      ]
     },
     "execution_count": 60,
     "metadata": {},
     "output_type": "execute_result"
    }
   ],
   "source": [
    "X=df_scaled[['smoker','age','bmi']]\n",
    "X.head()"
   ]
  },
  {
   "cell_type": "code",
   "execution_count": 61,
   "id": "55b7ac61",
   "metadata": {},
   "outputs": [
    {
     "data": {
      "text/html": [
       "<div>\n",
       "<style scoped>\n",
       "    .dataframe tbody tr th:only-of-type {\n",
       "        vertical-align: middle;\n",
       "    }\n",
       "\n",
       "    .dataframe tbody tr th {\n",
       "        vertical-align: top;\n",
       "    }\n",
       "\n",
       "    .dataframe thead th {\n",
       "        text-align: right;\n",
       "    }\n",
       "</style>\n",
       "<table border=\"1\" class=\"dataframe\">\n",
       "  <thead>\n",
       "    <tr style=\"text-align: right;\">\n",
       "      <th></th>\n",
       "      <th>charges</th>\n",
       "    </tr>\n",
       "  </thead>\n",
       "  <tbody>\n",
       "    <tr>\n",
       "      <th>0</th>\n",
       "      <td>16884.92400</td>\n",
       "    </tr>\n",
       "    <tr>\n",
       "      <th>1</th>\n",
       "      <td>1725.55230</td>\n",
       "    </tr>\n",
       "    <tr>\n",
       "      <th>2</th>\n",
       "      <td>4449.46200</td>\n",
       "    </tr>\n",
       "    <tr>\n",
       "      <th>3</th>\n",
       "      <td>21984.47061</td>\n",
       "    </tr>\n",
       "    <tr>\n",
       "      <th>4</th>\n",
       "      <td>3866.85520</td>\n",
       "    </tr>\n",
       "  </tbody>\n",
       "</table>\n",
       "</div>"
      ],
      "text/plain": [
       "       charges\n",
       "0  16884.92400\n",
       "1   1725.55230\n",
       "2   4449.46200\n",
       "3  21984.47061\n",
       "4   3866.85520"
      ]
     },
     "execution_count": 61,
     "metadata": {},
     "output_type": "execute_result"
    }
   ],
   "source": [
    "y=df1_copy[['charges']]\n",
    "y.head()"
   ]
  },
  {
   "cell_type": "code",
   "execution_count": null,
   "id": "3b75b9a3",
   "metadata": {},
   "outputs": [],
   "source": []
  },
  {
   "cell_type": "markdown",
   "id": "4d3902f5",
   "metadata": {},
   "source": [
    "#### Splitting data into train set and test set"
   ]
  },
  {
   "cell_type": "code",
   "execution_count": 64,
   "id": "628d218d",
   "metadata": {},
   "outputs": [],
   "source": [
    "x_train,x_test,y_train,y_test=train_test_split(X,y,test_size=0.3,random_state=30)"
   ]
  },
  {
   "cell_type": "code",
   "execution_count": null,
   "id": "1a63c03d",
   "metadata": {},
   "outputs": [],
   "source": [
    "# Checking shape of train and test dataset"
   ]
  },
  {
   "cell_type": "code",
   "execution_count": 65,
   "id": "ac87357d",
   "metadata": {},
   "outputs": [
    {
     "data": {
      "text/plain": [
       "((936, 3), (402, 3), (936, 1), (402, 1))"
      ]
     },
     "execution_count": 65,
     "metadata": {},
     "output_type": "execute_result"
    }
   ],
   "source": [
    "x_train.shape,x_test.shape,y_train.shape,y_test.shape"
   ]
  },
  {
   "cell_type": "code",
   "execution_count": null,
   "id": "8ed2a476",
   "metadata": {},
   "outputs": [],
   "source": []
  },
  {
   "cell_type": "markdown",
   "id": "45a74872",
   "metadata": {},
   "source": [
    "### 1) Performing Linear Regression"
   ]
  },
  {
   "cell_type": "code",
   "execution_count": 72,
   "id": "9606ffc8",
   "metadata": {},
   "outputs": [],
   "source": [
    "model1_train=LinearRegression().fit(x_train,y_train)"
   ]
  },
  {
   "cell_type": "code",
   "execution_count": 73,
   "id": "e59bee6d",
   "metadata": {},
   "outputs": [],
   "source": [
    "coeff_Determ1=model1_train.score(x_train,y_train)"
   ]
  },
  {
   "cell_type": "code",
   "execution_count": 74,
   "id": "0758333a",
   "metadata": {},
   "outputs": [
    {
     "data": {
      "text/plain": [
       "0.7421580944370756"
      ]
     },
     "execution_count": 74,
     "metadata": {},
     "output_type": "execute_result"
    }
   ],
   "source": [
    "coeff_Determ1  #R^2 (accuracy of the model)"
   ]
  },
  {
   "cell_type": "code",
   "execution_count": 78,
   "id": "0f52df18",
   "metadata": {},
   "outputs": [
    {
     "data": {
      "text/plain": [
       "array([-2015.93584927])"
      ]
     },
     "execution_count": 78,
     "metadata": {},
     "output_type": "execute_result"
    }
   ],
   "source": [
    "model1_train.intercept_   # intercept (c)"
   ]
  },
  {
   "cell_type": "code",
   "execution_count": 79,
   "id": "b7988f19",
   "metadata": {},
   "outputs": [
    {
     "data": {
      "text/plain": [
       "array([[23623.22079835, 12465.73066652, 11832.1826568 ]])"
      ]
     },
     "execution_count": 79,
     "metadata": {},
     "output_type": "execute_result"
    }
   ],
   "source": [
    "model1_train.coef_   # slope (m)"
   ]
  },
  {
   "cell_type": "code",
   "execution_count": null,
   "id": "5176514c",
   "metadata": {},
   "outputs": [],
   "source": []
  },
  {
   "cell_type": "markdown",
   "id": "44edcec5",
   "metadata": {},
   "source": [
    "##### Predicting y (label) using Linear Regression"
   ]
  },
  {
   "cell_type": "code",
   "execution_count": 82,
   "id": "d15ae05e",
   "metadata": {},
   "outputs": [],
   "source": [
    "y_predict_LR=model1_train.predict(x_test)"
   ]
  },
  {
   "cell_type": "code",
   "execution_count": 83,
   "id": "94641b75",
   "metadata": {},
   "outputs": [],
   "source": [
    "data1=pd.DataFrame()\n",
    "data1['actual_y']=y_test\n",
    "data1['predict_y']=y_predict_LR"
   ]
  },
  {
   "cell_type": "code",
   "execution_count": 84,
   "id": "46e8b725",
   "metadata": {},
   "outputs": [
    {
     "data": {
      "text/html": [
       "<div>\n",
       "<style scoped>\n",
       "    .dataframe tbody tr th:only-of-type {\n",
       "        vertical-align: middle;\n",
       "    }\n",
       "\n",
       "    .dataframe tbody tr th {\n",
       "        vertical-align: top;\n",
       "    }\n",
       "\n",
       "    .dataframe thead th {\n",
       "        text-align: right;\n",
       "    }\n",
       "</style>\n",
       "<table border=\"1\" class=\"dataframe\">\n",
       "  <thead>\n",
       "    <tr style=\"text-align: right;\">\n",
       "      <th></th>\n",
       "      <th>actual_y</th>\n",
       "      <th>predict_y</th>\n",
       "    </tr>\n",
       "  </thead>\n",
       "  <tbody>\n",
       "    <tr>\n",
       "      <th>338</th>\n",
       "      <td>41919.09700</td>\n",
       "      <td>35480.546729</td>\n",
       "    </tr>\n",
       "    <tr>\n",
       "      <th>620</th>\n",
       "      <td>3659.34600</td>\n",
       "      <td>6150.949505</td>\n",
       "    </tr>\n",
       "    <tr>\n",
       "      <th>965</th>\n",
       "      <td>4746.34400</td>\n",
       "      <td>6137.117824</td>\n",
       "    </tr>\n",
       "    <tr>\n",
       "      <th>128</th>\n",
       "      <td>32734.18630</td>\n",
       "      <td>25975.781662</td>\n",
       "    </tr>\n",
       "    <tr>\n",
       "      <th>329</th>\n",
       "      <td>9144.56500</td>\n",
       "      <td>13799.949240</td>\n",
       "    </tr>\n",
       "    <tr>\n",
       "      <th>...</th>\n",
       "      <td>...</td>\n",
       "      <td>...</td>\n",
       "    </tr>\n",
       "    <tr>\n",
       "      <th>659</th>\n",
       "      <td>14394.39815</td>\n",
       "      <td>12635.368560</td>\n",
       "    </tr>\n",
       "    <tr>\n",
       "      <th>893</th>\n",
       "      <td>44202.65360</td>\n",
       "      <td>36781.249869</td>\n",
       "    </tr>\n",
       "    <tr>\n",
       "      <th>584</th>\n",
       "      <td>1242.81600</td>\n",
       "      <td>-236.075797</td>\n",
       "    </tr>\n",
       "    <tr>\n",
       "      <th>1290</th>\n",
       "      <td>7133.90250</td>\n",
       "      <td>4674.068351</td>\n",
       "    </tr>\n",
       "    <tr>\n",
       "      <th>302</th>\n",
       "      <td>12265.50690</td>\n",
       "      <td>15141.769994</td>\n",
       "    </tr>\n",
       "  </tbody>\n",
       "</table>\n",
       "<p>402 rows × 2 columns</p>\n",
       "</div>"
      ],
      "text/plain": [
       "         actual_y     predict_y\n",
       "338   41919.09700  35480.546729\n",
       "620    3659.34600   6150.949505\n",
       "965    4746.34400   6137.117824\n",
       "128   32734.18630  25975.781662\n",
       "329    9144.56500  13799.949240\n",
       "...           ...           ...\n",
       "659   14394.39815  12635.368560\n",
       "893   44202.65360  36781.249869\n",
       "584    1242.81600   -236.075797\n",
       "1290   7133.90250   4674.068351\n",
       "302   12265.50690  15141.769994\n",
       "\n",
       "[402 rows x 2 columns]"
      ]
     },
     "execution_count": 84,
     "metadata": {},
     "output_type": "execute_result"
    }
   ],
   "source": [
    "data1"
   ]
  },
  {
   "cell_type": "markdown",
   "id": "6049d159",
   "metadata": {},
   "source": [
    "##### Analysing Error obtained using Linear Regression"
   ]
  },
  {
   "cell_type": "code",
   "execution_count": 147,
   "id": "bbb7650d",
   "metadata": {},
   "outputs": [
    {
     "name": "stdout",
     "output_type": "stream",
     "text": [
      "Mean Squared Error: 35321340.0\n",
      "Mean Absolute Error: 4128.22\n",
      "Root Mean Squared Error: 5943.18\n"
     ]
    }
   ],
   "source": [
    "MSE1=round(mean_squared_error(y_test,y_predict_LR),2)\n",
    "MAE1=round(mean_absolute_error(y_test,y_predict_LR),2)\n",
    "RMSE1=round(mean_squared_error(y_test,y_predict_LR,squared=False),2)\n",
    "print('Mean Squared Error:',MSE1)\n",
    "print('Mean Absolute Error:',MAE1)\n",
    "print('Root Mean Squared Error:',RMSE1)"
   ]
  },
  {
   "cell_type": "code",
   "execution_count": null,
   "id": "d389c31f",
   "metadata": {},
   "outputs": [],
   "source": []
  },
  {
   "cell_type": "markdown",
   "id": "0536cbbb",
   "metadata": {},
   "source": [
    "### 2) Performing Decision Tree Regression"
   ]
  },
  {
   "cell_type": "markdown",
   "id": "0edb5203",
   "metadata": {},
   "source": [
    "##### Analysing accuracy of model using Decision Tree Regressor"
   ]
  },
  {
   "cell_type": "code",
   "execution_count": 94,
   "id": "7ede6856",
   "metadata": {},
   "outputs": [
    {
     "name": "stdout",
     "output_type": "stream",
     "text": [
      "R-Squared on train dataset=0.8651460429158625\n",
      "R-Squared on test dataset=0.8588925249738686\n"
     ]
    }
   ],
   "source": [
    "dtm = DecisionTreeRegressor(max_depth=4, min_samples_split=5, max_leaf_nodes=10)\n",
    "dtm.fit(x_train,y_train)\n",
    "print(\"R-Squared on train dataset={}\".format(dtm.score(x_train,y_train)))\n",
    "dtm.fit(x_test,y_test)\n",
    "print(\"R-Squared on test dataset={}\".format(dtm.score(x_test,y_test)))"
   ]
  },
  {
   "cell_type": "markdown",
   "id": "6ffd7397",
   "metadata": {},
   "source": [
    "##### Visualization of Decision Tree"
   ]
  },
  {
   "cell_type": "code",
   "execution_count": 97,
   "id": "997e3bee",
   "metadata": {},
   "outputs": [
    {
     "data": {
      "image/png": "[encoded data removed]",
      "text/plain": [
       "<Figure size 1800x1200 with 1 Axes>"
      ]
     },
     "metadata": {
      "needs_background": "light"
     },
     "output_type": "display_data"
    }
   ],
   "source": [
    "fig, axes = plt.subplots(dpi=300)\n",
    "tree.plot_tree(dtm, filled = True);"
   ]
  },
  {
   "cell_type": "markdown",
   "id": "503ae378",
   "metadata": {},
   "source": [
    "##### Predicting y (label) with decision tree regression"
   ]
  },
  {
   "cell_type": "code",
   "execution_count": 98,
   "id": "e28d94fe",
   "metadata": {},
   "outputs": [],
   "source": [
    "y_predict_DT=dtm.predict(x_test)"
   ]
  },
  {
   "cell_type": "code",
   "execution_count": 99,
   "id": "b322d58b",
   "metadata": {},
   "outputs": [],
   "source": [
    "data2=pd.DataFrame()\n",
    "data2['actual_y']=y_test\n",
    "data2['predict_y']=y_predict_DT"
   ]
  },
  {
   "cell_type": "code",
   "execution_count": 100,
   "id": "dee10bd6",
   "metadata": {},
   "outputs": [
    {
     "data": {
      "text/html": [
       "<div>\n",
       "<style scoped>\n",
       "    .dataframe tbody tr th:only-of-type {\n",
       "        vertical-align: middle;\n",
       "    }\n",
       "\n",
       "    .dataframe tbody tr th {\n",
       "        vertical-align: top;\n",
       "    }\n",
       "\n",
       "    .dataframe thead th {\n",
       "        text-align: right;\n",
       "    }\n",
       "</style>\n",
       "<table border=\"1\" class=\"dataframe\">\n",
       "  <thead>\n",
       "    <tr style=\"text-align: right;\">\n",
       "      <th></th>\n",
       "      <th>actual_y</th>\n",
       "      <th>predict_y</th>\n",
       "    </tr>\n",
       "  </thead>\n",
       "  <tbody>\n",
       "    <tr>\n",
       "      <th>338</th>\n",
       "      <td>41919.09700</td>\n",
       "      <td>41790.587314</td>\n",
       "    </tr>\n",
       "    <tr>\n",
       "      <th>620</th>\n",
       "      <td>3659.34600</td>\n",
       "      <td>5125.883492</td>\n",
       "    </tr>\n",
       "    <tr>\n",
       "      <th>965</th>\n",
       "      <td>4746.34400</td>\n",
       "      <td>8112.734975</td>\n",
       "    </tr>\n",
       "    <tr>\n",
       "      <th>128</th>\n",
       "      <td>32734.18630</td>\n",
       "      <td>32734.186300</td>\n",
       "    </tr>\n",
       "    <tr>\n",
       "      <th>329</th>\n",
       "      <td>9144.56500</td>\n",
       "      <td>11848.126464</td>\n",
       "    </tr>\n",
       "    <tr>\n",
       "      <th>...</th>\n",
       "      <td>...</td>\n",
       "      <td>...</td>\n",
       "    </tr>\n",
       "    <tr>\n",
       "      <th>659</th>\n",
       "      <td>14394.39815</td>\n",
       "      <td>11848.126464</td>\n",
       "    </tr>\n",
       "    <tr>\n",
       "      <th>893</th>\n",
       "      <td>44202.65360</td>\n",
       "      <td>41790.587314</td>\n",
       "    </tr>\n",
       "    <tr>\n",
       "      <th>584</th>\n",
       "      <td>1242.81600</td>\n",
       "      <td>5125.883492</td>\n",
       "    </tr>\n",
       "    <tr>\n",
       "      <th>1290</th>\n",
       "      <td>7133.90250</td>\n",
       "      <td>8112.734975</td>\n",
       "    </tr>\n",
       "    <tr>\n",
       "      <th>302</th>\n",
       "      <td>12265.50690</td>\n",
       "      <td>11848.126464</td>\n",
       "    </tr>\n",
       "  </tbody>\n",
       "</table>\n",
       "<p>402 rows × 2 columns</p>\n",
       "</div>"
      ],
      "text/plain": [
       "         actual_y     predict_y\n",
       "338   41919.09700  41790.587314\n",
       "620    3659.34600   5125.883492\n",
       "965    4746.34400   8112.734975\n",
       "128   32734.18630  32734.186300\n",
       "329    9144.56500  11848.126464\n",
       "...           ...           ...\n",
       "659   14394.39815  11848.126464\n",
       "893   44202.65360  41790.587314\n",
       "584    1242.81600   5125.883492\n",
       "1290   7133.90250   8112.734975\n",
       "302   12265.50690  11848.126464\n",
       "\n",
       "[402 rows x 2 columns]"
      ]
     },
     "execution_count": 100,
     "metadata": {},
     "output_type": "execute_result"
    }
   ],
   "source": [
    "data2"
   ]
  },
  {
   "cell_type": "markdown",
   "id": "b2244858",
   "metadata": {},
   "source": [
    "##### Analysing Error obtained using Decision Tree Regression"
   ]
  },
  {
   "cell_type": "code",
   "execution_count": 148,
   "id": "d473f792",
   "metadata": {},
   "outputs": [
    {
     "name": "stdout",
     "output_type": "stream",
     "text": [
      "Mean Squared Error: 20450476.25\n",
      "Mean Absolute Error: 2693.18\n",
      "Root Mean Squared Error: 4522.22\n"
     ]
    }
   ],
   "source": [
    "MSE2=round(mean_squared_error(y_test,y_predict_DT),2)\n",
    "MAE2=round(mean_absolute_error(y_test,y_predict_DT),2)\n",
    "RMSE2=round(mean_squared_error(y_test,y_predict_DT,squared=False),2)\n",
    "print('Mean Squared Error:',MSE2)\n",
    "print('Mean Absolute Error:',MAE2)\n",
    "print('Root Mean Squared Error:',RMSE2)"
   ]
  },
  {
   "cell_type": "code",
   "execution_count": null,
   "id": "527e32d6",
   "metadata": {},
   "outputs": [],
   "source": []
  },
  {
   "cell_type": "markdown",
   "id": "e092d177",
   "metadata": {},
   "source": [
    "### 3) Performing Random Forest Regression"
   ]
  },
  {
   "cell_type": "code",
   "execution_count": 176,
   "id": "88945f17",
   "metadata": {},
   "outputs": [],
   "source": [
    "rf=RandomForestRegressor()"
   ]
  },
  {
   "cell_type": "code",
   "execution_count": 126,
   "id": "c1550b58",
   "metadata": {},
   "outputs": [
    {
     "data": {
      "text/plain": [
       "RandomForestRegressor()"
      ]
     },
     "execution_count": 126,
     "metadata": {},
     "output_type": "execute_result"
    }
   ],
   "source": [
    "rf.fit(x_train,y_train)"
   ]
  },
  {
   "cell_type": "code",
   "execution_count": 109,
   "id": "e6b2bc69",
   "metadata": {},
   "outputs": [],
   "source": [
    "# Accuracy score on training Data"
   ]
  },
  {
   "cell_type": "code",
   "execution_count": 150,
   "id": "5c77e914",
   "metadata": {},
   "outputs": [
    {
     "data": {
      "text/plain": [
       "0.81204992974906"
      ]
     },
     "execution_count": 150,
     "metadata": {},
     "output_type": "execute_result"
    }
   ],
   "source": [
    "rf.score(x_train,y_train)  "
   ]
  },
  {
   "cell_type": "code",
   "execution_count": 127,
   "id": "89feb67f",
   "metadata": {},
   "outputs": [
    {
     "data": {
      "text/plain": [
       "RandomForestRegressor()"
      ]
     },
     "execution_count": 127,
     "metadata": {},
     "output_type": "execute_result"
    }
   ],
   "source": [
    "rf.fit(x_test,y_test)"
   ]
  },
  {
   "cell_type": "code",
   "execution_count": null,
   "id": "74982d40",
   "metadata": {},
   "outputs": [],
   "source": [
    "# Accuracy score on test Data"
   ]
  },
  {
   "cell_type": "code",
   "execution_count": 122,
   "id": "adc570fa",
   "metadata": {},
   "outputs": [
    {
     "data": {
      "text/plain": [
       "0.7837662497212484"
      ]
     },
     "execution_count": 122,
     "metadata": {},
     "output_type": "execute_result"
    }
   ],
   "source": [
    "rf.score(x_test,y_test) "
   ]
  },
  {
   "cell_type": "code",
   "execution_count": null,
   "id": "e2f5f21e",
   "metadata": {},
   "outputs": [],
   "source": []
  },
  {
   "cell_type": "markdown",
   "id": "e6bc0a06",
   "metadata": {},
   "source": [
    "##### Predicting y (label) using Random Forest Regressor"
   ]
  },
  {
   "cell_type": "code",
   "execution_count": 115,
   "id": "49009781",
   "metadata": {},
   "outputs": [],
   "source": [
    "y_predict_RF=rf.predict(x_test)"
   ]
  },
  {
   "cell_type": "code",
   "execution_count": 118,
   "id": "bd6dc520",
   "metadata": {},
   "outputs": [],
   "source": [
    "data3=pd.DataFrame()\n",
    "data3['actual_y']=y_test\n",
    "data3['predict_y']=y_predict_RF"
   ]
  },
  {
   "cell_type": "code",
   "execution_count": 119,
   "id": "8d48f971",
   "metadata": {},
   "outputs": [
    {
     "data": {
      "text/html": [
       "<div>\n",
       "<style scoped>\n",
       "    .dataframe tbody tr th:only-of-type {\n",
       "        vertical-align: middle;\n",
       "    }\n",
       "\n",
       "    .dataframe tbody tr th {\n",
       "        vertical-align: top;\n",
       "    }\n",
       "\n",
       "    .dataframe thead th {\n",
       "        text-align: right;\n",
       "    }\n",
       "</style>\n",
       "<table border=\"1\" class=\"dataframe\">\n",
       "  <thead>\n",
       "    <tr style=\"text-align: right;\">\n",
       "      <th></th>\n",
       "      <th>actual_y</th>\n",
       "      <th>predict_y</th>\n",
       "    </tr>\n",
       "  </thead>\n",
       "  <tbody>\n",
       "    <tr>\n",
       "      <th>338</th>\n",
       "      <td>41919.09700</td>\n",
       "      <td>41977.009647</td>\n",
       "    </tr>\n",
       "    <tr>\n",
       "      <th>620</th>\n",
       "      <td>3659.34600</td>\n",
       "      <td>4434.083365</td>\n",
       "    </tr>\n",
       "    <tr>\n",
       "      <th>965</th>\n",
       "      <td>4746.34400</td>\n",
       "      <td>7402.783185</td>\n",
       "    </tr>\n",
       "    <tr>\n",
       "      <th>128</th>\n",
       "      <td>32734.18630</td>\n",
       "      <td>16261.341187</td>\n",
       "    </tr>\n",
       "    <tr>\n",
       "      <th>329</th>\n",
       "      <td>9144.56500</td>\n",
       "      <td>23101.404549</td>\n",
       "    </tr>\n",
       "    <tr>\n",
       "      <th>...</th>\n",
       "      <td>...</td>\n",
       "      <td>...</td>\n",
       "    </tr>\n",
       "    <tr>\n",
       "      <th>659</th>\n",
       "      <td>14394.39815</td>\n",
       "      <td>11550.129161</td>\n",
       "    </tr>\n",
       "    <tr>\n",
       "      <th>893</th>\n",
       "      <td>44202.65360</td>\n",
       "      <td>44116.593849</td>\n",
       "    </tr>\n",
       "    <tr>\n",
       "      <th>584</th>\n",
       "      <td>1242.81600</td>\n",
       "      <td>2413.458263</td>\n",
       "    </tr>\n",
       "    <tr>\n",
       "      <th>1290</th>\n",
       "      <td>7133.90250</td>\n",
       "      <td>6181.178356</td>\n",
       "    </tr>\n",
       "    <tr>\n",
       "      <th>302</th>\n",
       "      <td>12265.50690</td>\n",
       "      <td>22219.611069</td>\n",
       "    </tr>\n",
       "  </tbody>\n",
       "</table>\n",
       "<p>402 rows × 2 columns</p>\n",
       "</div>"
      ],
      "text/plain": [
       "         actual_y     predict_y\n",
       "338   41919.09700  41977.009647\n",
       "620    3659.34600   4434.083365\n",
       "965    4746.34400   7402.783185\n",
       "128   32734.18630  16261.341187\n",
       "329    9144.56500  23101.404549\n",
       "...           ...           ...\n",
       "659   14394.39815  11550.129161\n",
       "893   44202.65360  44116.593849\n",
       "584    1242.81600   2413.458263\n",
       "1290   7133.90250   6181.178356\n",
       "302   12265.50690  22219.611069\n",
       "\n",
       "[402 rows x 2 columns]"
      ]
     },
     "execution_count": 119,
     "metadata": {},
     "output_type": "execute_result"
    }
   ],
   "source": [
    "data3"
   ]
  },
  {
   "cell_type": "markdown",
   "id": "d0ebef98",
   "metadata": {},
   "source": [
    "##### Analysing error obtained using Random Forest Regressor Model"
   ]
  },
  {
   "cell_type": "code",
   "execution_count": 149,
   "id": "fcecc6c4",
   "metadata": {},
   "outputs": [
    {
     "name": "stdout",
     "output_type": "stream",
     "text": [
      "Mean Squared Error: 31753150.56\n",
      "Mean Absolute Error: 3235.7\n",
      "Root Mean Squared Error: 5634.99\n"
     ]
    }
   ],
   "source": [
    "MSE3=round(mean_squared_error(y_test,y_predict_RF),2)\n",
    "MAE3=round(mean_absolute_error(y_test,y_predict_RF),2)\n",
    "RMSE3=round(mean_squared_error(y_test,y_predict_RF,squared=False),2)\n",
    "print('Mean Squared Error:',MSE3)\n",
    "print('Mean Absolute Error:',MAE3)\n",
    "print('Root Mean Squared Error:',RMSE3)"
   ]
  },
  {
   "cell_type": "code",
   "execution_count": null,
   "id": "3738ab3f",
   "metadata": {},
   "outputs": [],
   "source": []
  },
  {
   "cell_type": "markdown",
   "id": "1e187707",
   "metadata": {},
   "source": [
    "### Performing KNN Regression"
   ]
  },
  {
   "cell_type": "code",
   "execution_count": 156,
   "id": "f6bed495",
   "metadata": {},
   "outputs": [
    {
     "data": {
      "text/plain": [
       "KNeighborsRegressor()"
      ]
     },
     "execution_count": 156,
     "metadata": {},
     "output_type": "execute_result"
    }
   ],
   "source": [
    "model_knn=KNeighborsRegressor(5)\n",
    "model_knn.fit(x_train,y_train)"
   ]
  },
  {
   "cell_type": "code",
   "execution_count": null,
   "id": "6381e02e",
   "metadata": {},
   "outputs": [],
   "source": [
    "# Testing accuracy on train dataset"
   ]
  },
  {
   "cell_type": "code",
   "execution_count": 157,
   "id": "bf197157",
   "metadata": {},
   "outputs": [
    {
     "data": {
      "text/plain": [
       "0.8904785906144609"
      ]
     },
     "execution_count": 157,
     "metadata": {},
     "output_type": "execute_result"
    }
   ],
   "source": [
    "model_knn.score(x_train,y_train)"
   ]
  },
  {
   "cell_type": "code",
   "execution_count": 159,
   "id": "9cd357d9",
   "metadata": {},
   "outputs": [
    {
     "data": {
      "text/plain": [
       "KNeighborsRegressor()"
      ]
     },
     "execution_count": 159,
     "metadata": {},
     "output_type": "execute_result"
    }
   ],
   "source": [
    "model_knn.fit(x_test,y_test)"
   ]
  },
  {
   "cell_type": "code",
   "execution_count": null,
   "id": "b9209a05",
   "metadata": {},
   "outputs": [],
   "source": [
    "# Testing accuracy on test dataset"
   ]
  },
  {
   "cell_type": "code",
   "execution_count": 160,
   "id": "91ab7ac4",
   "metadata": {},
   "outputs": [
    {
     "data": {
      "text/plain": [
       "0.8696213326423864"
      ]
     },
     "execution_count": 160,
     "metadata": {},
     "output_type": "execute_result"
    }
   ],
   "source": [
    "model_knn.score(x_test,y_test) "
   ]
  },
  {
   "cell_type": "markdown",
   "id": "e927166f",
   "metadata": {},
   "source": [
    "##### Predicting y (label) with KNN regression"
   ]
  },
  {
   "cell_type": "code",
   "execution_count": 161,
   "id": "ad704256",
   "metadata": {},
   "outputs": [],
   "source": [
    "y_predict_KNN=model_knn.predict(x_test)"
   ]
  },
  {
   "cell_type": "code",
   "execution_count": 162,
   "id": "3315b44e",
   "metadata": {},
   "outputs": [],
   "source": [
    "data4=pd.DataFrame()\n",
    "data4['actual_y']=y_test\n",
    "data4['predict_y']=y_predict_KNN"
   ]
  },
  {
   "cell_type": "code",
   "execution_count": 163,
   "id": "399c2554",
   "metadata": {},
   "outputs": [
    {
     "data": {
      "text/html": [
       "<div>\n",
       "<style scoped>\n",
       "    .dataframe tbody tr th:only-of-type {\n",
       "        vertical-align: middle;\n",
       "    }\n",
       "\n",
       "    .dataframe tbody tr th {\n",
       "        vertical-align: top;\n",
       "    }\n",
       "\n",
       "    .dataframe thead th {\n",
       "        text-align: right;\n",
       "    }\n",
       "</style>\n",
       "<table border=\"1\" class=\"dataframe\">\n",
       "  <thead>\n",
       "    <tr style=\"text-align: right;\">\n",
       "      <th></th>\n",
       "      <th>actual_y</th>\n",
       "      <th>predict_y</th>\n",
       "    </tr>\n",
       "  </thead>\n",
       "  <tbody>\n",
       "    <tr>\n",
       "      <th>338</th>\n",
       "      <td>41919.09700</td>\n",
       "      <td>42261.64200</td>\n",
       "    </tr>\n",
       "    <tr>\n",
       "      <th>620</th>\n",
       "      <td>3659.34600</td>\n",
       "      <td>4344.66126</td>\n",
       "    </tr>\n",
       "    <tr>\n",
       "      <th>965</th>\n",
       "      <td>4746.34400</td>\n",
       "      <td>5137.50711</td>\n",
       "    </tr>\n",
       "    <tr>\n",
       "      <th>128</th>\n",
       "      <td>32734.18630</td>\n",
       "      <td>20287.40728</td>\n",
       "    </tr>\n",
       "    <tr>\n",
       "      <th>329</th>\n",
       "      <td>9144.56500</td>\n",
       "      <td>10370.29460</td>\n",
       "    </tr>\n",
       "    <tr>\n",
       "      <th>...</th>\n",
       "      <td>...</td>\n",
       "      <td>...</td>\n",
       "    </tr>\n",
       "    <tr>\n",
       "      <th>659</th>\n",
       "      <td>14394.39815</td>\n",
       "      <td>12217.22285</td>\n",
       "    </tr>\n",
       "    <tr>\n",
       "      <th>893</th>\n",
       "      <td>44202.65360</td>\n",
       "      <td>43631.50346</td>\n",
       "    </tr>\n",
       "    <tr>\n",
       "      <th>584</th>\n",
       "      <td>1242.81600</td>\n",
       "      <td>2079.70868</td>\n",
       "    </tr>\n",
       "    <tr>\n",
       "      <th>1290</th>\n",
       "      <td>7133.90250</td>\n",
       "      <td>6657.39093</td>\n",
       "    </tr>\n",
       "    <tr>\n",
       "      <th>302</th>\n",
       "      <td>12265.50690</td>\n",
       "      <td>11413.33559</td>\n",
       "    </tr>\n",
       "  </tbody>\n",
       "</table>\n",
       "<p>402 rows × 2 columns</p>\n",
       "</div>"
      ],
      "text/plain": [
       "         actual_y    predict_y\n",
       "338   41919.09700  42261.64200\n",
       "620    3659.34600   4344.66126\n",
       "965    4746.34400   5137.50711\n",
       "128   32734.18630  20287.40728\n",
       "329    9144.56500  10370.29460\n",
       "...           ...          ...\n",
       "659   14394.39815  12217.22285\n",
       "893   44202.65360  43631.50346\n",
       "584    1242.81600   2079.70868\n",
       "1290   7133.90250   6657.39093\n",
       "302   12265.50690  11413.33559\n",
       "\n",
       "[402 rows x 2 columns]"
      ]
     },
     "execution_count": 163,
     "metadata": {},
     "output_type": "execute_result"
    }
   ],
   "source": [
    "data4"
   ]
  },
  {
   "cell_type": "markdown",
   "id": "7c389743",
   "metadata": {},
   "source": [
    "##### Analysing error obtained while using KNN regression"
   ]
  },
  {
   "cell_type": "code",
   "execution_count": 164,
   "id": "b1c29058",
   "metadata": {},
   "outputs": [
    {
     "name": "stdout",
     "output_type": "stream",
     "text": [
      "Mean Squared Error: 18895567.65\n",
      "Mean Absolute Error: 2613.68\n",
      "Root Mean Squared Error: 4346.9\n"
     ]
    }
   ],
   "source": [
    "MSE4=round(mean_squared_error(y_test,y_predict_KNN),2)\n",
    "MAE4=round(mean_absolute_error(y_test,y_predict_KNN),2)\n",
    "RMSE4=round(mean_squared_error(y_test,y_predict_KNN,squared=False),2)\n",
    "print('Mean Squared Error:',MSE4)\n",
    "print('Mean Absolute Error:',MAE4)\n",
    "print('Root Mean Squared Error:',RMSE4)"
   ]
  },
  {
   "cell_type": "code",
   "execution_count": null,
   "id": "720dbe4d",
   "metadata": {},
   "outputs": [],
   "source": []
  },
  {
   "cell_type": "markdown",
   "id": "43e0f6cd",
   "metadata": {},
   "source": [
    "#### Comparing Linear Regression, Decision Tree Regression and Random Forest Regression Models"
   ]
  },
  {
   "cell_type": "code",
   "execution_count": null,
   "id": "cd5d4a62",
   "metadata": {},
   "outputs": [],
   "source": []
  },
  {
   "cell_type": "code",
   "execution_count": 172,
   "id": "84571127",
   "metadata": {},
   "outputs": [],
   "source": [
    "df_compare=pd.DataFrame()"
   ]
  },
  {
   "cell_type": "code",
   "execution_count": 173,
   "id": "61a1ea86",
   "metadata": {},
   "outputs": [],
   "source": [
    "df_compare['Model']=['Linear Regression','Decision Tree Regression','Random Forest Regression','KNN Regression']\n",
    "df_compare['Features']=['Smoker, Age, BMI','Smoker, Age, BMI','Smoker, Age, BMI','Smoker, Age, BMI']\n",
    "df_compare['Label']=['Charges','Charges','Charges','Charges']\n",
    "df_compare['MSE']=[MSE1,MSE2,MSE3,MSE4]\n",
    "df_compare['MAE']=[MAE1,MAE2,MAE3,MAE4]\n",
    "df_compare['RMSE']=[RMSE1,RMSE2,RMSE3,RMSE4]\n",
    "df_compare['R^2']=[round(coeff_Determ1,2),round(dtm.score(x_train,y_train),2),round(rf.score(x_train,y_train),2),round(model_knn.score(x_train,y_train),2)]"
   ]
  },
  {
   "cell_type": "code",
   "execution_count": null,
   "id": "4089b4dd",
   "metadata": {},
   "outputs": [],
   "source": []
  },
  {
   "cell_type": "code",
   "execution_count": 174,
   "id": "39fdf24e",
   "metadata": {},
   "outputs": [
    {
     "data": {
      "text/html": [
       "<div>\n",
       "<style scoped>\n",
       "    .dataframe tbody tr th:only-of-type {\n",
       "        vertical-align: middle;\n",
       "    }\n",
       "\n",
       "    .dataframe tbody tr th {\n",
       "        vertical-align: top;\n",
       "    }\n",
       "\n",
       "    .dataframe thead th {\n",
       "        text-align: right;\n",
       "    }\n",
       "</style>\n",
       "<table border=\"1\" class=\"dataframe\">\n",
       "  <thead>\n",
       "    <tr style=\"text-align: right;\">\n",
       "      <th></th>\n",
       "      <th>Model</th>\n",
       "      <th>Features</th>\n",
       "      <th>Label</th>\n",
       "      <th>MSE</th>\n",
       "      <th>MAE</th>\n",
       "      <th>RMSE</th>\n",
       "      <th>R^2</th>\n",
       "    </tr>\n",
       "  </thead>\n",
       "  <tbody>\n",
       "    <tr>\n",
       "      <th>0</th>\n",
       "      <td>Linear Regression</td>\n",
       "      <td>Smoker, Age, BMI</td>\n",
       "      <td>Charges</td>\n",
       "      <td>35321340.00</td>\n",
       "      <td>4128.22</td>\n",
       "      <td>5943.18</td>\n",
       "      <td>0.74</td>\n",
       "    </tr>\n",
       "    <tr>\n",
       "      <th>1</th>\n",
       "      <td>Decision Tree Regression</td>\n",
       "      <td>Smoker, Age, BMI</td>\n",
       "      <td>Charges</td>\n",
       "      <td>20450476.25</td>\n",
       "      <td>2693.18</td>\n",
       "      <td>4522.22</td>\n",
       "      <td>0.84</td>\n",
       "    </tr>\n",
       "    <tr>\n",
       "      <th>2</th>\n",
       "      <td>Random Forest Regression</td>\n",
       "      <td>Smoker, Age, BMI</td>\n",
       "      <td>Charges</td>\n",
       "      <td>31753150.56</td>\n",
       "      <td>3235.70</td>\n",
       "      <td>5634.99</td>\n",
       "      <td>0.81</td>\n",
       "    </tr>\n",
       "    <tr>\n",
       "      <th>3</th>\n",
       "      <td>KNN Regression</td>\n",
       "      <td>Smoker, Age, BMI</td>\n",
       "      <td>Charges</td>\n",
       "      <td>18895567.65</td>\n",
       "      <td>2613.68</td>\n",
       "      <td>4346.90</td>\n",
       "      <td>0.81</td>\n",
       "    </tr>\n",
       "  </tbody>\n",
       "</table>\n",
       "</div>"
      ],
      "text/plain": [
       "                      Model          Features    Label          MSE      MAE  \\\n",
       "0         Linear Regression  Smoker, Age, BMI  Charges  35321340.00  4128.22   \n",
       "1  Decision Tree Regression  Smoker, Age, BMI  Charges  20450476.25  2693.18   \n",
       "2  Random Forest Regression  Smoker, Age, BMI  Charges  31753150.56  3235.70   \n",
       "3            KNN Regression  Smoker, Age, BMI  Charges  18895567.65  2613.68   \n",
       "\n",
       "      RMSE   R^2  \n",
       "0  5943.18  0.74  \n",
       "1  4522.22  0.84  \n",
       "2  5634.99  0.81  \n",
       "3  4346.90  0.81  "
      ]
     },
     "execution_count": 174,
     "metadata": {},
     "output_type": "execute_result"
    }
   ],
   "source": [
    "df_compare"
   ]
  },
  {
   "cell_type": "code",
   "execution_count": null,
   "id": "f877952a",
   "metadata": {},
   "outputs": [],
   "source": []
  },
  {
   "cell_type": "markdown",
   "id": "0e364aeb",
   "metadata": {},
   "source": [
    "#### Conclusions:\n",
    "#### 1) Linear regression accounted for the maximum error with a R^2 value of 0.74\n",
    "#### 2) Random Forest Regression and KNN Regression had less error compared to Linear Regression and had a better R^2 value of 0.81\n",
    "#### 3) Decision Tree Regression had the best R^2 value of 0.84\n",
    "#### Therefore Decision Tree model gave us the best predictions followed by Random Forest Regression and lastly the Linear Regression model"
   ]
  },
  {
   "cell_type": "code",
   "execution_count": null,
   "id": "956e9fb5",
   "metadata": {},
   "outputs": [],
   "source": []
  }
 ],
 "metadata": {
  "kernelspec": {
   "display_name": "Python 3 (ipykernel)",
   "language": "python",
   "name": "python3"
  },
  "language_info": {
   "codemirror_mode": {
    "name": "ipython",
    "version": 3
   },
   "file_extension": ".py",
   "mimetype": "text/x-python",
   "name": "python",
   "nbconvert_exporter": "python",
   "pygments_lexer": "ipython3",
   "version": "3.9.12"
  }
 },
 "nbformat": 4,
 "nbformat_minor": 5
}
